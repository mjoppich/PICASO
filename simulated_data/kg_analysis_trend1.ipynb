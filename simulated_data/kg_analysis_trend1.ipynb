{
 "cells": [
  {
   "cell_type": "code",
   "execution_count": 1,
   "id": "ae1a1915-8080-4bd4-9a28-8cafa8c45934",
   "metadata": {},
   "outputs": [
    {
     "name": "stdout",
     "output_type": "stream",
     "text": [
      "['/home/j/joppich/.local/lib/python3.11/site-packages/', '../', '', '/opt/jhub/lib/python3.11/site-packages', '/opt/jhub/lib64/python3.11/site-packages', '/mnt/extproj/projekte/bartelt/software/miniconda3/envs/regnetworks/lib/python311.zip', '/mnt/extproj/projekte/bartelt/software/miniconda3/envs/regnetworks/lib/python3.11', '/mnt/extproj/projekte/bartelt/software/miniconda3/envs/regnetworks/lib/python3.11/lib-dynload', '/home/users/joppich/.local/lib/python3.11/site-packages', '/mnt/extproj/projekte/bartelt/software/miniconda3/envs/regnetworks/lib/python3.11/site-packages']\n"
     ]
    }
   ],
   "source": [
    "%load_ext autoreload\n",
    "\n",
    "import os, sys\n",
    "import networkx as nx\n",
    "\n",
    "sys.path.insert(0, \"../\")\n",
    "sys.path.insert(0, \"/home/j/joppich/.local/lib/python3.11/site-packages/\")\n",
    "print(sys.path)\n",
    "\n",
    "%autoreload 2\n",
    "from mikg.kgraph import *\n",
    "import pandas as pd\n",
    "import numpy as np\n",
    "\n",
    "import matplotlib\n",
    "import matplotlib.pyplot as plt\n",
    "import leidenalg as la\n",
    "\n",
    "from collections import defaultdict, Counter\n",
    "\n",
    "import random\n",
    "random.seed(42)\n",
    "\n",
    "import pickle"
   ]
  },
  {
   "cell_type": "code",
   "execution_count": 2,
   "id": "36ae4390-760f-473b-b2ad-6e3a399f86c2",
   "metadata": {},
   "outputs": [
    {
     "data": {
      "text/html": [
       "<div>\n",
       "<style scoped>\n",
       "    .dataframe tbody tr th:only-of-type {\n",
       "        vertical-align: middle;\n",
       "    }\n",
       "\n",
       "    .dataframe tbody tr th {\n",
       "        vertical-align: top;\n",
       "    }\n",
       "\n",
       "    .dataframe thead th {\n",
       "        text-align: right;\n",
       "    }\n",
       "</style>\n",
       "<table border=\"1\" class=\"dataframe\">\n",
       "  <thead>\n",
       "    <tr style=\"text-align: right;\">\n",
       "      <th></th>\n",
       "      <th>wildtype</th>\n",
       "      <th>stage1</th>\n",
       "      <th>stage2</th>\n",
       "      <th>stage3</th>\n",
       "      <th>geneset</th>\n",
       "      <th>trend</th>\n",
       "      <th>element_type</th>\n",
       "      <th>gene</th>\n",
       "    </tr>\n",
       "  </thead>\n",
       "  <tbody>\n",
       "    <tr>\n",
       "      <th>0</th>\n",
       "      <td>1</td>\n",
       "      <td>4</td>\n",
       "      <td>1</td>\n",
       "      <td>1</td>\n",
       "      <td>AMIT_EGF_RESPONSE_40_MCF10A</td>\n",
       "      <td>trend1</td>\n",
       "      <td>gene</td>\n",
       "      <td>ADM</td>\n",
       "    </tr>\n",
       "    <tr>\n",
       "      <th>1</th>\n",
       "      <td>1</td>\n",
       "      <td>4</td>\n",
       "      <td>1</td>\n",
       "      <td>1</td>\n",
       "      <td>AMIT_EGF_RESPONSE_40_MCF10A</td>\n",
       "      <td>trend1</td>\n",
       "      <td>gene</td>\n",
       "      <td>BUB1</td>\n",
       "    </tr>\n",
       "    <tr>\n",
       "      <th>2</th>\n",
       "      <td>1</td>\n",
       "      <td>4</td>\n",
       "      <td>1</td>\n",
       "      <td>1</td>\n",
       "      <td>AMIT_EGF_RESPONSE_40_MCF10A</td>\n",
       "      <td>trend1</td>\n",
       "      <td>gene</td>\n",
       "      <td>DUSP5</td>\n",
       "    </tr>\n",
       "    <tr>\n",
       "      <th>3</th>\n",
       "      <td>1</td>\n",
       "      <td>4</td>\n",
       "      <td>1</td>\n",
       "      <td>1</td>\n",
       "      <td>AMIT_EGF_RESPONSE_40_MCF10A</td>\n",
       "      <td>trend1</td>\n",
       "      <td>gene</td>\n",
       "      <td>EGR1</td>\n",
       "    </tr>\n",
       "    <tr>\n",
       "      <th>4</th>\n",
       "      <td>1</td>\n",
       "      <td>4</td>\n",
       "      <td>1</td>\n",
       "      <td>1</td>\n",
       "      <td>AMIT_EGF_RESPONSE_40_MCF10A</td>\n",
       "      <td>trend1</td>\n",
       "      <td>gene</td>\n",
       "      <td>EGR3</td>\n",
       "    </tr>\n",
       "    <tr>\n",
       "      <th>...</th>\n",
       "      <td>...</td>\n",
       "      <td>...</td>\n",
       "      <td>...</td>\n",
       "      <td>...</td>\n",
       "      <td>...</td>\n",
       "      <td>...</td>\n",
       "      <td>...</td>\n",
       "      <td>...</td>\n",
       "    </tr>\n",
       "    <tr>\n",
       "      <th>414</th>\n",
       "      <td>1</td>\n",
       "      <td>2</td>\n",
       "      <td>2</td>\n",
       "      <td>8</td>\n",
       "      <td>REACTOME_PI5P_REGULATES_TP53_ACETYLATION</td>\n",
       "      <td>trend4</td>\n",
       "      <td>gene</td>\n",
       "      <td>TP53</td>\n",
       "    </tr>\n",
       "    <tr>\n",
       "      <th>415</th>\n",
       "      <td>1</td>\n",
       "      <td>2</td>\n",
       "      <td>2</td>\n",
       "      <td>8</td>\n",
       "      <td>REACTOME_PI5P_REGULATES_TP53_ACETYLATION</td>\n",
       "      <td>trend4</td>\n",
       "      <td>tf</td>\n",
       "      <td>E2F1</td>\n",
       "    </tr>\n",
       "    <tr>\n",
       "      <th>416</th>\n",
       "      <td>1</td>\n",
       "      <td>2</td>\n",
       "      <td>2</td>\n",
       "      <td>8</td>\n",
       "      <td>REACTOME_PI5P_REGULATES_TP53_ACETYLATION</td>\n",
       "      <td>trend4</td>\n",
       "      <td>tf</td>\n",
       "      <td>SP1</td>\n",
       "    </tr>\n",
       "    <tr>\n",
       "      <th>417</th>\n",
       "      <td>1</td>\n",
       "      <td>2</td>\n",
       "      <td>2</td>\n",
       "      <td>8</td>\n",
       "      <td>REACTOME_PI5P_REGULATES_TP53_ACETYLATION</td>\n",
       "      <td>trend4</td>\n",
       "      <td>tf</td>\n",
       "      <td>STAT1</td>\n",
       "    </tr>\n",
       "    <tr>\n",
       "      <th>418</th>\n",
       "      <td>1</td>\n",
       "      <td>2</td>\n",
       "      <td>2</td>\n",
       "      <td>8</td>\n",
       "      <td>REACTOME_PI5P_REGULATES_TP53_ACETYLATION</td>\n",
       "      <td>trend4</td>\n",
       "      <td>tf</td>\n",
       "      <td>EGR1</td>\n",
       "    </tr>\n",
       "  </tbody>\n",
       "</table>\n",
       "<p>419 rows × 8 columns</p>\n",
       "</div>"
      ],
      "text/plain": [
       "     wildtype  stage1  stage2  stage3  \\\n",
       "0           1       4       1       1   \n",
       "1           1       4       1       1   \n",
       "2           1       4       1       1   \n",
       "3           1       4       1       1   \n",
       "4           1       4       1       1   \n",
       "..        ...     ...     ...     ...   \n",
       "414         1       2       2       8   \n",
       "415         1       2       2       8   \n",
       "416         1       2       2       8   \n",
       "417         1       2       2       8   \n",
       "418         1       2       2       8   \n",
       "\n",
       "                                      geneset   trend element_type   gene  \n",
       "0                 AMIT_EGF_RESPONSE_40_MCF10A  trend1         gene    ADM  \n",
       "1                 AMIT_EGF_RESPONSE_40_MCF10A  trend1         gene   BUB1  \n",
       "2                 AMIT_EGF_RESPONSE_40_MCF10A  trend1         gene  DUSP5  \n",
       "3                 AMIT_EGF_RESPONSE_40_MCF10A  trend1         gene   EGR1  \n",
       "4                 AMIT_EGF_RESPONSE_40_MCF10A  trend1         gene   EGR3  \n",
       "..                                        ...     ...          ...    ...  \n",
       "414  REACTOME_PI5P_REGULATES_TP53_ACETYLATION  trend4         gene   TP53  \n",
       "415  REACTOME_PI5P_REGULATES_TP53_ACETYLATION  trend4           tf   E2F1  \n",
       "416  REACTOME_PI5P_REGULATES_TP53_ACETYLATION  trend4           tf    SP1  \n",
       "417  REACTOME_PI5P_REGULATES_TP53_ACETYLATION  trend4           tf  STAT1  \n",
       "418  REACTOME_PI5P_REGULATES_TP53_ACETYLATION  trend4           tf   EGR1  \n",
       "\n",
       "[419 rows x 8 columns]"
      ]
     },
     "execution_count": 2,
     "metadata": {},
     "output_type": "execute_result"
    }
   ],
   "source": [
    "simulatedGenes = pd.read_csv(\"./simulated_changes_detail.tsv\", sep=\"\\t\")\n",
    "simulatedGenes"
   ]
  },
  {
   "cell_type": "code",
   "execution_count": 3,
   "id": "6e1fdef3-2041-4ca4-8abb-840ecfdf1b83",
   "metadata": {},
   "outputs": [
    {
     "data": {
      "text/plain": [
       "{'AMIT_EGF_RESPONSE_40_MCF10A',\n",
       " 'BIOCARTA_ERBB3_PATHWAY',\n",
       " 'BIOCARTA_FEEDER_PATHWAY',\n",
       " 'BIOCARTA_IL22BP_PATHWAY',\n",
       " 'BIOCARTA_RNAPOL3_PATHWAY',\n",
       " 'BIOCARTA_SARS_PATHWAY',\n",
       " 'BIOCARTA_SET_PATHWAY',\n",
       " 'CAFFAREL_RESPONSE_TO_THC_8HR_5_UP',\n",
       " 'DACOSTA_LOW_DOSE_UV_RESPONSE_VIA_ERCC3_XPCS_DN',\n",
       " 'DASU_IL6_SIGNALING_DN',\n",
       " 'FARDIN_HYPOXIA_9',\n",
       " 'FINETTI_BREAST_CANCER_KINOME_RED',\n",
       " 'GHO_ATF5_TARGETS_UP',\n",
       " 'GREENBAUM_E2A_TARGETS_DN',\n",
       " 'HEDENFALK_BREAST_CANCER_BRACX_UP',\n",
       " 'IIZUKA_LIVER_CANCER_EARLY_RECURRENCE',\n",
       " 'IIZUKA_LIVER_CANCER_PROGRESSION_G2_G3_DN',\n",
       " 'IM_SREBF1A_TARGETS',\n",
       " 'KEGG_MEDICUS_REFERENCE_AUTOPHAGY_VESICLE_NUCLEATION_ELONGATION_MATURATION_E3_UBIQUITIN_LIGASE_MALIN',\n",
       " 'KEGG_MEDICUS_REFERENCE_COPII_VESICLE_FORMATION',\n",
       " 'KEGG_MEDICUS_REFERENCE_II_BLOOD_GROUP_ANTIGEN_BIOSYNTHESIS',\n",
       " 'KEGG_MEDICUS_REFERENCE_REGULATION_OF_GF_RTK_RAS_ERK_SIGNALING_MRAS_SHOC2_PP1_HOLOPHOSPHATASE',\n",
       " 'KIM_GERMINAL_CENTER_T_HELPER_DN',\n",
       " 'MCBRYAN_TERMINAL_END_BUD_DN',\n",
       " 'MONTERO_THYROID_CANCER_POOR_SURVIVAL_DN',\n",
       " 'MUNSHI_MULTIPLE_MYELOMA_DN',\n",
       " 'PETRETTO_LEFT_VENTRICLE_MASS_QTL_CIS_DN',\n",
       " 'RAMPON_ENRICHED_LEARNING_ENVIRONMENT_EARLY_DN',\n",
       " 'REACTOME_APOBEC3G_MEDIATED_RESISTANCE_TO_HIV_1_INFECTION',\n",
       " 'REACTOME_ATTACHMENT_OF_GPI_ANCHOR_TO_UPAR',\n",
       " 'REACTOME_COBALAMIN_CBL_METABOLISM',\n",
       " 'REACTOME_GLUTAMATE_AND_GLUTAMINE_METABOLISM',\n",
       " 'REACTOME_GLYCOSPHINGOLIPID_BIOSYNTHESIS',\n",
       " 'REACTOME_MITOCHONDRIAL_RNA_DEGRADATION',\n",
       " 'REACTOME_PHENYLALANINE_AND_TYROSINE_METABOLISM',\n",
       " 'REACTOME_PHENYLALANINE_METABOLISM',\n",
       " 'REACTOME_PI5P_REGULATES_TP53_ACETYLATION',\n",
       " 'STONER_ESOPHAGEAL_CARCINOGENESIS_DN',\n",
       " 'TSUDA_ALVEOLAR_SOFT_PART_SARCOMA',\n",
       " 'ZIRN_TRETINOIN_RESPONSE_DN'}"
      ]
     },
     "execution_count": 3,
     "metadata": {},
     "output_type": "execute_result"
    }
   ],
   "source": [
    "set(simulatedGenes[\"geneset\"])"
   ]
  },
  {
   "cell_type": "code",
   "execution_count": 4,
   "id": "b11e0f7c-a932-4927-bc65-aa5264fe62fa",
   "metadata": {},
   "outputs": [
    {
     "data": {
      "text/html": [
       "<div>\n",
       "<style scoped>\n",
       "    .dataframe tbody tr th:only-of-type {\n",
       "        vertical-align: middle;\n",
       "    }\n",
       "\n",
       "    .dataframe tbody tr th {\n",
       "        vertical-align: top;\n",
       "    }\n",
       "\n",
       "    .dataframe thead th {\n",
       "        text-align: right;\n",
       "    }\n",
       "</style>\n",
       "<table border=\"1\" class=\"dataframe\">\n",
       "  <thead>\n",
       "    <tr style=\"text-align: right;\">\n",
       "      <th></th>\n",
       "      <th>TF</th>\n",
       "      <th>gene</th>\n",
       "    </tr>\n",
       "  </thead>\n",
       "  <tbody>\n",
       "    <tr>\n",
       "      <th>0</th>\n",
       "      <td>CEBPB</td>\n",
       "      <td>ADM</td>\n",
       "    </tr>\n",
       "    <tr>\n",
       "      <th>1</th>\n",
       "      <td>TP53</td>\n",
       "      <td>EGR1</td>\n",
       "    </tr>\n",
       "    <tr>\n",
       "      <th>2</th>\n",
       "      <td>NFATC2</td>\n",
       "      <td>EGR3</td>\n",
       "    </tr>\n",
       "    <tr>\n",
       "      <th>3</th>\n",
       "      <td>FOS</td>\n",
       "      <td>FOS</td>\n",
       "    </tr>\n",
       "    <tr>\n",
       "      <th>4</th>\n",
       "      <td>JUN</td>\n",
       "      <td>FOS</td>\n",
       "    </tr>\n",
       "    <tr>\n",
       "      <th>...</th>\n",
       "      <td>...</td>\n",
       "      <td>...</td>\n",
       "    </tr>\n",
       "    <tr>\n",
       "      <th>119</th>\n",
       "      <td>SP1</td>\n",
       "      <td>UGCG</td>\n",
       "    </tr>\n",
       "    <tr>\n",
       "      <th>120</th>\n",
       "      <td>EGR1</td>\n",
       "      <td>EP300</td>\n",
       "    </tr>\n",
       "    <tr>\n",
       "      <th>121</th>\n",
       "      <td>E2F1</td>\n",
       "      <td>PIN1</td>\n",
       "    </tr>\n",
       "    <tr>\n",
       "      <th>122</th>\n",
       "      <td>HMGA1</td>\n",
       "      <td>TP53</td>\n",
       "    </tr>\n",
       "    <tr>\n",
       "      <th>123</th>\n",
       "      <td>TP53</td>\n",
       "      <td>TP53</td>\n",
       "    </tr>\n",
       "  </tbody>\n",
       "</table>\n",
       "<p>124 rows × 2 columns</p>\n",
       "</div>"
      ],
      "text/plain": [
       "         TF   gene\n",
       "0     CEBPB    ADM\n",
       "1      TP53   EGR1\n",
       "2    NFATC2   EGR3\n",
       "3       FOS    FOS\n",
       "4       JUN    FOS\n",
       "..      ...    ...\n",
       "119     SP1   UGCG\n",
       "120    EGR1  EP300\n",
       "121    E2F1   PIN1\n",
       "122   HMGA1   TP53\n",
       "123    TP53   TP53\n",
       "\n",
       "[124 rows x 2 columns]"
      ]
     },
     "execution_count": 4,
     "metadata": {},
     "output_type": "execute_result"
    }
   ],
   "source": [
    "simulatedNetwork = pd.read_csv(\"./simulated_network.tsv\", sep=\"\\t\", usecols=[\"TF\", \"gene\"])\n",
    "simulatedNetwork"
   ]
  },
  {
   "cell_type": "code",
   "execution_count": 5,
   "id": "5917f7be-e5cd-42d0-aa3a-556d486a4ddb",
   "metadata": {},
   "outputs": [],
   "source": [
    "trend2gene = defaultdict(set)\n",
    "trend2pathways = defaultdict(set)\n",
    "pathways2genes = defaultdict(set)\n",
    "gene2type = defaultdict(set)\n",
    "gene2trends = defaultdict(set)\n",
    "\n",
    "for ri, row in simulatedGenes.iterrows():\n",
    "\n",
    "    trend2gene[row[\"trend\"]].add(row[\"gene\"])\n",
    "    trend2pathways[row[\"trend\"]].add(row[\"geneset\"])\n",
    "    pathways2genes[row[\"geneset\"]].add(row[\"gene\"])\n",
    "\n",
    "    gene2type[row[\"gene\"]].add(row[\"element_type\"])\n",
    "    gene2trends[row[\"gene\"]].add(row[\"trend\"])\n",
    "    "
   ]
  },
  {
   "cell_type": "code",
   "execution_count": 6,
   "id": "38804e86-0f05-4fc5-8f0f-6453d4bdd4f0",
   "metadata": {},
   "outputs": [
    {
     "name": "stdout",
     "output_type": "stream",
     "text": [
      "trend1 10 141\n",
      "trend2 10 100\n",
      "trend3 10 89\n",
      "trend4 10 79\n"
     ]
    }
   ],
   "source": [
    "for trend in trend2pathways:\n",
    "    print(trend, len(trend2pathways[trend]), len(trend2gene[trend]))"
   ]
  },
  {
   "cell_type": "code",
   "execution_count": 7,
   "id": "4201e962-3bf6-4f09-a391-3ff891885a39",
   "metadata": {},
   "outputs": [],
   "source": [
    "stageSort = {\n",
    "    \"wildtype\": 0,\n",
    "    \"stage1\": 1,\n",
    "    \"stage2\": 2,\n",
    "    \"stage3\": 3\n",
    "}\n",
    "\n",
    "basedir = \"comms\""
   ]
  },
  {
   "cell_type": "code",
   "execution_count": 8,
   "id": "5488a260-86eb-45a3-96c9-915cf5aab51b",
   "metadata": {},
   "outputs": [],
   "source": [
    "kg = KGraph()\n",
    "kg.load_kgraph(\"../data/initial_base_graph.out\")"
   ]
  },
  {
   "cell_type": "code",
   "execution_count": 9,
   "id": "563b3c42-c33c-4dd2-8550-4295ef8ce0e6",
   "metadata": {},
   "outputs": [
    {
     "data": {
      "text/plain": [
       "KGraph KGraph with 111032 nodes and 1617389 edges"
      ]
     },
     "execution_count": 9,
     "metadata": {},
     "output_type": "execute_result"
    }
   ],
   "source": [
    "kg"
   ]
  },
  {
   "cell_type": "code",
   "execution_count": 10,
   "id": "4d8f343f-6ced-4ec0-a1c8-895003edd032",
   "metadata": {},
   "outputs": [
    {
     "data": {
      "text/plain": [
       "Counter({('gene', 'geneset'): 841157,\n",
       "         ('gene', 'gene'): 344408,\n",
       "         ('TF;gene', 'gene'): 95771,\n",
       "         ('geneset', 'geneset'): 74634,\n",
       "         ('TF;gene', 'geneset'): 74544,\n",
       "         ('gene', 'disease'): 43297,\n",
       "         ('gene', 'geneset;subcellular_location'): 40554,\n",
       "         ('disease', 'drug'): 35017,\n",
       "         ('gene', 'TF;gene'): 19994,\n",
       "         ('TF;gene', 'TF;gene'): 16120,\n",
       "         ('gene', 'drug'): 7899,\n",
       "         ('miRNA;ncRNA', 'gene'): 7848,\n",
       "         ('TF;gene', 'disease'): 5105,\n",
       "         ('TF;gene', 'miRNA;ncRNA'): 2099,\n",
       "         ('TF;gene', 'geneset;subcellular_location'): 2043,\n",
       "         ('miRNA;ncRNA', 'TF;gene'): 1808,\n",
       "         ('gene', 'disease;geneset'): 1714,\n",
       "         ('geneset;subcellular_location', 'geneset;subcellular_location'): 721,\n",
       "         ('gene', 'miRNA;ncRNA'): 651,\n",
       "         ('geneset;subcellular_location', 'geneset'): 460,\n",
       "         ('gene;lncRNA;ncRNA', 'geneset'): 444,\n",
       "         ('TF;gene', 'drug'): 341,\n",
       "         ('geneset', 'disease;geneset'): 200,\n",
       "         ('TF;gene', 'disease;geneset'): 147,\n",
       "         ('gene;lncRNA;ncRNA', 'gene'): 120,\n",
       "         ('disease;geneset', 'geneset'): 95,\n",
       "         ('lncRNA;ncRNA', 'gene'): 49,\n",
       "         ('gene', 'gene;lncRNA;ncRNA'): 36,\n",
       "         ('disease;geneset', 'drug'): 34,\n",
       "         ('gene;lncRNA;ncRNA', 'TF;gene'): 33,\n",
       "         ('TF;gene', 'gene;lncRNA;ncRNA'): 20,\n",
       "         ('lncRNA;ncRNA', 'TF;gene'): 12,\n",
       "         ('gene;lncRNA;ncRNA', 'geneset;subcellular_location'): 6,\n",
       "         ('disease;geneset', 'disease;geneset'): 5,\n",
       "         ('lncRNA;ncRNA', 'lncRNA;ncRNA'): 2,\n",
       "         ('gene;lncRNA;ncRNA', 'disease'): 1})"
      ]
     },
     "execution_count": 10,
     "metadata": {},
     "output_type": "execute_result"
    }
   ],
   "source": [
    "kg.get_edge_between_type()"
   ]
  },
  {
   "cell_type": "code",
   "execution_count": 11,
   "id": "2205c9cf-7be1-4cbd-9490-cb5e5b4eb135",
   "metadata": {},
   "outputs": [
    {
     "name": "stdout",
     "output_type": "stream",
     "text": [
      "FOS FOS False\n",
      "JUN JUN False\n",
      "TNFAIP3 JUN False\n",
      "RBMX JUND False\n",
      "ZFP36 VEGFA False\n",
      "ZFP36L1 VEGFA False\n",
      "RBMX JUNB False\n",
      "SMAD4 PDGFRA False\n",
      "APC SGK1 False\n",
      "PER1 BAX False\n",
      "IRF1 MAPK14 False\n",
      "SERTAD1 SET False\n",
      "TP53 TP53 False\n",
      "111 124 0.8951612903225806\n"
     ]
    }
   ],
   "source": [
    "containedEdges = 0\n",
    "for ri, row in simulatedNetwork.iterrows():\n",
    "    edgeContained = (row[\"TF\"], row[\"gene\"]) in kg.kg.edges\n",
    "    if edgeContained:\n",
    "        containedEdges += 1\n",
    "\n",
    "    if not edgeContained:\n",
    "        print(row[\"TF\"], row[\"gene\"], edgeContained)\n",
    "\n",
    "print(containedEdges, ri+1, containedEdges/(ri+1))"
   ]
  },
  {
   "cell_type": "code",
   "execution_count": 12,
   "id": "021be5a4-1f3a-42c2-b852-770a9d6ec18a",
   "metadata": {},
   "outputs": [
    {
     "data": {
      "text/html": [
       "<div>\n",
       "<style scoped>\n",
       "    .dataframe tbody tr th:only-of-type {\n",
       "        vertical-align: middle;\n",
       "    }\n",
       "\n",
       "    .dataframe tbody tr th {\n",
       "        vertical-align: top;\n",
       "    }\n",
       "\n",
       "    .dataframe thead th {\n",
       "        text-align: right;\n",
       "    }\n",
       "</style>\n",
       "<table border=\"1\" class=\"dataframe\">\n",
       "  <thead>\n",
       "    <tr style=\"text-align: right;\">\n",
       "      <th></th>\n",
       "      <th>TF</th>\n",
       "      <th>gene</th>\n",
       "    </tr>\n",
       "  </thead>\n",
       "  <tbody>\n",
       "    <tr>\n",
       "      <th>0</th>\n",
       "      <td>CEBPB</td>\n",
       "      <td>ADM</td>\n",
       "    </tr>\n",
       "    <tr>\n",
       "      <th>1</th>\n",
       "      <td>TP53</td>\n",
       "      <td>EGR1</td>\n",
       "    </tr>\n",
       "    <tr>\n",
       "      <th>2</th>\n",
       "      <td>NFATC2</td>\n",
       "      <td>EGR3</td>\n",
       "    </tr>\n",
       "    <tr>\n",
       "      <th>3</th>\n",
       "      <td>FOS</td>\n",
       "      <td>FOS</td>\n",
       "    </tr>\n",
       "    <tr>\n",
       "      <th>4</th>\n",
       "      <td>JUN</td>\n",
       "      <td>FOS</td>\n",
       "    </tr>\n",
       "  </tbody>\n",
       "</table>\n",
       "</div>"
      ],
      "text/plain": [
       "       TF  gene\n",
       "0   CEBPB   ADM\n",
       "1    TP53  EGR1\n",
       "2  NFATC2  EGR3\n",
       "3     FOS   FOS\n",
       "4     JUN   FOS"
      ]
     },
     "execution_count": 12,
     "metadata": {},
     "output_type": "execute_result"
    }
   ],
   "source": [
    "simNetwork = pd.read_csv(\"./simulated_network.tsv\", sep=\"\\t\")\n",
    "simNetwork.head()"
   ]
  },
  {
   "cell_type": "code",
   "execution_count": 13,
   "id": "69aa8129-e338-4f8d-99cb-e5c5fdca0ab0",
   "metadata": {},
   "outputs": [
    {
     "name": "stdout",
     "output_type": "stream",
     "text": [
      "('FOS', 'FOS') False False\n",
      "('JUN', 'JUN') False False\n",
      "('RBMX', 'JUND') False False\n",
      "('ZFP36', 'VEGFA') False False\n",
      "('ZFP36L1', 'VEGFA') False False\n",
      "('RBMX', 'JUNB') False False\n",
      "('SMAD4', 'PDGFRA') False False\n",
      "('APC', 'SGK1') False False\n",
      "('PER1', 'BAX') False False\n",
      "('IRF1', 'MAPK14') False False\n",
      "('SERTAD1', 'SET') False False\n",
      "('TP53', 'TP53') False False\n"
     ]
    }
   ],
   "source": [
    "for ri, row in simNetwork.iterrows():\n",
    "    et = (row[\"TF\"], row[\"gene\"])\n",
    "    edge = et in kg.kg.edges\n",
    "    edge_r = tuple(et[::-1]) in kg.kg.edges\n",
    "\n",
    "    if not edge and not edge_r:\n",
    "        print(et, edge, edge_r)\n",
    "    "
   ]
  },
  {
   "cell_type": "code",
   "execution_count": 14,
   "id": "b9d4105d-489a-48be-a950-b9f6328fb35e",
   "metadata": {},
   "outputs": [],
   "source": [
    "exprDF = pd.read_csv(\"./expression_simulated_mean_df.tsv\", sep=\"\\t\")"
   ]
  },
  {
   "cell_type": "code",
   "execution_count": 15,
   "id": "44c1bcc6-5794-49f1-ac66-d8b870f953cc",
   "metadata": {},
   "outputs": [
    {
     "data": {
      "text/html": [
       "<div>\n",
       "<style scoped>\n",
       "    .dataframe tbody tr th:only-of-type {\n",
       "        vertical-align: middle;\n",
       "    }\n",
       "\n",
       "    .dataframe tbody tr th {\n",
       "        vertical-align: top;\n",
       "    }\n",
       "\n",
       "    .dataframe thead th {\n",
       "        text-align: right;\n",
       "    }\n",
       "</style>\n",
       "<table border=\"1\" class=\"dataframe\">\n",
       "  <thead>\n",
       "    <tr style=\"text-align: right;\">\n",
       "      <th></th>\n",
       "      <th>group</th>\n",
       "      <th>gene</th>\n",
       "      <th>min</th>\n",
       "      <th>percentile_25</th>\n",
       "      <th>median</th>\n",
       "      <th>percentile_75</th>\n",
       "      <th>max</th>\n",
       "      <th>mean</th>\n",
       "      <th>num</th>\n",
       "      <th>sd</th>\n",
       "      <th>group_cells</th>\n",
       "      <th>perc_expr</th>\n",
       "    </tr>\n",
       "  </thead>\n",
       "  <tbody>\n",
       "    <tr>\n",
       "      <th>0</th>\n",
       "      <td>stage1</td>\n",
       "      <td>A1BG</td>\n",
       "      <td>0.135103</td>\n",
       "      <td>0.299755</td>\n",
       "      <td>0.369649</td>\n",
       "      <td>0.448072</td>\n",
       "      <td>0.762750</td>\n",
       "      <td>0.381845</td>\n",
       "      <td>69</td>\n",
       "      <td>0.123641</td>\n",
       "      <td>5419</td>\n",
       "      <td>0.012733</td>\n",
       "    </tr>\n",
       "    <tr>\n",
       "      <th>1</th>\n",
       "      <td>stage1</td>\n",
       "      <td>A1BG.AS1</td>\n",
       "      <td>0.138112</td>\n",
       "      <td>0.319603</td>\n",
       "      <td>0.387099</td>\n",
       "      <td>0.479105</td>\n",
       "      <td>1.044375</td>\n",
       "      <td>0.404958</td>\n",
       "      <td>308</td>\n",
       "      <td>0.144913</td>\n",
       "      <td>5419</td>\n",
       "      <td>0.056837</td>\n",
       "    </tr>\n",
       "    <tr>\n",
       "      <th>2</th>\n",
       "      <td>stage1</td>\n",
       "      <td>A2M</td>\n",
       "      <td>0.119602</td>\n",
       "      <td>0.361211</td>\n",
       "      <td>0.468807</td>\n",
       "      <td>0.657032</td>\n",
       "      <td>2.089658</td>\n",
       "      <td>0.528361</td>\n",
       "      <td>746</td>\n",
       "      <td>0.244020</td>\n",
       "      <td>5419</td>\n",
       "      <td>0.137664</td>\n",
       "    </tr>\n",
       "    <tr>\n",
       "      <th>3</th>\n",
       "      <td>stage1</td>\n",
       "      <td>A2M.AS1</td>\n",
       "      <td>0.133371</td>\n",
       "      <td>0.304632</td>\n",
       "      <td>0.382526</td>\n",
       "      <td>0.477938</td>\n",
       "      <td>0.992434</td>\n",
       "      <td>0.397057</td>\n",
       "      <td>321</td>\n",
       "      <td>0.133843</td>\n",
       "      <td>5419</td>\n",
       "      <td>0.059236</td>\n",
       "    </tr>\n",
       "    <tr>\n",
       "      <th>4</th>\n",
       "      <td>stage1</td>\n",
       "      <td>A2ML1.AS1</td>\n",
       "      <td>0.119602</td>\n",
       "      <td>0.388011</td>\n",
       "      <td>0.509231</td>\n",
       "      <td>0.755049</td>\n",
       "      <td>2.050669</td>\n",
       "      <td>0.600180</td>\n",
       "      <td>747</td>\n",
       "      <td>0.296454</td>\n",
       "      <td>5419</td>\n",
       "      <td>0.137848</td>\n",
       "    </tr>\n",
       "  </tbody>\n",
       "</table>\n",
       "</div>"
      ],
      "text/plain": [
       "    group       gene       min  percentile_25    median  percentile_75  \\\n",
       "0  stage1       A1BG  0.135103       0.299755  0.369649       0.448072   \n",
       "1  stage1   A1BG.AS1  0.138112       0.319603  0.387099       0.479105   \n",
       "2  stage1        A2M  0.119602       0.361211  0.468807       0.657032   \n",
       "3  stage1    A2M.AS1  0.133371       0.304632  0.382526       0.477938   \n",
       "4  stage1  A2ML1.AS1  0.119602       0.388011  0.509231       0.755049   \n",
       "\n",
       "        max      mean  num        sd  group_cells  perc_expr  \n",
       "0  0.762750  0.381845   69  0.123641         5419   0.012733  \n",
       "1  1.044375  0.404958  308  0.144913         5419   0.056837  \n",
       "2  2.089658  0.528361  746  0.244020         5419   0.137664  \n",
       "3  0.992434  0.397057  321  0.133843         5419   0.059236  \n",
       "4  2.050669  0.600180  747  0.296454         5419   0.137848  "
      ]
     },
     "execution_count": 15,
     "metadata": {},
     "output_type": "execute_result"
    }
   ],
   "source": [
    "exprDF.head()"
   ]
  },
  {
   "cell_type": "code",
   "execution_count": 16,
   "id": "49ec5cd1-330e-459c-a72c-69cb71dfe4f0",
   "metadata": {},
   "outputs": [
    {
     "name": "stdout",
     "output_type": "stream",
     "text": [
      "['wildtype', 'stage1', 'stage2', 'stage3']\n"
     ]
    }
   ],
   "source": [
    "exprDFs = {}\n",
    "\n",
    "for group in sorted(exprDF.group.unique(), key=lambda x: stageSort.get(x, -1)):\n",
    "    exprDFs[group] = exprDF[exprDF.group == group].copy()\n",
    "\n",
    "print([x for x in exprDFs])"
   ]
  },
  {
   "cell_type": "code",
   "execution_count": 17,
   "id": "7a2c6902-ab5d-452c-8de9-60b713d44f2c",
   "metadata": {},
   "outputs": [
    {
     "data": {
      "text/plain": [
       "Counter({'geneset': 55163,\n",
       "         'gene': 41990,\n",
       "         'disease': 7781,\n",
       "         'drug': 3195,\n",
       "         'TF;gene': 1630,\n",
       "         'miRNA;ncRNA': 593,\n",
       "         'geneset;subcellular_location': 557,\n",
       "         'disease;geneset': 61,\n",
       "         'lncRNA;ncRNA': 36,\n",
       "         'gene;lncRNA;ncRNA': 26})"
      ]
     },
     "execution_count": 17,
     "metadata": {},
     "output_type": "execute_result"
    }
   ],
   "source": [
    "kg.get_node_types()"
   ]
  },
  {
   "cell_type": "code",
   "execution_count": 18,
   "id": "c85b2ad8-25da-4f5c-90de-029b7155bbaa",
   "metadata": {},
   "outputs": [
    {
     "data": {
      "text/plain": [
       "Counter({'part_of': 748950,\n",
       "         'interacts': 434239,\n",
       "         'relevant_in': 205461,\n",
       "         'activates': 158390,\n",
       "         'affected_by': 35051,\n",
       "         'represses': 27058,\n",
       "         'target_of': 8240})"
      ]
     },
     "execution_count": 18,
     "metadata": {},
     "output_type": "execute_result"
    }
   ],
   "source": [
    "kg.get_edge_types()"
   ]
  },
  {
   "cell_type": "code",
   "execution_count": null,
   "id": "d8701234-f6c4-457f-a10b-0310bcd3e824",
   "metadata": {},
   "outputs": [
    {
     "name": "stdout",
     "output_type": "stream",
     "text": [
      "wildtype\n",
      "Measured Genes 15099\n",
      "Found Genes 14018\n"
     ]
    },
    {
     "name": "stderr",
     "output_type": "stream",
     "text": [
      "/mnt/raidbio/extproj/projekte/regulatory_networks/simulated_data/../mikg/kgraph.py:1698: RuntimeWarning: invalid value encountered in scalar divide\n",
      "  edge_zscore = (edge_score-etype2mean[etype])/etype2std[etype]\n"
     ]
    },
    {
     "name": "stdout",
     "output_type": "stream",
     "text": [
      "Processed 7884 of 43646 target nodes for settype=disease and targettype=gene\n",
      "Processed 42878 of 43646 target nodes for settype=geneset and targettype=gene\n",
      "Processed 3390 of 43646 target nodes for settype=ncRNA and targettype=gene\n",
      "stage1\n",
      "Measured Genes 15099\n",
      "Found Genes 14019\n",
      "Processed 7884 of 43646 target nodes for settype=disease and targettype=gene\n",
      "Processed 42878 of 43646 target nodes for settype=geneset and targettype=gene\n",
      "Processed 3390 of 43646 target nodes for settype=ncRNA and targettype=gene\n",
      "stage2\n",
      "Measured Genes 15096\n",
      "Found Genes 14015\n"
     ]
    }
   ],
   "source": [
    "exprKGs = {}\n",
    "\n",
    "gsa = GenesetAnnotator()\n",
    "mNS = MeanNetworkScorer()\n",
    "\n",
    "for group in exprDFs:\n",
    "    \n",
    "    print(group)\n",
    "    \n",
    "    gKG = KGraph()\n",
    "    \n",
    "    gKG.load_kgraph(\"../data/initial_base_graph.out\")\n",
    "\n",
    "    gKG.add_gene_expression(exprDFs[group])\n",
    "    mNS.score_nodes_from_properties(gKG)\n",
    "\n",
    "    mNS.score(gKG)\n",
    "\n",
    "    gsa.annotate_genesets(gKG, settype=\"disease\", targettype=\"gene\")\n",
    "    gsa.annotate_genesets(gKG, settype=\"geneset\", targettype=\"gene\")\n",
    "    gsa.annotate_genesets(gKG, settype=\"ncRNA\", targettype=\"gene\")\n",
    "        \n",
    "    exprKGs[group] = gKG"
   ]
  },
  {
   "cell_type": "code",
   "execution_count": null,
   "id": "a092dbfa-e053-4619-98f6-6d066e493bf5",
   "metadata": {},
   "outputs": [],
   "source": []
  },
  {
   "cell_type": "raw",
   "id": "d777636e-e971-4d2c-88db-4886bf78a4a5",
   "metadata": {},
   "source": [
    "$trend1\n",
    "        1-4-1-1\n",
    "$trend2\n",
    "        8-2-1-1\n",
    "$trend3\n",
    "        1-2-4-1\n",
    "$trend4\n",
    "        1-2-2-8"
   ]
  },
  {
   "cell_type": "code",
   "execution_count": null,
   "id": "b21e3fef-ed41-4c58-8b9d-59e5f9593682",
   "metadata": {},
   "outputs": [],
   "source": [
    "stage2trend = {\n",
    "    \"wildtype\": \"trend2\",\n",
    "    \"stage1\": \"trend1\",\n",
    "    \"stage2\": \"trend3\",\n",
    "    \"stage3\": \"trend4\"\n",
    "}"
   ]
  },
  {
   "cell_type": "code",
   "execution_count": null,
   "id": "7c7b603c-7fdb-4017-84f5-b9d33e2762e5",
   "metadata": {},
   "outputs": [],
   "source": [
    "DiffKG = DifferentialKG()"
   ]
  },
  {
   "cell_type": "code",
   "execution_count": null,
   "id": "2fcc790e-c957-4532-a18a-37139d1374d1",
   "metadata": {},
   "outputs": [],
   "source": [
    "dkg = DiffKG.get_differential_graph(exprKGs[\"stage1\"], exprKGs[\"wildtype\"])"
   ]
  },
  {
   "cell_type": "code",
   "execution_count": null,
   "id": "a4ae5ae2-beef-4792-a086-d8c42a3d7a08",
   "metadata": {},
   "outputs": [],
   "source": [
    "trend2pathways"
   ]
  },
  {
   "cell_type": "code",
   "execution_count": null,
   "id": "4e5886c3-f285-4441-86c8-cd8e07b77539",
   "metadata": {},
   "outputs": [],
   "source": [
    "fig, ax = plt.subplots(figsize=(8, 4))\n",
    "for trend in trend2gene:\n",
    "    dkg.plot_node_attribute_histogram(attribute_accessor=lambda x: x[\"fc_score\"], nodes=trend2gene[trend], ax=ax, title=trend)\n",
    "dkg.plot_node_attribute_histogram(attribute_accessor=lambda x: x[\"fc_score\"], ax=ax, title=\"all genes\")\n",
    "plt.title(\"Cumulative Histogram of Gene Fold Changes\")"
   ]
  },
  {
   "cell_type": "code",
   "execution_count": null,
   "id": "05014794-9e52-482f-a3b5-23fbbd04be61",
   "metadata": {},
   "outputs": [],
   "source": [
    "fig, ax = plt.subplots(figsize=(8, 4))\n",
    "for trend in trend2gene:\n",
    "    dkg.plot_node_attribute_histogram(attribute_accessor=lambda x: x[\"fc_score\"], nodes=trend2pathways[trend], ax=ax, title=trend)\n",
    "dkg.plot_node_attribute_histogram(node_type=\"geneset\", attribute_accessor=lambda x: x[\"fc_score\"], ax=ax, title=\"all pws\")\n",
    "plt.title(\"Cumulative Histogram of Pathway Fold Changes\")"
   ]
  },
  {
   "cell_type": "code",
   "execution_count": null,
   "id": "597615ec-b6e2-4c8e-8ec1-ee7afe213885",
   "metadata": {},
   "outputs": [],
   "source": [
    "fig, ax = plt.subplots(figsize=(8, 4))\n",
    "for trend in trend2gene:\n",
    "    dkg.plot_node_attribute_histogram(attribute_accessor=lambda x: x[\"fc\"][\"sig\"], nodes=trend2gene[trend], ax=ax, title=trend)\n",
    "dkg.plot_node_attribute_histogram(attribute_accessor=lambda x: x[\"fc\"][\"sig\"], ax=ax, title=\"all genes\", node_type=\"gene\")"
   ]
  },
  {
   "cell_type": "code",
   "execution_count": null,
   "id": "04ccae93-2e7e-4ff7-809f-17f3c8fd83c4",
   "metadata": {},
   "outputs": [],
   "source": [
    "kg"
   ]
  },
  {
   "cell_type": "code",
   "execution_count": null,
   "id": "f5320cc2-9b7b-4bd1-89bd-653e8e7b647c",
   "metadata": {},
   "outputs": [],
   "source": [
    "def geneset_filter(n, kg):\n",
    "\n",
    "    if kg.node_type_overlap(n, [\"disease\", \"geneset\"]):\n",
    "        if len(kg._get_predecessors(n, ntype=\"gene\")) < 5:\n",
    "            return False\n",
    "\n",
    "        if kg.kg.nodes[n][\"fc\"][\"sig\"] > 0.1:\n",
    "            return False\n",
    "   \n",
    "    elif kg.node_type_overlap(n, [\"gene\"]):\n",
    "        if kg.kg.nodes[n][\"fc\"][\"sig\"] > 0.9:\n",
    "            return False\n",
    "\n",
    "    else:\n",
    "        #drug, ncRNA\n",
    "        if kg.kg.nodes[n][\"fc\"][\"sig\"] > 0.9:\n",
    "            return False\n",
    "\n",
    "    \n",
    "    return True\n",
    "\n",
    "def filter_empty_genesets(n, kg):\n",
    "\n",
    "    if kg.node_type_overlap(n, [\"disease\", \"geneset\"]):\n",
    "        if len(kg._get_predecessors(n, ntype=\"gene\")) < 3:\n",
    "            return False\n",
    "\n",
    "        numKgChildren = len(kg._get_predecessors(n, ntype=\"gene\"))\n",
    "        numAllChildren = len(dkg._get_predecessors(n, ntype=\"gene\"))\n",
    "\n",
    "        if (numKgChildren/numAllChildren) < 0.5:\n",
    "            return False\n",
    "    \n",
    "\n",
    "    if kg.node_type_overlap(n, [\"gene\", \"ncRNA\"]):\n",
    "        if len(kg.kg.edges(n)) == 0:\n",
    "            return False\n",
    "\n",
    "    return True"
   ]
  },
  {
   "cell_type": "code",
   "execution_count": null,
   "id": "a59faac6-3d25-435a-bae2-4b6cf8bace91",
   "metadata": {},
   "outputs": [],
   "source": [
    "all_best_nodes = [x[0] for x in dkg.get_nodes_with_highest_scores(n=3000, score_accessor=lambda x: x[\"fc_score\"], node_filter=geneset_filter)]\n",
    "\n",
    "for bnodes in [100, 150, 200, 300, 400, 500, 750, 1000, 2000, 2500, 3000]:\n",
    "    best_nodes = all_best_nodes[0:bnodes]\n",
    "    for trend in trend2gene:\n",
    "        trend_overlap = len(set(best_nodes).intersection(trend2gene[trend]))\n",
    "        pw_overlap = len(set(best_nodes).intersection(trend2pathways[trend]))\n",
    "        print(bnodes, trend, trend_overlap, trend_overlap/len(trend2gene[trend]), pw_overlap, pw_overlap/len(trend2pathways[trend]))"
   ]
  },
  {
   "cell_type": "code",
   "execution_count": null,
   "id": "89cb6a76-f113-4e9f-b228-5e85522a0897",
   "metadata": {},
   "outputs": [],
   "source": [
    "dkg.kg.nodes[all_best_nodes[300]]"
   ]
  },
  {
   "cell_type": "code",
   "execution_count": null,
   "id": "8016ea5a-d339-48d2-9aef-d936ed4da733",
   "metadata": {},
   "outputs": [],
   "source": [
    "fig, ax = plt.subplots(figsize=(8, 4))\n",
    "for trend in trend2gene:\n",
    "    dkg.plot_node_attribute_histogram(attribute_accessor=lambda x: x[\"fc_score\"], nodes=trend2gene[trend], ax=ax, title=trend)\n",
    "dkg.plot_node_attribute_histogram(attribute_accessor=lambda x: x[\"fc_score\"], ax=ax, title=\"all genes\")\n",
    "ax.vlines(x=1.13, ymin=-0.05, ymax=1.05, colors=\"red\")\n",
    "plt.title(\"Cumulative Histogram of Gene Fold Changes\")"
   ]
  },
  {
   "cell_type": "code",
   "execution_count": null,
   "id": "3deb37a7-6816-4df1-9475-ba7786d660ee",
   "metadata": {},
   "outputs": [],
   "source": [
    "fig, ax = plt.subplots(figsize=(8, 4))\n",
    "for trend in trend2gene:\n",
    "    dkg.plot_node_attribute_histogram(attribute_accessor=lambda x: x[\"fc\"][\"sig\"], nodes=trend2gene[trend], ax=ax, title=trend)\n",
    "dkg.plot_node_attribute_histogram(attribute_accessor=lambda x: x[\"fc\"][\"sig\"], ax=ax, title=\"all genes\")\n",
    "ax.vlines(x=0.9, ymin=-0.05, ymax=1.05, colors=\"red\")\n",
    "plt.title(\"Cumulative Histogram of Gene Sig Values\")"
   ]
  },
  {
   "cell_type": "code",
   "execution_count": null,
   "id": "6855a966-990e-4c84-bd2c-ce6cc3b3db81",
   "metadata": {},
   "outputs": [],
   "source": [
    "best_nodes = dkg.get_nodes_with_highest_scores(n=300, score_accessor=lambda x: x[\"fc_score\"], node_filter=geneset_filter)       # nodetype=\"gene\",\n",
    "dkg_small = dkg.subset_kg([x[0] for x in best_nodes])\n",
    "dkg_small"
   ]
  },
  {
   "cell_type": "code",
   "execution_count": null,
   "id": "db4feefb-b268-46cb-a6e4-335746090dce",
   "metadata": {},
   "outputs": [],
   "source": [
    "best_nodes[-1]"
   ]
  },
  {
   "cell_type": "code",
   "execution_count": null,
   "id": "8dee6f34-f759-4e5a-8682-0e6289fb9a90",
   "metadata": {},
   "outputs": [],
   "source": [
    "len(set(dkg_small.kg.nodes).intersection(trend2gene[\"trend1\"]))"
   ]
  },
  {
   "cell_type": "code",
   "execution_count": null,
   "id": "95842d10-2a90-4dc0-a356-fe3f51d73190",
   "metadata": {},
   "outputs": [],
   "source": [
    "dkg_filtered = dkg_small.filter_nodes(filter_empty_genesets)\n",
    "dkg_filtered = dkg_filtered.filter_nodes(filter_empty_genesets)\n",
    "dkg_filtered"
   ]
  },
  {
   "cell_type": "code",
   "execution_count": null,
   "id": "2e55a218-4d3f-44ff-b698-f5be19195d8f",
   "metadata": {},
   "outputs": [],
   "source": [
    "len(set(dkg_filtered.kg.nodes).intersection(trend2gene[\"trend1\"]))"
   ]
  },
  {
   "cell_type": "code",
   "execution_count": null,
   "id": "aef0d085-8d5f-4f1a-8e75-75678296dde5",
   "metadata": {},
   "outputs": [],
   "source": [
    "fig, ax = plt.subplots(figsize=(8, 4))\n",
    "for trend in trend2gene:\n",
    "    dkg_filtered.plot_node_attribute_histogram(attribute_accessor=lambda x: x[\"fc_score\"], nodes=trend2gene[trend], ax=ax, title=trend)\n",
    "dkg_filtered.plot_node_attribute_histogram(attribute_accessor=lambda x: x[\"fc_score\"], ax=ax, title=\"all genes (filtered DKG)\")\n"
   ]
  },
  {
   "cell_type": "code",
   "execution_count": null,
   "id": "295a8eba-7ebb-4fb2-be0f-12f97a520888",
   "metadata": {},
   "outputs": [],
   "source": [
    "_=dkg_filtered.plot_graph(edge_score_accessor=lambda x: x.get(\"fc_score\", 0), node_score_accessor=lambda x: x.get(\"fc_score\", 0), figsize=(15, 15))"
   ]
  },
  {
   "cell_type": "code",
   "execution_count": null,
   "id": "9eb61c64-5249-4a72-b6a8-efc9f249a4bd",
   "metadata": {},
   "outputs": [],
   "source": [
    "dkgModules = dkg_filtered.get_communities_greedymodularity(minEdgeScore=None, resolution=0.5, score_field=\"fc_score\")\n",
    "dkg_filtered.describe_communities(dkgModules)"
   ]
  },
  {
   "cell_type": "code",
   "execution_count": null,
   "id": "f1ff6612-7bb6-4ec6-8e1a-18945c4e1d14",
   "metadata": {},
   "outputs": [],
   "source": [
    "def evaluate_communities(modules, target_trend, t2g, t2p, p2g):\n",
    "    allTargetGenes = set()\n",
    "    singleTargetGenes = set()\n",
    "\n",
    "    foundPathways = set()\n",
    "\n",
    "    for x in modules:\n",
    "        if len(modules[x]) == 1:\n",
    "\n",
    "            for y in modules[x]:\n",
    "                if y in t2g[target_trend]:\n",
    "                    singleTargetGenes.add(y)\n",
    "            continue\n",
    "        target_genes = set(modules[x]).intersection(t2g[target_trend])\n",
    "        allTargetGenes.update(target_genes)\n",
    "\n",
    "        if len(modules[x])> 0 and len(target_genes) > 0:\n",
    "            intGenesets = set(t2p[target_trend]).intersection(modules[x])\n",
    "\n",
    "            foundPathways.update(intGenesets)\n",
    "            \n",
    "            print(x, len(modules[x]), len(target_genes), target_genes, intGenesets)\n",
    "\n",
    "            for pw in intGenesets:\n",
    "                pwgenes = dkg_filtered._get_predecessors(pw, ntype=\"gene\")\n",
    "                print(pw, len(pwgenes), len(p2g.get(pw, [])), pwgenes.intersection(target_genes))\n",
    "            print()\n",
    "\n",
    "            for n in modules[x]:\n",
    "                if n in intGenesets:\n",
    "                    continue\n",
    "                    \n",
    "                if \"geneset\" in dkg_filtered.kg.nodes[n][\"type\"]:\n",
    "                    pwgenes = dkg_filtered._get_predecessors(n, ntype=\"gene\")\n",
    "                    print(\"OTHER\", n, len(pwgenes), pwgenes.intersection(target_genes))\n",
    "\n",
    "            print()\n",
    "            print()\n",
    "\n",
    "    print(len(allTargetGenes))\n",
    "    print(len(singleTargetGenes))\n",
    "    print(len(foundPathways), t2p[target_trend].difference(foundPathways))"
   ]
  },
  {
   "cell_type": "code",
   "execution_count": null,
   "id": "891c3d91-7564-4e47-a5c8-2701e1156856",
   "metadata": {},
   "outputs": [],
   "source": [
    "evaluate_communities(dkgModules, \"trend1\", trend2gene, trend2pathways, pathways2genes)"
   ]
  },
  {
   "cell_type": "code",
   "execution_count": null,
   "id": "6b814170-283e-4a1b-8aaa-94fa88e3c297",
   "metadata": {},
   "outputs": [],
   "source": []
  },
  {
   "cell_type": "code",
   "execution_count": null,
   "id": "9b212e71-9548-4349-9f42-b7981722ca92",
   "metadata": {},
   "outputs": [],
   "source": [
    "def evaluate_communities_detail(kg, modules, target_trend, t2g, t2p, p2g, g2t, fullKG=None, maxlen=30):\n",
    "\n",
    "    fndElems = []\n",
    "    for pw in t2p[target_trend]:\n",
    "\n",
    "        unknownGenes = set()\n",
    "        stage_counter = Counter()\n",
    "        #for s,t in dkg.get_node_edges(pw):\n",
    "        for s in p2g[pw]:\n",
    "        \n",
    "            cont_stages = set()\n",
    "            for x in modules:\n",
    "                if s in modules[x]:\n",
    "                    cont_stages.add(x)\n",
    "\n",
    "            inKG = s in kg.kg.nodes\n",
    "\n",
    "            if not inKG:\n",
    "                unknownGenes.add(s)\n",
    "            \n",
    "            print(target_trend, pw, s, g2t[s], inKG, cont_stages)\n",
    "            if len(cont_stages) > 0:\n",
    "                for x in cont_stages:\n",
    "                    stage_counter[x] += 1\n",
    "            else:\n",
    "                stage_counter[\"NA\"] += 1\n",
    "\n",
    "        print(stage_counter)\n",
    "        \n",
    "        foundCount = sum([stage_counter[x] for x in stage_counter if not x == \"NA\"])\n",
    "        notFoundCount = stage_counter[\"NA\"]\n",
    "        fndElems.append([pw, foundCount, notFoundCount])\n",
    "\n",
    "        if not fullKG is None:\n",
    "            for s in unknownGenes:\n",
    "                print(s, fullKG.kg.nodes[s])\n",
    "        \n",
    "        print()\n",
    "\n",
    "    print()\n",
    "    print()\n",
    "\n",
    "    pwSens = set()\n",
    "    gSens = set()\n",
    "    pw2sensitivity = defaultdict(set)\n",
    "    \n",
    "    for pw in t2p[target_trend]:\n",
    "\n",
    "        if pw in kg.kg.nodes:\n",
    "            pwSens.add(pw)\n",
    "\n",
    "        for g in p2g[pw]:\n",
    "            \n",
    "            if g in kg.kg.nodes:\n",
    "                pw2sensitivity[pw].add(g)\n",
    "                gSens.add(g)\n",
    "\n",
    "    pwSensitivity = len(pwSens) / len(t2p[target_trend])\n",
    "    geneSensitivity = len(gSens) / len(t2g[target_trend])\n",
    "\n",
    "    pwGeneSensitivity = {}\n",
    "    for pw in t2p[target_trend]:\n",
    "        pwGeneSensitivity[pw] = len(pw2sensitivity[pw]) / len(p2g[pw])\n",
    "\n",
    "\n",
    "    print(\"Pathway Sensitivity\", pwSensitivity)\n",
    "    print(\"Gene Sensitivity\", geneSensitivity)\n",
    "    weightedSens = 0\n",
    "    allGenes = 0\n",
    "    for pw in pwGeneSensitivity:\n",
    "        print(\"PW-Gene Sensitivity\", pw, pwGeneSensitivity[pw])\n",
    "\n",
    "        weightedSens += pwGeneSensitivity[pw] * len(p2g[pw])\n",
    "        allGenes += len(p2g[pw])\n",
    "\n",
    "    print(\"Weighted Sensitivity\", weightedSens/allGenes)    \n",
    "    df = pd.DataFrame.from_records(fndElems, columns=[\"pathway\", \"found\", \"missing\"])\n",
    "    df[\"pathway\"] = df[\"pathway\"].apply(lambda x: x if len(x) < maxlen else x[:maxlen] + \"...\")\n",
    "    \n",
    "    df.plot(x=\"pathway\", kind='bar', stacked=True,\n",
    "            title='Retained Genes/TFs per pathway for {}'.format(target_trend))\n",
    "    plt.xticks(rotation=75, ha='right')\n",
    "    plt.show()\n",
    "\n",
    "    return df\n"
   ]
  },
  {
   "cell_type": "code",
   "execution_count": null,
   "id": "e2a7b47b-cdb6-4dab-a061-9c2d95843c03",
   "metadata": {},
   "outputs": [],
   "source": [
    "pwc = evaluate_communities_detail(dkg_filtered, dkgModules, \"trend1\", trend2gene, trend2pathways, pathways2genes, gene2type, fullKG=dkg)"
   ]
  },
  {
   "cell_type": "code",
   "execution_count": null,
   "id": "ee05b3be-2afc-4548-835c-6e254e269807",
   "metadata": {},
   "outputs": [],
   "source": [
    "pd.set_option('display.max_rows', None)\n",
    "display(simulatedGenes[simulatedGenes.trend==\"trend1\"].head(None))\n",
    "pd.set_option('display.max_rows', 50)"
   ]
  },
  {
   "cell_type": "code",
   "execution_count": null,
   "id": "c39cf732-f0ea-4038-aa13-29f6e69b30f5",
   "metadata": {},
   "outputs": [],
   "source": []
  },
  {
   "cell_type": "code",
   "execution_count": null,
   "id": "f548bc7b-9d7e-4c6a-93a5-c99b181a8c94",
   "metadata": {},
   "outputs": [],
   "source": []
  },
  {
   "cell_type": "code",
   "execution_count": null,
   "id": "dbeeb9b1-9f8c-41fa-bf3c-d504fbc30fb0",
   "metadata": {},
   "outputs": [],
   "source": []
  },
  {
   "cell_type": "code",
   "execution_count": null,
   "id": "310f192b-d471-46e2-b211-3503e6cf7e40",
   "metadata": {},
   "outputs": [],
   "source": []
  },
  {
   "cell_type": "code",
   "execution_count": null,
   "id": "70ab1056-5494-4871-949e-3fb43afb6630",
   "metadata": {},
   "outputs": [],
   "source": []
  },
  {
   "cell_type": "code",
   "execution_count": null,
   "id": "9b994f54-2a35-479f-8077-2fe6a2eef291",
   "metadata": {},
   "outputs": [],
   "source": []
  },
  {
   "cell_type": "code",
   "execution_count": null,
   "id": "852180bb-3ef9-4081-8405-ae38dee06bc9",
   "metadata": {},
   "outputs": [],
   "source": []
  },
  {
   "cell_type": "code",
   "execution_count": null,
   "id": "537d5403-dca5-46ac-9eb4-18e7bd2566de",
   "metadata": {},
   "outputs": [],
   "source": []
  },
  {
   "cell_type": "code",
   "execution_count": null,
   "id": "3b904ec6-01bd-45c8-b9d6-90e942e30070",
   "metadata": {},
   "outputs": [],
   "source": []
  },
  {
   "cell_type": "code",
   "execution_count": null,
   "id": "34ecb0ab-25ed-4a47-909f-44c6bb3b6229",
   "metadata": {},
   "outputs": [],
   "source": []
  }
 ],
 "metadata": {
  "kernelspec": {
   "display_name": "regnetworks",
   "language": "python",
   "name": "regnetworks"
  },
  "language_info": {
   "codemirror_mode": {
    "name": "ipython",
    "version": 3
   },
   "file_extension": ".py",
   "mimetype": "text/x-python",
   "name": "python",
   "nbconvert_exporter": "python",
   "pygments_lexer": "ipython3",
   "version": "3.11.9"
  }
 },
 "nbformat": 4,
 "nbformat_minor": 5
}
