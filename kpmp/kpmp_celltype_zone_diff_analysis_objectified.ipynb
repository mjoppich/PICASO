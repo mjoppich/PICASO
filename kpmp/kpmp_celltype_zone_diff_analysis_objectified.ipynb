{
 "cells": [
  {
   "cell_type": "code",
   "execution_count": 1,
   "id": "d5eaf099-ed64-4652-b7d6-00049d342501",
   "metadata": {},
   "outputs": [
    {
     "name": "stdout",
     "output_type": "stream",
     "text": [
      "la 0.10.1\n"
     ]
    }
   ],
   "source": [
    "%load_ext autoreload\n",
    "%autoreload 2\n",
    "    \n",
    "import os, sys\n",
    "import networkx as nx\n",
    "\n",
    "sys.path.insert(0, \"../\")\n",
    "sys.path.insert(0, \"/home/j/joppich/.local/lib/python3.11/site-packages/\")\n",
    "#otherwise leidenalg is used in an outdated version ...\n",
    "\n",
    "import leidenalg as la\n",
    "print(\"la\", la.version)\n",
    "\n",
    "%autoreload 2\n",
    "from mikg.kgraph import *\n",
    "import pandas as pd\n",
    "import numpy as np\n",
    "\n",
    "import matplotlib\n",
    "import matplotlib.pyplot as plt\n",
    "\n",
    "from collections import defaultdict, Counter\n",
    "\n",
    "import random\n",
    "random.seed(42)\n",
    "\n",
    "import pickle"
   ]
  },
  {
   "cell_type": "code",
   "execution_count": 2,
   "id": "351e5595-b927-4d9b-86ef-0dc33aee3910",
   "metadata": {},
   "outputs": [],
   "source": [
    "kg = KGraph()\n",
    "kg.load_kgraph(\"../data/initial_base_graph.out\")"
   ]
  },
  {
   "cell_type": "code",
   "execution_count": 3,
   "id": "ba113151-2a95-4d83-b056-ac6839294828",
   "metadata": {},
   "outputs": [],
   "source": [
    "exprKGs = None\n",
    "exprKGs = pickle.load(open(\"ctcond_exprkgs.pickle\", \"rb\"))"
   ]
  },
  {
   "cell_type": "code",
   "execution_count": 4,
   "id": "22f5bea5-b722-49c5-b6d6-95828629c224",
   "metadata": {},
   "outputs": [],
   "source": [
    "#'ATL_AKI', 'ATL_COV_AKI', 'ATL_DKD', 'ATL_H_CKD', 'ATL_Ref', 'CNT_AKI'\n",
    "tissue2zone2kg = defaultdict(lambda : dict())\n",
    "for x in exprKGs:\n",
    "    celltype, condition = x.split(\"_\",1)\n",
    "    \n",
    "    tissue2zone2kg[celltype][\"{}_{}\".format(celltype, condition)] = exprKGs[x]"
   ]
  },
  {
   "cell_type": "code",
   "execution_count": 5,
   "id": "c0667ac8-9ffa-4d1f-875a-e24789024313",
   "metadata": {},
   "outputs": [
    {
     "name": "stdout",
     "output_type": "stream",
     "text": [
      "ATL 5 ['ATL_AKI', 'ATL_COV_AKI', 'ATL_DKD', 'ATL_H_CKD', 'ATL_Ref']\n",
      "CNT 5 ['CNT_AKI', 'CNT_COV_AKI', 'CNT_DKD', 'CNT_H_CKD', 'CNT_Ref']\n",
      "DCT 5 ['DCT_AKI', 'DCT_COV_AKI', 'DCT_DKD', 'DCT_H_CKD', 'DCT_Ref']\n",
      "DTL 5 ['DTL_AKI', 'DTL_COV_AKI', 'DTL_DKD', 'DTL_H_CKD', 'DTL_Ref']\n",
      "EC 5 ['EC_AKI', 'EC_COV_AKI', 'EC_DKD', 'EC_H_CKD', 'EC_Ref']\n",
      "FIB 5 ['FIB_AKI', 'FIB_COV_AKI', 'FIB_DKD', 'FIB_H_CKD', 'FIB_Ref']\n",
      "IC 5 ['IC_AKI', 'IC_COV_AKI', 'IC_DKD', 'IC_H_CKD', 'IC_Ref']\n",
      "IMM 5 ['IMM_AKI', 'IMM_COV_AKI', 'IMM_DKD', 'IMM_H_CKD', 'IMM_Ref']\n",
      "NEU 5 ['NEU_AKI', 'NEU_COV_AKI', 'NEU_DKD', 'NEU_H_CKD', 'NEU_Ref']\n",
      "PC 5 ['PC_AKI', 'PC_COV_AKI', 'PC_DKD', 'PC_H_CKD', 'PC_Ref']\n",
      "PEC 5 ['PEC_AKI', 'PEC_COV_AKI', 'PEC_DKD', 'PEC_H_CKD', 'PEC_Ref']\n",
      "POD 5 ['POD_AKI', 'POD_COV_AKI', 'POD_DKD', 'POD_H_CKD', 'POD_Ref']\n",
      "PT 5 ['PT_AKI', 'PT_COV_AKI', 'PT_DKD', 'PT_H_CKD', 'PT_Ref']\n",
      "PapE 5 ['PapE_AKI', 'PapE_COV_AKI', 'PapE_DKD', 'PapE_H_CKD', 'PapE_Ref']\n",
      "TAL 5 ['TAL_AKI', 'TAL_COV_AKI', 'TAL_DKD', 'TAL_H_CKD', 'TAL_Ref']\n",
      "VSM/P 5 ['VSM/P_AKI', 'VSM/P_COV_AKI', 'VSM/P_DKD', 'VSM/P_H_CKD', 'VSM/P_Ref']\n"
     ]
    }
   ],
   "source": [
    "for x in tissue2zone2kg:\n",
    "    print(x, len(tissue2zone2kg[x]), [x for x in tissue2zone2kg[x]])"
   ]
  },
  {
   "cell_type": "code",
   "execution_count": 6,
   "id": "6bc3a22b-bddc-48f5-8d41-e2b3dcabf73c",
   "metadata": {},
   "outputs": [
    {
     "name": "stdout",
     "output_type": "stream",
     "text": [
      "ATL 5 ['ATL_AKI', 'ATL_COV_AKI', 'ATL_DKD', 'ATL_H_CKD', 'ATL_Ref']\n",
      "CNT 5 ['CNT_AKI', 'CNT_COV_AKI', 'CNT_DKD', 'CNT_H_CKD', 'CNT_Ref']\n",
      "DCT 5 ['DCT_AKI', 'DCT_COV_AKI', 'DCT_DKD', 'DCT_H_CKD', 'DCT_Ref']\n",
      "DTL 5 ['DTL_AKI', 'DTL_COV_AKI', 'DTL_DKD', 'DTL_H_CKD', 'DTL_Ref']\n",
      "EC 5 ['EC_AKI', 'EC_COV_AKI', 'EC_DKD', 'EC_H_CKD', 'EC_Ref']\n",
      "FIB 5 ['FIB_AKI', 'FIB_COV_AKI', 'FIB_DKD', 'FIB_H_CKD', 'FIB_Ref']\n",
      "IC 5 ['IC_AKI', 'IC_COV_AKI', 'IC_DKD', 'IC_H_CKD', 'IC_Ref']\n",
      "IMM 5 ['IMM_AKI', 'IMM_COV_AKI', 'IMM_DKD', 'IMM_H_CKD', 'IMM_Ref']\n",
      "NEU 5 ['NEU_AKI', 'NEU_COV_AKI', 'NEU_DKD', 'NEU_H_CKD', 'NEU_Ref']\n",
      "PC 5 ['PC_AKI', 'PC_COV_AKI', 'PC_DKD', 'PC_H_CKD', 'PC_Ref']\n",
      "PEC 5 ['PEC_AKI', 'PEC_COV_AKI', 'PEC_DKD', 'PEC_H_CKD', 'PEC_Ref']\n",
      "POD 5 ['POD_AKI', 'POD_COV_AKI', 'POD_DKD', 'POD_H_CKD', 'POD_Ref']\n",
      "PT 5 ['PT_AKI', 'PT_COV_AKI', 'PT_DKD', 'PT_H_CKD', 'PT_Ref']\n",
      "PapE 5 ['PapE_AKI', 'PapE_COV_AKI', 'PapE_DKD', 'PapE_H_CKD', 'PapE_Ref']\n",
      "TAL 5 ['TAL_AKI', 'TAL_COV_AKI', 'TAL_DKD', 'TAL_H_CKD', 'TAL_Ref']\n",
      "VSM-P 5 ['VSM-P_AKI', 'VSM-P_COV_AKI', 'VSM-P_DKD', 'VSM-P_H_CKD', 'VSM-P_Ref']\n"
     ]
    }
   ],
   "source": [
    "renameClass = \"VSM/P\"\n",
    "renameElems = tissue2zone2kg[renameClass]\n",
    "\n",
    "newclass = renameClass.replace(\"/\", \"-\")\n",
    "\n",
    "tissue2zone2kg[newclass] = dict()\n",
    "for x in renameElems:\n",
    "    newElem = x.replace(\"/\", \"-\")\n",
    "    tissue2zone2kg[newclass][newElem] = renameElems[x]\n",
    "\n",
    "\n",
    "if renameClass in tissue2zone2kg:\n",
    "    del tissue2zone2kg[renameClass]\n",
    "\n",
    "for x in tissue2zone2kg:\n",
    "    print(x, len(tissue2zone2kg[x]), [x for x in tissue2zone2kg[x]])"
   ]
  },
  {
   "cell_type": "code",
   "execution_count": 16,
   "id": "18d89dd6-aeba-45ed-beb0-f7a5a8d64c1b",
   "metadata": {},
   "outputs": [
    {
     "data": {
      "text/plain": [
       "{'FIB_AKI': KGraph KGraph with 111032 nodes and 1617389 edges,\n",
       " 'FIB_COV_AKI': KGraph KGraph with 111032 nodes and 1617389 edges,\n",
       " 'FIB_DKD': KGraph KGraph with 111032 nodes and 1617389 edges,\n",
       " 'FIB_H_CKD': KGraph KGraph with 111032 nodes and 1617389 edges,\n",
       " 'FIB_Ref': KGraph KGraph with 111032 nodes and 1617389 edges}"
      ]
     },
     "execution_count": 16,
     "metadata": {},
     "output_type": "execute_result"
    }
   ],
   "source": [
    "tissue2zone2kg[\"FIB\"]"
   ]
  },
  {
   "cell_type": "code",
   "execution_count": 17,
   "id": "959e53d5-751e-413f-a605-35d2bb0062c4",
   "metadata": {},
   "outputs": [],
   "source": [
    "zoneSort = {\n",
    "        \"Ref\": 0,\n",
    "        \"AKI\": 1,\n",
    "        \"COV_AKI\": 2,\n",
    "        \"DKD\": 3,\n",
    "        \"H_CKD\": 4\n",
    "    }\n",
    "\n",
    "tlda = TwoLevelDifferentialAnalysis(tissue2zone2kg, [x for x in zoneSort], output_folder_formatter=\"diff_{}/\", fullKG=kg)"
   ]
  },
  {
   "cell_type": "code",
   "execution_count": 18,
   "id": "b9a9ec26-1a83-42a5-99e3-186ff98e0471",
   "metadata": {},
   "outputs": [
    {
     "name": "stdout",
     "output_type": "stream",
     "text": [
      "FIB\n",
      "{'FIB_AKI': KGraph KGraph_vs_KGraph with 111032 nodes and 1617389 edges, 'FIB_COV_AKI': KGraph KGraph_vs_KGraph with 111032 nodes and 1617389 edges, 'FIB_DKD': KGraph KGraph_vs_KGraph with 111032 nodes and 1617389 edges, 'FIB_H_CKD': KGraph KGraph_vs_KGraph with 111032 nodes and 1617389 edges}\n",
      "Analysing FIB_AKI\n",
      "Identified communities\n",
      "Number of communities: 281\n",
      "Average community size 41.14946619217082\n",
      "Median community size 30.0\n",
      "Quantile (0,0.25,0.5,0.75,1) community size [  2.  15.  30.  49. 765.]\n",
      "Significant communities\n",
      "Number of communities: 62\n",
      "Average community size 36.903225806451616\n",
      "Median community size 24.5\n",
      "Quantile (0,0.25,0.5,0.75,1) community size [ 10.    18.    24.5   40.75 334.  ]\n",
      "FIB_AKI_mod_68 15\n"
     ]
    },
    {
     "ename": "AttributeError",
     "evalue": "'float' object has no attribute 'get'",
     "output_type": "error",
     "traceback": [
      "\u001b[0;31m---------------------------------------------------------------------------\u001b[0m",
      "\u001b[0;31mAttributeError\u001b[0m                            Traceback (most recent call last)",
      "Cell \u001b[0;32mIn[18], line 1\u001b[0m\n\u001b[0;32m----> 1\u001b[0m \u001b[43mtlda\u001b[49m\u001b[38;5;241;43m.\u001b[39;49m\u001b[43mcalculate_modules\u001b[49m\u001b[43m(\u001b[49m\u001b[43mrelevant_cellgroups\u001b[49m\u001b[38;5;241;43m=\u001b[39;49m\u001b[43m[\u001b[49m\u001b[38;5;124;43m\"\u001b[39;49m\u001b[38;5;124;43mFIB\u001b[39;49m\u001b[38;5;124;43m\"\u001b[39;49m\u001b[43m]\u001b[49m\u001b[43m)\u001b[49m\n",
      "File \u001b[0;32m/mnt/raidbio/extproj/projekte/regulatory_networks/kpmp/../mikg/kgraph.py:3382\u001b[0m, in \u001b[0;36mTwoLevelDifferentialAnalysis.calculate_modules\u001b[0;34m(self, relevant_cellgroups, cg_zone_formatter, reference_formatter, diffkg, overwrite)\u001b[0m\n\u001b[1;32m   3378\u001b[0m         sorted_dkgs[cg_zone_name] \u001b[38;5;241m=\u001b[39m dkgs[cg_zone_name]\n\u001b[1;32m   3380\u001b[0m \u001b[38;5;28mprint\u001b[39m(sorted_dkgs)\n\u001b[0;32m-> 3382\u001b[0m cg1Data \u001b[38;5;241m=\u001b[39m \u001b[38;5;28;43mself\u001b[39;49m\u001b[38;5;241;43m.\u001b[39;49m\u001b[43m_get_diff_comms\u001b[49m\u001b[43m(\u001b[49m\u001b[43m \u001b[49m\u001b[43msorted_dkgs\u001b[49m\u001b[43m,\u001b[49m\u001b[43m \u001b[49m\u001b[43mminEdgeScore\u001b[49m\u001b[38;5;241;43m=\u001b[39;49m\u001b[38;5;241;43m0.5\u001b[39;49m\u001b[43m,\u001b[49m\u001b[43m \u001b[49m\u001b[43mmin_effect_size\u001b[49m\u001b[38;5;241;43m=\u001b[39;49m\u001b[38;5;241;43m0.8\u001b[39;49m\u001b[43m,\u001b[49m\u001b[43m \u001b[49m\u001b[43mresolution\u001b[49m\u001b[38;5;241;43m=\u001b[39;49m\u001b[38;5;241;43m12\u001b[39;49m\u001b[43m \u001b[49m\u001b[43m)\u001b[49m\n\u001b[1;32m   3384\u001b[0m \u001b[38;5;28mself\u001b[39m\u001b[38;5;241m.\u001b[39mcellgroupdata[cellgroup][\u001b[38;5;124m\"\u001b[39m\u001b[38;5;124mkg\u001b[39m\u001b[38;5;124m\"\u001b[39m] \u001b[38;5;241m=\u001b[39m sorted_dkgs\n\u001b[1;32m   3385\u001b[0m \u001b[38;5;28;01mfor\u001b[39;00m stats \u001b[38;5;129;01min\u001b[39;00m cg1Data:\n",
      "File \u001b[0;32m/mnt/raidbio/extproj/projekte/regulatory_networks/kpmp/../mikg/kgraph.py:3445\u001b[0m, in \u001b[0;36mTwoLevelDifferentialAnalysis._get_diff_comms\u001b[0;34m(self, tkgs, min_effect_size, resolution, minEdgeScore, min_node_scores, network_extend_spec)\u001b[0m\n\u001b[1;32m   3443\u001b[0m eKG \u001b[38;5;241m=\u001b[39m zone_comms[comm]\n\u001b[1;32m   3444\u001b[0m \u001b[38;5;28;01mfor\u001b[39;00m nodetype \u001b[38;5;129;01min\u001b[39;00m network_extend_spec:\n\u001b[0;32m-> 3445\u001b[0m     eKG \u001b[38;5;241m=\u001b[39m \u001b[43mnwe\u001b[49m\u001b[38;5;241;43m.\u001b[39;49m\u001b[43mextend_network\u001b[49m\u001b[43m(\u001b[49m\u001b[43meKG\u001b[49m\u001b[43m,\u001b[49m\u001b[43m \u001b[49m\u001b[43mtkgs\u001b[49m\u001b[43m[\u001b[49m\u001b[43mzone\u001b[49m\u001b[43m]\u001b[49m\u001b[43m,\u001b[49m\n\u001b[1;32m   3446\u001b[0m \u001b[43m                              \u001b[49m\u001b[43mnode_types\u001b[49m\u001b[43m \u001b[49m\u001b[38;5;241;43m=\u001b[39;49m\u001b[43m \u001b[49m\u001b[43m[\u001b[49m\u001b[43mnodetype\u001b[49m\u001b[43m]\u001b[49m\u001b[43m,\u001b[49m\n\u001b[1;32m   3447\u001b[0m \u001b[43m                             \u001b[49m\u001b[43mminFraction_large\u001b[49m\u001b[38;5;241;43m=\u001b[39;49m\u001b[43mnetwork_extend_spec\u001b[49m\u001b[43m[\u001b[49m\u001b[43mnodetype\u001b[49m\u001b[43m]\u001b[49m\u001b[38;5;241;43m.\u001b[39;49m\u001b[43mget\u001b[49m\u001b[43m(\u001b[49m\u001b[38;5;124;43m\"\u001b[39;49m\u001b[38;5;124;43mmin_fraction_large\u001b[39;49m\u001b[38;5;124;43m\"\u001b[39;49m\u001b[43m,\u001b[49m\u001b[43m \u001b[49m\u001b[38;5;241;43m0.7\u001b[39;49m\u001b[43m)\u001b[49m\u001b[43m,\u001b[49m\n\u001b[1;32m   3448\u001b[0m \u001b[43m                             \u001b[49m\u001b[43mminFraction_small\u001b[49m\u001b[38;5;241;43m=\u001b[39;49m\u001b[43mnetwork_extend_spec\u001b[49m\u001b[43m[\u001b[49m\u001b[43mnodetype\u001b[49m\u001b[43m]\u001b[49m\u001b[38;5;241;43m.\u001b[39;49m\u001b[43mget\u001b[49m\u001b[43m(\u001b[49m\u001b[38;5;124;43m\"\u001b[39;49m\u001b[38;5;124;43mmin_fraction_small\u001b[39;49m\u001b[38;5;124;43m\"\u001b[39;49m\u001b[43m,\u001b[49m\u001b[43m \u001b[49m\u001b[38;5;241;43m0.5\u001b[39;49m\u001b[43m)\u001b[49m\u001b[43m,\u001b[49m\u001b[43m \u001b[49m\n\u001b[1;32m   3449\u001b[0m \u001b[43m                             \u001b[49m\u001b[43mminGeneSpec\u001b[49m\u001b[38;5;241;43m=\u001b[39;49m\u001b[43mnetwork_extend_spec\u001b[49m\u001b[43m[\u001b[49m\u001b[43mnodetype\u001b[49m\u001b[43m]\u001b[49m\u001b[38;5;241;43m.\u001b[39;49m\u001b[43mget\u001b[49m\u001b[43m(\u001b[49m\u001b[38;5;124;43m\"\u001b[39;49m\u001b[38;5;124;43mmin_gene_spec\u001b[39;49m\u001b[38;5;124;43m\"\u001b[39;49m\u001b[43m,\u001b[49m\u001b[43m \u001b[49m\u001b[38;5;241;43m0.5\u001b[39;49m\u001b[43m)\u001b[49m\u001b[43m,\u001b[49m\n\u001b[1;32m   3450\u001b[0m \u001b[43m                             \u001b[49m\u001b[43mmin_children_gs\u001b[49m\u001b[38;5;241;43m=\u001b[39;49m\u001b[43mnetwork_extend_spec\u001b[49m\u001b[43m[\u001b[49m\u001b[43mnodetype\u001b[49m\u001b[43m]\u001b[49m\u001b[38;5;241;43m.\u001b[39;49m\u001b[43mget\u001b[49m\u001b[43m(\u001b[49m\u001b[38;5;124;43m\"\u001b[39;49m\u001b[38;5;124;43mmin_children_gs\u001b[39;49m\u001b[38;5;124;43m\"\u001b[39;49m\u001b[43m,\u001b[49m\u001b[43m \u001b[49m\u001b[38;5;241;43m3\u001b[39;49m\u001b[43m)\u001b[49m\u001b[43m,\u001b[49m\n\u001b[1;32m   3451\u001b[0m \u001b[43m                             \u001b[49m\u001b[43mmax_size_gs\u001b[49m\u001b[38;5;241;43m=\u001b[39;49m\u001b[43mnetwork_extend_spec\u001b[49m\u001b[43m[\u001b[49m\u001b[43mnodetype\u001b[49m\u001b[43m]\u001b[49m\u001b[38;5;241;43m.\u001b[39;49m\u001b[43mget\u001b[49m\u001b[43m(\u001b[49m\u001b[38;5;124;43m\"\u001b[39;49m\u001b[38;5;124;43mmax_size_gs\u001b[39;49m\u001b[38;5;124;43m\"\u001b[39;49m\u001b[43m,\u001b[49m\u001b[43m \u001b[49m\u001b[38;5;241;43m200\u001b[39;49m\u001b[43m)\u001b[49m\u001b[43m,\u001b[49m\n\u001b[1;32m   3452\u001b[0m \u001b[43m                             \u001b[49m\u001b[43mscore_field\u001b[49m\u001b[38;5;241;43m=\u001b[39;49m\u001b[38;5;124;43m\"\u001b[39;49m\u001b[38;5;124;43mfc_score\u001b[39;49m\u001b[38;5;124;43m\"\u001b[39;49m\u001b[43m,\u001b[49m\n\u001b[1;32m   3453\u001b[0m \u001b[43m                             \u001b[49m\u001b[43mverbose\u001b[49m\u001b[38;5;241;43m=\u001b[39;49m\u001b[38;5;28;43;01mFalse\u001b[39;49;00m\u001b[43m)\u001b[49m\n\u001b[1;32m   3458\u001b[0m \u001b[38;5;28;01mif\u001b[39;00m \u001b[38;5;28mlen\u001b[39m(eKG\u001b[38;5;241m.\u001b[39mkg\u001b[38;5;241m.\u001b[39mnodes) \u001b[38;5;241m==\u001b[39m \u001b[38;5;28mlen\u001b[39m(zone_comms[comm]):\n\u001b[1;32m   3459\u001b[0m     \u001b[38;5;66;03m#print(\"Skipping due to no extended nodes.\")\u001b[39;00m\n\u001b[1;32m   3460\u001b[0m     \u001b[38;5;28;01mcontinue\u001b[39;00m\n",
      "File \u001b[0;32m/mnt/raidbio/extproj/projekte/regulatory_networks/kpmp/../mikg/kgraph.py:1691\u001b[0m, in \u001b[0;36mNetworkExtender.extend_network\u001b[0;34m(self, nodes, fullKG, radius, scorer, min_children_gs, max_size_gs, minFraction_small, minFraction_large, node_types, minGeneSpec, min_edge_score, score_field, verbose)\u001b[0m\n\u001b[1;32m   1689\u001b[0m acceptX \u001b[38;5;241m=\u001b[39m \u001b[38;5;28;01mFalse\u001b[39;00m\n\u001b[1;32m   1690\u001b[0m \u001b[38;5;28;01mfor\u001b[39;00m nodeType \u001b[38;5;129;01min\u001b[39;00m nodeTypes:\n\u001b[0;32m-> 1691\u001b[0m     acceptX \u001b[38;5;241m=\u001b[39m acceptX \u001b[38;5;129;01mor\u001b[39;00m (orig_kg\u001b[38;5;241m.\u001b[39medges[(x,n)]\u001b[38;5;241m.\u001b[39mget(\u001b[38;5;124m\"\u001b[39m\u001b[38;5;132;01m{}\u001b[39;00m\u001b[38;5;124m_spec\u001b[39m\u001b[38;5;124m\"\u001b[39m\u001b[38;5;241m.\u001b[39mformat(nodeType), \u001b[38;5;241m1.0\u001b[39m) \u001b[38;5;241m>\u001b[39m \u001b[43mminGeneSpec\u001b[49m\u001b[38;5;241;43m.\u001b[39;49m\u001b[43mget\u001b[49m(nodeType, \u001b[38;5;241m0\u001b[39m))\n\u001b[1;32m   1692\u001b[0m     \u001b[38;5;28;01mif\u001b[39;00m acceptX:\n\u001b[1;32m   1693\u001b[0m         \u001b[38;5;28;01mbreak\u001b[39;00m\n",
      "\u001b[0;31mAttributeError\u001b[0m: 'float' object has no attribute 'get'"
     ]
    }
   ],
   "source": [
    "tlda.calculate_modules(relevant_cellgroups=[\"FIB\"])"
   ]
  },
  {
   "cell_type": "code",
   "execution_count": 14,
   "id": "e00af7d7-4ff9-4cbf-943e-87408e33e4fc",
   "metadata": {},
   "outputs": [
    {
     "data": {
      "text/plain": [
       "{'kg': {},\n",
       " 'communities': {},\n",
       " 'communities_details': {},\n",
       " 'communities_enhanced': {}}"
      ]
     },
     "execution_count": 14,
     "metadata": {},
     "output_type": "execute_result"
    }
   ],
   "source": [
    "tlda.communities"
   ]
  },
  {
   "cell_type": "code",
   "execution_count": 15,
   "id": "cb7a790b-bbfc-45f8-89e4-a45bfef610ca",
   "metadata": {},
   "outputs": [
    {
     "data": {
      "text/plain": [
       "{'FIB': {'kg': {},\n",
       "  'communities': {},\n",
       "  'communities_details': {},\n",
       "  'communities_enhanced': {}}}"
      ]
     },
     "execution_count": 15,
     "metadata": {},
     "output_type": "execute_result"
    }
   ],
   "source": [
    "tlda.cellgroupdata"
   ]
  },
  {
   "cell_type": "code",
   "execution_count": 9,
   "id": "e6e1baa5-c7aa-4705-bc60-ce7170e4a9bc",
   "metadata": {},
   "outputs": [
    {
     "ename": "PicklingError",
     "evalue": "Can't pickle <function <lambda> at 0x7fe7de598ea0>: attribute lookup <lambda> on __main__ failed",
     "output_type": "error",
     "traceback": [
      "\u001b[0;31m---------------------------------------------------------------------------\u001b[0m",
      "\u001b[0;31mPicklingError\u001b[0m                             Traceback (most recent call last)",
      "Cell \u001b[0;32mIn[9], line 2\u001b[0m\n\u001b[1;32m      1\u001b[0m \u001b[38;5;28;01mwith\u001b[39;00m \u001b[38;5;28mopen\u001b[39m(\u001b[38;5;124m\"\u001b[39m\u001b[38;5;124mkpmp_tlda.pickle\u001b[39m\u001b[38;5;124m\"\u001b[39m, \u001b[38;5;124m'\u001b[39m\u001b[38;5;124mwb\u001b[39m\u001b[38;5;124m'\u001b[39m) \u001b[38;5;28;01mas\u001b[39;00m f:    \n\u001b[0;32m----> 2\u001b[0m     \u001b[43mpickle\u001b[49m\u001b[38;5;241;43m.\u001b[39;49m\u001b[43mdump\u001b[49m\u001b[43m(\u001b[49m\u001b[43mtlda\u001b[49m\u001b[43m,\u001b[49m\u001b[43m \u001b[49m\u001b[43mf\u001b[49m\u001b[43m)\u001b[49m\n",
      "\u001b[0;31mPicklingError\u001b[0m: Can't pickle <function <lambda> at 0x7fe7de598ea0>: attribute lookup <lambda> on __main__ failed"
     ]
    }
   ],
   "source": [
    "with open(\"kpmp_tlda.pickle\", 'wb') as f:    \n",
    "    pickle.dump(tlda, f)"
   ]
  },
  {
   "cell_type": "code",
   "execution_count": null,
   "id": "9d683b47-3be2-4751-9bd6-8e688f607792",
   "metadata": {},
   "outputs": [],
   "source": []
  },
  {
   "cell_type": "code",
   "execution_count": null,
   "id": "4e8fa15d-e6c2-44b9-889a-34fa3c8d780b",
   "metadata": {},
   "outputs": [],
   "source": [
    "import pickle\n",
    "\n",
    "with open(\"kpmp_tlda.pickle\", 'rb') as f:    \n",
    "    tlda = pickle.load(f)"
   ]
  },
  {
   "cell_type": "code",
   "execution_count": null,
   "id": "9ca392dd-a489-45da-b08b-7fce3aa24833",
   "metadata": {},
   "outputs": [],
   "source": [
    "tlda.plot_module_comparisons(plot_communities=True)"
   ]
  },
  {
   "cell_type": "code",
   "execution_count": null,
   "id": "4df9ec48-26bf-436e-a863-88d5748ad810",
   "metadata": {},
   "outputs": [],
   "source": [
    "ct.compare_modules(tlda.communities, figsize=(50,50))"
   ]
  },
  {
   "cell_type": "code",
   "execution_count": null,
   "id": "e2de9cb2-7779-42b3-bce6-82265144ca3c",
   "metadata": {},
   "outputs": [],
   "source": [
    "descrDF = tlda.describe_modules()\n",
    "descrDF.to_csv(\"diff_modules_description.tsv\", sep=\"\\t\")\n",
    "descrDF"
   ]
  },
  {
   "cell_type": "code",
   "execution_count": null,
   "id": "348a8aa0-e190-48e5-a6a3-218d1aa963ac",
   "metadata": {},
   "outputs": [],
   "source": []
  },
  {
   "cell_type": "code",
   "execution_count": null,
   "id": "19de6be9-1526-46b1-ba7a-2e7bf493a4c4",
   "metadata": {},
   "outputs": [],
   "source": [
    "nwe = NetworkExtender()"
   ]
  },
  {
   "cell_type": "code",
   "execution_count": null,
   "id": "6c5c9c10-ce17-44e5-913a-009e50138b42",
   "metadata": {},
   "outputs": [],
   "source": [
    "def describe_kg(kg, name):\n",
    "\n",
    "    detailDict = {}\n",
    "\n",
    "    detailDict[\"name\"] = name\n",
    "\n",
    "    relNodeTypes = [\"gene\", \"geneset\", \"disease\", \"drug\", \"ncRNA\", \"TF\"]\n",
    "    allNodes = set()\n",
    "    for relNodeType in relNodeTypes:\n",
    "        subkg = kg.filter_nodes(lambda x, k: k.node_type_overlap(x, relNodeType))\n",
    "\n",
    "        if not relNodeType in [\"gene\", \"ncRNA\", \"TF\"]:\n",
    "            nodeDescription = [(x, subkg.kg.nodes[x].get(\"name\", x)) for x in subkg.kg.nodes]\n",
    "        else:\n",
    "            nodeDescription = [x for x in subkg.kg.nodes]\n",
    "        \n",
    "        detailDict[\"{}_nodes\".format(relNodeType)] = sorted(nodeDescription)\n",
    "        allNodes.update(nodeDescription)\n",
    "\n",
    "    allNodes = [(x, kg.kg.nodes[x].get(\"name\", x)) for x in kg.kg.nodes]\n",
    "    otherNodes = set(allNodes).difference(allNodes)\n",
    "    detailDict[\"other_nodes\"] = otherNodes\n",
    "\n",
    "    return detailDict"
   ]
  },
  {
   "cell_type": "code",
   "execution_count": null,
   "id": "87ee247b-3941-4110-8c42-3e780378e2db",
   "metadata": {},
   "outputs": [],
   "source": [
    "def enhance_kg_genesets_sloppy(inkg, ref_kg):\n",
    "    eKG = nwe.extend_network(inkg.copy(), ref_kg,\n",
    "                             minFraction_large=0.4, minFraction_small=0.4, \n",
    "                             node_types = [\"geneset\"],\n",
    "                             minGeneSpec={\"geneset\": 0.0},\n",
    "                             min_children_gs=3, max_size_gs=200, score_field=\"fc_score\",\n",
    "                             verbose=False)\n",
    "    return eKG"
   ]
  },
  {
   "cell_type": "code",
   "execution_count": null,
   "id": "1e3f8e0e-c22d-409d-b990-8919e3f2ca7a",
   "metadata": {},
   "outputs": [],
   "source": [
    "allModuleDescriptions = []\n",
    "for cg in cellgroupdata_12:\n",
    "\n",
    "    for comm in cellgroupdata_12[cg][3]:\n",
    "\n",
    "        ckg = cellgroupdata_12[cg][3][comm]\n",
    "\n",
    "        ddict = describe_kg(ckg, comm)\n",
    "\n",
    "        for cname in cellgroupdata_12[cg][2][comm]:\n",
    "            zonename = cname.split(\"_\",1)[1]\n",
    "            ddict[\"{}_score_median\".format(zonename)] = cellgroupdata_12[cg][2][comm][cname][\"median\"]\n",
    "            ddict[\"{}_score_mean\".format(zonename)] = cellgroupdata_12[cg][2][comm][cname][\"mean\"]\n",
    "            ddict[\"{}_cohend\".format(zonename)] = cellgroupdata_12[cg][2][comm][cname][\"cohend\"]\n",
    "\n",
    "            gene_nodes = list(ckg.filter_nodes(lambda x, k: k.node_type_overlap(x, \"gene\")).kg.nodes)\n",
    "            disease_nodes = list(ckg.filter_nodes(lambda x, k: k.node_type_overlap(x, \"disease\")).kg.nodes)\n",
    "            drug_nodes = list(ckg.filter_nodes(lambda x, k: k.node_type_overlap(x, \"drug\")).kg.nodes)\n",
    "\n",
    "            absGeneScores = cellgroupdata_12[cg][0][cname].get_node_scores(nodes=gene_nodes, score_accessor=lambda x: x.get(\"score\", 0))\n",
    "            absDiseaseScores = cellgroupdata_12[cg][0][cname].get_node_scores(nodes=disease_nodes, score_accessor=lambda x: x.get(\"score\", 0))\n",
    "            absDrugScores = cellgroupdata_12[cg][0][cname].get_node_scores(nodes=drug_nodes, score_accessor=lambda x: x.get(\"score\", 0))\n",
    "\n",
    "            #print(cname, \"genes\", absGeneScores, np.mean(absGeneScores))\n",
    "            #print(cname, \"disease\", absDiseaseScores, np.mean(absDiseaseScores))\n",
    "            #print(cname, \"drugs\", absDrugScores, np.mean(absDrugScores))\n",
    "            \n",
    "            ddict[\"{}_absmean-gene\".format(zonename)] = np.mean(absGeneScores)\n",
    "            ddict[\"{}_absmean-disease\".format(zonename)] = np.mean(absDiseaseScores)\n",
    "            ddict[\"{}_absmean-drug\".format(zonename)] = np.mean(absDrugScores)\n",
    "\n",
    "            ddict[\"{}_diffmean-gene\".format(zonename)] = np.mean(cellgroupdata_12[cg][0][cname].get_node_scores(nodes=gene_nodes, score_accessor=lambda x: x.get(\"fc_score\", 0)))\n",
    "            ddict[\"{}_diffmean-disease\".format(zonename)] = np.mean(cellgroupdata_12[cg][0][cname].get_node_scores(nodes=disease_nodes, score_accessor=lambda x: x.get(\"fc_score\", 0)))\n",
    "            ddict[\"{}_diffmean-drug\".format(zonename)] = np.mean(cellgroupdata_12[cg][0][cname].get_node_scores(nodes=drug_nodes, score_accessor=lambda x: x.get(\"fc_score\", 0)))\n",
    "\n",
    "       \n",
    "        refKgName = comm.split(\"_mod_\")[0]\n",
    "        refKG = cellgroupdata_12[cg][0][refKgName]\n",
    "\n",
    "        ddict[\"base_condition\"] = refKgName\n",
    "\n",
    "        eCKG = enhance_kg_genesets_sloppy(ckg, refKG)\n",
    "        geneSetEnhanced = [(x, eCKG.kg.nodes[x].get(\"name\", x)) for x in eCKG.kg.nodes if eCKG.node_type_overlap(x, \"geneset\")]\n",
    "        ddict[\"geneset_nodes_enhanced\"] = geneSetEnhanced\n",
    "\n",
    "        #ddict = {x: ddict[x] for x in sorted([y for y in ddict])}\n",
    "        \n",
    "        allModuleDescriptions.append(ddict)\n",
    "\n",
    "descrDF = pd.DataFrame(allModuleDescriptions)\n",
    "descrDF.to_csv(\"diff_modules_description.tsv\", sep=\"\\t\")\n",
    "descrDF"
   ]
  },
  {
   "cell_type": "code",
   "execution_count": null,
   "id": "be54544d-774f-4d09-9b08-d26b8c83cc92",
   "metadata": {},
   "outputs": [],
   "source": [
    "def create_overlap_df(outfile, nodetype):\n",
    "    all_genesets = [x for x in kg.kg.nodes if kg.node_type_overlap(x, nodetype)]\n",
    "\n",
    "    genesetDict = {x: set(kg._get_predecessors(x, ntype=\"gene\", n=1)) for x in all_genesets}\n",
    "    genesetDict = {x: genesetDict[x] for x in genesetDict if len(genesetDict[x]) > 0}\n",
    "    print(len(genesetDict))\n",
    "\n",
    "    allModuleGenesetOverlaps = []\n",
    "    for cg in cellgroupdata_12:\n",
    "    \n",
    "        for comm in cellgroupdata_12[cg][3]:\n",
    "    \n",
    "            ckg = cellgroupdata_12[cg][3][comm]\n",
    "            ckg_genes = [x for x in ckg.kg.nodes if ckg.node_type_overlap(x, \"gene\")]\n",
    "    \n",
    "            for geneset in genesetDict:\n",
    "    \n",
    "                genesetGenes = genesetDict[geneset]\n",
    "                intersect = len(genesetGenes.intersection(ckg_genes))\n",
    "                union = len(genesetGenes.union(ckg_genes))\n",
    "    \n",
    "                overlap = intersect / len(genesetGenes)\n",
    "                jaccard = intersect / union\n",
    "    \n",
    "                if overlap == 0 and jaccard == 0:\n",
    "                    continue\n",
    "                allModuleGenesetOverlaps.append( (cg, comm, geneset, len(genesetGenes), kg.kg.nodes[geneset].get(\"name\", geneset), overlap, jaccard) )\n",
    "    \n",
    "    overlapDF = pd.DataFrame.from_records(allModuleGenesetOverlaps, columns=(\"celltype\", \"module\", nodetype, \"{}_size\".format(nodetype), \"{}_name\".format(nodetype), \"overlap\", \"jaccard\"))\n",
    "    overlapDF.to_csv(outfile, sep=\"\\t\")\n",
    "    overlapDF.sort_values(\"jaccard\", ascending=False).head(20)\n",
    "    return overlapDF\n"
   ]
  },
  {
   "cell_type": "code",
   "execution_count": null,
   "id": "be59fe9c-610d-4491-ae55-07feae8ac5e6",
   "metadata": {},
   "outputs": [],
   "source": [
    "genesetOverlapDF = create_overlap_df(\"diff_modules_description_overlap_geneset.tsv\", \"geneset\")"
   ]
  },
  {
   "cell_type": "code",
   "execution_count": null,
   "id": "7eb44488-e9f5-4162-af5b-6cdf45ffb626",
   "metadata": {},
   "outputs": [],
   "source": [
    "drugOverlapDF = create_overlap_df(\"diff_modules_description_overlap_drug.tsv\", \"drug\")"
   ]
  },
  {
   "cell_type": "code",
   "execution_count": null,
   "id": "8f5d6285-d42c-487a-8971-835b0fafcfee",
   "metadata": {},
   "outputs": [],
   "source": [
    "diseaseOverlapDF = create_overlap_df(\"diff_modules_description_overlap_disease.tsv\", \"disease\")"
   ]
  },
  {
   "cell_type": "code",
   "execution_count": null,
   "id": "c29ef3f1-4e1c-4ab7-ae4c-10cf4207ed68",
   "metadata": {},
   "outputs": [],
   "source": []
  },
  {
   "cell_type": "code",
   "execution_count": null,
   "id": "3d0723ab-fea9-4961-961e-6b9b174b1833",
   "metadata": {},
   "outputs": [],
   "source": [
    "genesetOverlapDF"
   ]
  },
  {
   "cell_type": "code",
   "execution_count": null,
   "id": "a4eeb242-a1a6-40da-86c2-8762a90b7d29",
   "metadata": {},
   "outputs": [],
   "source": [
    "drugOverlapDF"
   ]
  },
  {
   "cell_type": "code",
   "execution_count": null,
   "id": "aaeda302-5bf7-43ae-bc15-1b85578be5a8",
   "metadata": {},
   "outputs": [],
   "source": [
    "descrDF[(descrDF.base_region == \"FIB_AKI\") & (descrDF.drug_nodes.apply(len) != 0)].sort_values([\"AKI_score_mean\"], ascending=False).head(n=2)"
   ]
  },
  {
   "cell_type": "code",
   "execution_count": null,
   "id": "809e20e9-6c51-41a6-877f-5b7c59e528c9",
   "metadata": {},
   "outputs": [],
   "source": [
    "descrDF[(descrDF.base_region == \"FIB_COV_AKI\") & (descrDF.drug_nodes.apply(len) != 0)].sort_values([\"COV_AKI_score_mean\"], ascending=False).head(n=2)"
   ]
  },
  {
   "cell_type": "code",
   "execution_count": null,
   "id": "5288232c-9de9-48ab-8dd5-16cf35434fdd",
   "metadata": {},
   "outputs": [],
   "source": [
    "descrDF.head()"
   ]
  },
  {
   "cell_type": "code",
   "execution_count": null,
   "id": "e2880d13-d7a7-46eb-874d-22fa7759f43d",
   "metadata": {},
   "outputs": [],
   "source": []
  },
  {
   "cell_type": "code",
   "execution_count": null,
   "id": "7029f761-1710-4632-8ad1-0c2c983bb244",
   "metadata": {},
   "outputs": [],
   "source": [
    "import numpy as np\n",
    "import pandas as pd\n",
    "import scanpy as sc\n",
    "\n",
    "from collections import Counter"
   ]
  },
  {
   "cell_type": "code",
   "execution_count": null,
   "id": "afd32e69-aa56-4421-a3e7-1600272ea45c",
   "metadata": {},
   "outputs": [],
   "source": [
    "adata = sc.read_h5ad(\"kpmp.h5ad\")"
   ]
  },
  {
   "cell_type": "code",
   "execution_count": null,
   "id": "dca0e373-bfec-42ca-95ac-447e88769d98",
   "metadata": {},
   "outputs": [],
   "source": [
    "celltype_col=\"subclass.l1\"\n",
    "condition_col = \"myconditions\""
   ]
  },
  {
   "cell_type": "code",
   "execution_count": null,
   "id": "b8081171-7a82-4459-b3ea-99148c1b4292",
   "metadata": {},
   "outputs": [],
   "source": [
    "adata.obs[\"ct_condition\"] = adata.obs[celltype_col].astype(str) + \"_\" + adata.obs[condition_col].astype(str)\n",
    "adata.obs[\"ct_condition\"] = pd.Categorical(adata.obs[\"ct_condition\"])"
   ]
  },
  {
   "cell_type": "code",
   "execution_count": null,
   "id": "693c47c3-1c22-4782-aeaf-89b9364c10b6",
   "metadata": {},
   "outputs": [],
   "source": [
    "adata"
   ]
  },
  {
   "cell_type": "code",
   "execution_count": null,
   "id": "6868a911-9097-4dbb-9b8b-bf65d423f5e6",
   "metadata": {},
   "outputs": [],
   "source": [
    "from matplotlib import rcParams\n",
    "rcParams.update({'figure.autolayout': True})"
   ]
  },
  {
   "cell_type": "code",
   "execution_count": null,
   "id": "1ee82b89-bd8a-49de-9fe4-b71e6a2537b5",
   "metadata": {},
   "outputs": [],
   "source": [
    "import matplotlib\n",
    "from mpl_toolkits.axes_grid1 import make_axes_locatable\n",
    "\n",
    "def plot_graph2(inkg, ax=None, figsize=(6,6), title=\"\", pos=None, close=True, font_size=8,\n",
    "            edge_score_normalizer=None,\n",
    "            node_score_normalizer=None,\n",
    "            edge_cmap = plt.cm.Reds,\n",
    "            max_node_size = 200,\n",
    "            nodetype2color={\"gene\": \"#239756\", \"geneset\": \"#3fc37e\", \"disease\": \"#5047ee\", \"drug\": \"#3026c1\", \"NA\": \"#f37855\" },\n",
    "            nodecolors = {\"gene\": \"#239756\", \"geneset\": \"#3fc37e\", \"disease\": \"#5047ee\", \"drug\": \"#e600e6\", \"NA\": \"#f37855\" },\n",
    "            nodeshapes = {\"gene\": \"o\", \"geneset\": \"s\", \"disease\": \"^\", \"drug\": \"p\", \"NA\": \"o\" },\n",
    "            edge_score_accessor=lambda x: x.get(\"score\", 0),\n",
    "            node_score_accessor=lambda x: x.get(\"score\", 0)\n",
    "            ):   \n",
    "            \n",
    "    if ax is None:\n",
    "        fig = plt.figure(tight_layout=True, figsize=figsize)\n",
    "        gs = gridspec.GridSpec(2, 2, height_ratios=[2, 0.1])\n",
    "\n",
    "        ax = fig.add_subplot(gs[0, :])\n",
    "        es_ax = fig.add_subplot(gs[1, 0])\n",
    "        ns_ax = fig.add_subplot(gs[1, 1])\n",
    "    else:\n",
    "        divider = make_axes_locatable(ax)\n",
    "        es_ax = divider.append_axes(\"bottom\", size=\"5%\", pad=0.5)\n",
    "        ns_ax = divider.append_axes(\"bottom\", size=\"10%\", pad=0.5)\n",
    "\n",
    "        \n",
    "        \n",
    "    G = inkg.kg\n",
    "\n",
    "    #pos = nx.kamada_kawai_layout(G, pos=nx.spring_layout(G, k=0.15, iterations=20))  # For better example looking\n",
    "    if pos is None:\n",
    "        pos = nx.spring_layout(G, k=0.3, iterations=50)\n",
    "        \n",
    "    \n",
    "    nodecolor = None\n",
    "    if not nodetype2color is None:\n",
    "        nodecolor = {}\n",
    "        for node in G.nodes:\n",
    "            nodecolor[node] = nodecolors.get(sorted(G.nodes[node].get(\"type\", [\"NA\"]))[0], \"#f37855\")\n",
    "            \n",
    "    if node_score_normalizer is None:         \n",
    "        allNodeScores = [node_score_accessor(G.nodes[node]) for node in G.nodes]\n",
    "        node_score_normalizer = plt.Normalize(vmin = min(allNodeScores), vmax=max(allNodeScores))\n",
    "        \n",
    "    node_size_func = lambda x: 50 + max_node_size*node_score_normalizer(x)\n",
    "    \n",
    "                                    \n",
    "    nodeshape = None\n",
    "    if not nodeshapes is None:\n",
    "        nodeshape = []\n",
    "        \n",
    "        nodelists = defaultdict(list)\n",
    "        nodesizes = defaultdict(list)\n",
    "        \n",
    "        for i,node in enumerate(G.nodes):\n",
    "            \n",
    "            nodeNodeTypes = G.nodes[node].get(\"type\", [\"NA\"])\n",
    "            \n",
    "            if len(set(nodeNodeTypes).intersection(set(nodeshapes.keys()))) > 0:\n",
    "                for ntype in nodeNodeTypes:\n",
    "                    if ntype in nodeshapes:\n",
    "                        ns = nodeshapes.get(ntype, \"o\")               \n",
    "                        nodelists[ns].append(node)\n",
    "                        nodesizes[ns].append( node_size_func(node_score_accessor(G.nodes[node])) )\n",
    "                        continue\n",
    "            else:\n",
    "                ntype = \"NA\"\n",
    "                ns = nodeshapes.get(ntype, \"o\")               \n",
    "                nodelists[ns].append(node)\n",
    "                nodesizes[ns].append( node_size_func(node_score_accessor(G.nodes[node])) )\n",
    "        \n",
    "        for ns in nodelists:\n",
    "            nx.draw_networkx_nodes(G, pos, nodelist=nodelists[ns], node_size=nodesizes[ns], ax=ax, node_color=[nodecolor[n] for n in nodelists[ns]], node_shape=ns)\n",
    "        \n",
    "        \n",
    "    else:\n",
    "        nodesizes = []\n",
    "        for node in G.nodes:\n",
    "            nodesizes.append( node_size_func(node_score_accessor(G.nodes[node])) )\n",
    "                    \n",
    "        nx.draw_networkx_nodes(G, pos, node_size=nodesizes, ax=ax, node_color=[nodecolor[n] for n in G.nodes], node_shape=nodeshape)\n",
    "        \n",
    "        \n",
    "    posnodes = {}\n",
    "    for x in pos:\n",
    "        posnodes[x] = list(pos[x])\n",
    "        posnodes[x][1] += 0.02\n",
    "        \n",
    "    nodelabels = {}\n",
    "    for x in G.nodes:\n",
    "        \n",
    "        if \"name\" in G.nodes[x]:\n",
    "            nodeName = G.nodes[x].get(\"name\", x)\n",
    "            \n",
    "            if nodeName == x:\n",
    "                nodelabels[x] = \"{}\".format(x)\n",
    "            else:\n",
    "                nodelabels[x] = \"{}\\n({})\".format(nodeName, x)\n",
    "        else:\n",
    "            nodelabels[x] = x\n",
    "        \n",
    "    \n",
    "                    \n",
    "    nx.draw_networkx_labels(G, posnodes, labels=nodelabels, font_size=font_size, ax=ax)\n",
    "    \n",
    "    edge_scores = [edge_score_accessor(G.edges[e]) for e in G.edges]\n",
    "    \n",
    "    if not edge_score_normalizer is None:\n",
    "        edge_scores = [edge_score_normalizer(x) for x in edge_scores]\n",
    "        edge_min = 0.0\n",
    "        edge_max = 1.0\n",
    "        \n",
    "    else:\n",
    "        if len(edge_scores) == 0:\n",
    "            edge_min = -0.25\n",
    "        else:\n",
    "            edge_min = np.floor(np.min(edge_scores))\n",
    "            \n",
    "        if len(edge_scores) == 0:\n",
    "            edge_max = 1\n",
    "        else:\n",
    "            edge_max = np.ceil(np.max(edge_scores))        \n",
    "            \n",
    "                        \n",
    "    nx.draw_networkx_edges(G, pos, width=2, edge_vmin=edge_min, edge_vmax=edge_max, edge_cmap = edge_cmap, edge_color=edge_scores, ax=ax)\n",
    "    ax.set_title(title, loc='left')\n",
    "    \n",
    "    \n",
    "    if edge_score_normalizer is None:\n",
    "        edge_score_normalizer = plt.Normalize(vmin = edge_min, vmax=edge_max)\n",
    "        \n",
    "    sm = plt.cm.ScalarMappable(cmap=edge_cmap, norm=edge_score_normalizer)\n",
    "    cbar = plt.gcf().colorbar(sm, orientation=\"horizontal\", pad=0.1, ax=ax, cax=es_ax, shrink=1.0)\n",
    "    cbar.ax.set_xlabel(\"Edge Score\".format())\n",
    "                \n",
    "    \n",
    "    def get_legend(norm, ax, num=5):\n",
    "        \n",
    "        sizes = np.linspace(norm.vmin, norm.vmax, num)\n",
    "        \n",
    "        plotsizes = [node_size_func(x) for x in sizes]\n",
    "\n",
    "        xsizes = [i for i in range(0, len(sizes))]\n",
    "        ysizes = [0]*len(sizes)\n",
    "        sc = ax.scatter(xsizes, ysizes, s=plotsizes, color='#239756')\n",
    "        \n",
    "        for i, (xi, yi) in enumerate(zip(xsizes, ysizes)):\n",
    "            plt.text(xi, -0.07, \"{:.3f}\".format(sizes[i]), va='bottom', ha='center', fontsize=\"small\")\n",
    "\n",
    "        ax.get_xaxis().set_visible(False)\n",
    "        ax.get_yaxis().set_visible(False)\n",
    "        ax.spines['top'].set_visible(False)\n",
    "        ax.spines['right'].set_visible(False)\n",
    "        ax.spines['bottom'].set_visible(False)\n",
    "        ax.spines['left'].set_visible(False)\n",
    "        \n",
    "        mid = min(xsizes) + (max(xsizes)-min(xsizes))/2\n",
    "        plt.text(mid, -0.1, \"Node Score\", va='bottom', ha='center', fontsize=\"small\")\n",
    "        \n",
    "    \n",
    "    #divider = make_axes_locatable(cbar.ax)\n",
    "    #sax = divider.append_axes(\"right\", size='100%')\n",
    "    get_legend(node_score_normalizer, ns_ax)\n",
    "    \n",
    "    \n",
    "    if close:\n",
    "    \n",
    "        plt.show()\n",
    "        plt.close()\n",
    "        \n",
    "    return pos"
   ]
  },
  {
   "cell_type": "code",
   "execution_count": null,
   "id": "6a9e1c24-dc5e-49b0-9924-231a473b8ff2",
   "metadata": {},
   "outputs": [],
   "source": [
    "def calculate_gs_overlap(gsType, gsDict, moduleKG):\n",
    "\n",
    "    ckg_genes = [x for x in moduleKG.kg.nodes if moduleKG.node_type_overlap(x, \"gene\")]\n",
    "    allModuleGenesetOverlaps = []\n",
    "\n",
    "    for geneset in gsDict[gsType]:\n",
    "\n",
    "        genesetGenes = gsDict[gsType][geneset]\n",
    "        intersect = len(genesetGenes.intersection(ckg_genes))\n",
    "        union = len(genesetGenes.union(ckg_genes))\n",
    "\n",
    "        overlap = intersect / len(genesetGenes)\n",
    "        jaccard = intersect / union\n",
    "\n",
    "        if overlap == 0 and jaccard == 0:\n",
    "            continue\n",
    "        allModuleGenesetOverlaps.append( (geneset, len(genesetGenes), geneset[1], overlap, jaccard) )\n",
    "\n",
    "    return allModuleGenesetOverlaps\n",
    "\n",
    "\n",
    "def toShortName(x):\n",
    "    x = str(x)\n",
    "    if len(x) > 20:\n",
    "\n",
    "        x = x[:20] + \"...\"\n",
    "    return x\n",
    "\n",
    "def describe_module_scrna(cgdat, fullKG, adata, plot_folder=None, plot_prefix=\"overview_plot_{}\", module_names=None, gsTypes=[\"disease\", \"geneset\", \"drug\"], numGenesThreshold=3, numElemsBarPlot=10, hue_colors={\"gene\": \"#239756\", \"geneset\": \"#3fc37e\", \"disease\": \"#5047ee\", \"drug\": \"#e600e6\", \"NA\": \"#f37855\" }):\n",
    "    \n",
    "    genesetDict = {}\n",
    "    for gstype in gsTypes:\n",
    "        all_genesets = [x for x in fullKG.kg.nodes if fullKG.node_type_overlap(x, gstype)]\n",
    "\n",
    "        gsDict = {x: set(kg._get_predecessors(x, ntype=\"gene\", n=1)) for x in all_genesets}\n",
    "        gsDict = {(x, fullKG.kg.nodes[x].get(\"name\", x)): gsDict[x] for x in gsDict if len(gsDict[x]) > 0}\n",
    "\n",
    "        genesetDict[gstype] = gsDict\n",
    "    \n",
    "        print(gstype, len(gsDict))\n",
    "\n",
    "    edgeScoreAccessor = lambda x: x.get(\"fc_score\", 0)\n",
    "\n",
    "    allModuleGenesetOverlaps = []\n",
    "    for cg in cgdat:\n",
    "        print(cg)\n",
    "\n",
    "        if module_names is None or not isinstance(module_names, (list, tuple, set)):\n",
    "            useModNames = [x for x in cgdat[cg][3]]\n",
    "        else:\n",
    "            useModNames = [x for x in module_names if x in cgdat[cg][3]]\n",
    "    \n",
    "        for comm in useModNames:\n",
    "    \n",
    "            ckg = cgdat[cg][3][comm]\n",
    "\n",
    "            all_genes = [x for x in ckg.kg.nodes if fullKG.node_type_overlap(x, [\"gene\", \"TF\", \"ncRNA\"])]\n",
    "\n",
    "            print(all_genes)\n",
    "\n",
    "            ncols = 1 + len(gsTypes) + 2\n",
    "            wratios = [6] + [2]*len(gsTypes) + [4, 4]\n",
    "\n",
    "            figWidth = sum(wratios) * 2\n",
    "            print(figWidth)\n",
    "\n",
    "            fig = plt.figure(tight_layout=True, figsize=(figWidth, 12))\n",
    "            spec2 = gridspec.GridSpec(ncols=ncols, nrows=1, figure=fig, width_ratios=wratios, wspace=0.4)\n",
    "\n",
    "            allAxs = []\n",
    "            for i in range(ncols):\n",
    "                fax = fig.add_subplot(spec2[0, i])\n",
    "                allAxs.append(fax)\n",
    "            \n",
    "            gene_expressions = defaultdict(list)\n",
    "            for cond in cgdat[cg][0]:\n",
    "                condkg = cgdat[cg][0][cond]\n",
    "\n",
    "                gene_expressions[cond] = condkg.get_edge_scores(edgeScoreAccessor, nodes=all_genes)\n",
    "                #print(cond, gene_expressions[cond])\n",
    "\n",
    "            minValue = 0\n",
    "            maxValue = 0\n",
    "            for cond in gene_expressions:\n",
    "                #print(cond, len(gene_expressions[cond]), gene_expressions[cond])\n",
    "\n",
    "                minValue = min(gene_expressions[cond] + [minValue])\n",
    "                maxValue = max(gene_expressions[cond] + [maxValue])\n",
    "                \n",
    "                _ = allAxs[-2].hist(gene_expressions[cond], len(gene_expressions[cond]), density=True,\n",
    "                                histtype='step', cumulative=True, label='{}'.format(cond))\n",
    "\n",
    "            allAxs[-2].grid(True)\n",
    "            allAxs[-2].legend(loc='right')\n",
    "            allAxs[-2].set_title(\"Edge Scores per DKG\")\n",
    "\n",
    "            allAxs[-2].spines['top'].set_visible(False)\n",
    "            allAxs[-2].spines['right'].set_visible(False)\n",
    "            #allAxs[-2].spines['bottom'].set_visible(False)\n",
    "            #allAxs[-2].spines['left'].set_visible(False)\n",
    "            \n",
    "            ckg.plot_graph(ax=allAxs[0],\n",
    "                           edge_score_accessor=edgeScoreAccessor,\n",
    "                           node_score_accessor=edgeScoreAccessor, close=False,\n",
    "                           edge_score_normalizer = plt.Normalize(vmin = minValue, vmax=maxValue)\n",
    "                          )\n",
    "            allAxs[0].set_title(\"Knowledge Graph Module {}\".format(comm))\n",
    "\n",
    "\n",
    "            for gsi, gstype in enumerate(gsTypes):\n",
    "    \n",
    "                diseaseStat = calculate_gs_overlap(gstype, genesetDict, ckg)   \n",
    "                diseaseStat = sorted(diseaseStat, key=lambda x: x[3], reverse=True)\n",
    "                diseaseDF = pd.DataFrame(diseaseStat, columns=[\"key\", \"num_genes\", \"name\", \"overlap\", \"jaccard\"])\n",
    "                diseaseDF = diseaseDF[diseaseDF.num_genes >= numGenesThreshold]\n",
    "                diseaseDF[\"label\"] = diseaseDF[['key','num_genes']].apply(lambda x : '{}\\n({}, n={})'.format(toShortName(x['key'][1]), toShortName(x['key'][0]), x['num_genes']), axis=1)\n",
    "\n",
    "                useAX = allAxs[ gsi + 1 ]\n",
    "\n",
    "                g=sns.barplot(y=\"label\", x=\"overlap\",  data=diseaseDF[: numElemsBarPlot], orient = 'h', color=hue_colors.get(gstype, None), ax=useAX)\n",
    "                useAX.tick_params(axis='y', rotation=30)\n",
    "                useAX.margins(x = 0.3, tight=True)\n",
    "\n",
    "                useAX.set_title(\"Most overlapped {}\".format(gstype))\n",
    "\n",
    "                useAX.spines['top'].set_visible(False)\n",
    "                useAX.spines['right'].set_visible(False)\n",
    "                #useAX.spines['bottom'].set_visible(False)\n",
    "                #useAX.spines['left'].set_visible(False)\n",
    "\n",
    "\n",
    "\n",
    "            scgenes = [x for x in all_genes if x in adata.var_names]\n",
    "\n",
    "            #sc.tl.score_genes(adata, scgenes, score_name=comm) [comm]+\n",
    "            \n",
    "            allAxs[-1].set_title(\"Expression of module genes in {}\".format(cg))\n",
    "            sc.pl.dotplot(adata[adata.obs[celltype_col] == cg], scgenes, \"ct_condition\", swap_axes=True, ax=allAxs[-1], show=False)\n",
    "\n",
    "            fig.tight_layout()\n",
    "\n",
    "            if not plot_folder is None and not plot_prefix is None:\n",
    "                outfile = \"{}/{}.png\".format(plot_folder, plot_prefix.format(comm))\n",
    "                print(\"Saving plot for module\", comm, \": \", outfile)\n",
    "                plt.savefig(outfile)\n",
    "            \n",
    "            plt.show()\n",
    "            plt.close()\n",
    "\n",
    "            \n",
    "    \n",
    "describe_module_scrna(cellgroupdata_12, kg, adata=adata, module_names=[\"FIB_COV_AKI_mod_41\", \"FIB_COV_AKI_mod_233\", \"FIB_AKI_mod_204\", \"FIB_AKI_mod_28\"], plot_folder=\"./manuscript_plots/\")"
   ]
  },
  {
   "cell_type": "code",
   "execution_count": null,
   "id": "c0640d6c-5133-4e61-8883-d01ef42aba18",
   "metadata": {},
   "outputs": [],
   "source": [
    "1+1"
   ]
  },
  {
   "cell_type": "code",
   "execution_count": null,
   "id": "25b549f7-6292-4b7c-a693-6d012f8edf22",
   "metadata": {},
   "outputs": [],
   "source": [
    "[x for x in cellgroupdata_12]"
   ]
  },
  {
   "cell_type": "code",
   "execution_count": null,
   "id": "142496ae-85e0-4c60-b312-3c08b4c45b9e",
   "metadata": {},
   "outputs": [],
   "source": []
  },
  {
   "cell_type": "raw",
   "id": "182d6a5e-1556-417b-9466-46d157e69eef",
   "metadata": {},
   "source": [
    "import requests\n",
    "import matplotlib.pyplot as plt\n",
    "import numpy as np\n",
    "\n",
    "def read_url(url):\n",
    "    r = requests.get(url)\n",
    "    return r.text\n",
    "\n",
    "def cartesian_to_polar(x, y):\n",
    "    rho = np.sqrt(x**2 + y**2)\n",
    "    phi = np.arctan2(y, x)\n",
    "    return rho, phi\n",
    "\n",
    "def smoothsegment(seg, Nsmooth=100):\n",
    "    return np.concatenate([[seg[0]], np.linspace(seg[1], seg[2], Nsmooth), [seg[3]]])\n",
    "\n",
    "def plot_dendrogram(icoord,dcoord,figsize, polar=False):\n",
    "    if polar:\n",
    "        dcoord = -np.log(dcoord+1)\n",
    "        # avoid a wedge over the radial labels\n",
    "        gap = 0.1\n",
    "        imax = icoord.max()\n",
    "        imin = icoord.min()\n",
    "        icoord = ((icoord - imin)/(imax - imin)*(1-gap) + gap/2)*2*np.pi\n",
    "    with plt.style.context(\"seaborn-v0_8-white\"):\n",
    "        fig = plt.figure(figsize=figsize)\n",
    "        ax = fig.add_subplot(111, polar=polar)\n",
    "        for xs, ys in zip(icoord, dcoord):\n",
    "            if polar:\n",
    "                xs = smoothsegment(xs)\n",
    "                ys = smoothsegment(ys)\n",
    "            ax.plot(xs,ys, color=\"black\")\n",
    "        ax.set_title(f\"Polar= {polar}\", fontsize=15)\n",
    "        if polar:\n",
    "            ax.spines['polar'].set_visible(False)\n",
    "            ax.set_rlabel_position(0)\n",
    "            Nxticks = 10\n",
    "            xticks = np.linspace(gap/2, 1-gap/2, Nxticks)\n",
    "            ax.set_xticks(xticks*np.pi*2)\n",
    "            ax.set_xticklabels(np.round(np.linspace(imin, imax, Nxticks)).astype(int))\n",
    "\n",
    "# Load the dendrogram data\n",
    "\n",
    "allModules = natsorted(set([x[0] for x in jaccardSims]+[x[1] for x in jaccardSims]))\n",
    "simMatrix = np.zeros( (len(allModules), len(allModules)) )\n",
    "\n",
    "for mod1, mod2 in jaccardSims:\n",
    "    simMatrix[ allModules.index(mod1), allModules.index(mod2) ] = jaccardSims[(mod1, mod2)]\n",
    "    simMatrix[ allModules.index(mod2), allModules.index(mod1) ] = jaccardSims[(mod1, mod2)]\n",
    "\n",
    "simVec = scipy.spatial.distance.squareform(simMatrix)\n",
    "linkage =  scipy.cluster.hierarchy.linkage(1 - simVec)\n",
    "dendro  =  scipy.cluster.hierarchy.dendrogram(linkage, labels=allModules, no_plot=True)\n",
    "\n",
    "icoord = np.asarray(dendro[\"icoord\"], dtype=float)\n",
    "dcoord = np.asarray(dendro[\"dcoord\"], dtype=float)\n",
    "\n",
    "# Plot the Cartesian version\n",
    "plot_dendrogram(icoord, dcoord, figsize=(8, 3), polar=False)\n",
    "\n",
    "# Plot the polar version\n",
    "plot_dendrogram(icoord, dcoord, figsize=(5, 5), polar=True)\n",
    "\n",
    "plt.show()\n"
   ]
  },
  {
   "cell_type": "code",
   "execution_count": null,
   "id": "00285b2a-36b7-4c9f-aa25-d6f5f0f55780",
   "metadata": {},
   "outputs": [],
   "source": []
  },
  {
   "cell_type": "code",
   "execution_count": null,
   "id": "402bc91d-d987-4756-a4f9-5999f862c1c0",
   "metadata": {},
   "outputs": [],
   "source": []
  },
  {
   "cell_type": "code",
   "execution_count": null,
   "id": "5cea0e4f-0f38-4fd1-9dcc-b39144630d6a",
   "metadata": {},
   "outputs": [],
   "source": []
  },
  {
   "cell_type": "code",
   "execution_count": null,
   "id": "e2ba5ff5-582c-43a3-9fa5-63d22d1d6d06",
   "metadata": {},
   "outputs": [],
   "source": [
    "descrDF."
   ]
  },
  {
   "cell_type": "code",
   "execution_count": null,
   "id": "391fa8af-3e76-498b-8a50-75eee8d466da",
   "metadata": {},
   "outputs": [],
   "source": []
  }
 ],
 "metadata": {
  "kernelspec": {
   "display_name": "Python 3.11",
   "language": "python",
   "name": "python3"
  },
  "language_info": {
   "codemirror_mode": {
    "name": "ipython",
    "version": 3
   },
   "file_extension": ".py",
   "mimetype": "text/x-python",
   "name": "python",
   "nbconvert_exporter": "python",
   "pygments_lexer": "ipython3",
   "version": "3.11.9"
  }
 },
 "nbformat": 4,
 "nbformat_minor": 5
}
