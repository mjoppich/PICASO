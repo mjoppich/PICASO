{
 "cells": [
  {
   "cell_type": "code",
   "execution_count": 1,
   "metadata": {},
   "outputs": [],
   "source": [
    "import os, sys\n",
    "import urllib\n",
    "import zipfile\n",
    "import gzip\n",
    "import pandas as pd\n",
    "\n",
    "from collections import defaultdict\n",
    "from goatools.anno.gaf_reader import GafReader\n",
    "from goatools.obo_parser import GODag\n",
    "\n",
    "import networkx as nx\n",
    "\n",
    "data_dir = \"../data/\""
   ]
  },
  {
   "cell_type": "code",
   "execution_count": 5,
   "metadata": {},
   "outputs": [],
   "source": [
    "def download_and_unzip(download_url_link, dir_path, zipped_filename,destination_dir_name, unzip=True):\n",
    "    #https://www.tutorialsbuddy.com/download-and-unzip-a-zipped-file-in-python\n",
    "    print(\"Download starting\")\n",
    "\n",
    "    urllib.request.urlretrieve(\n",
    "        download_url_link, os.path.join(dir_path, zipped_filename)\n",
    "    )\n",
    "    print(\"Download complete\")\n",
    "\n",
    "    if unzip:\n",
    "        print(\"unzipping file starting\")\n",
    "    \n",
    "        if zipped_filename.endswith(\".zip\"):\n",
    "            with zipfile.ZipFile(os.path.join(dir_path, zipped_filename), \"r\") as zip_file:\n",
    "                zip_file.extractall(os.path.join(dir_path, destination_dir_name))\n",
    "        elif zipped_filename.endswith(\".gz\"):\n",
    "            print(\"zipfile\")\n",
    "            with gzip.GzipFile(os.path.join(dir_path, zipped_filename), \"rb\") as zip_file:\n",
    "                with open(os.path.join(dir_path, destination_dir_name, zipped_filename.replace(\".gz\", \"\")), \"wb\") as fout:\n",
    "                    fout.write(zip_file.read())\n",
    "        else:\n",
    "            raise NotImplementedError(\"NO CASE\")\n",
    "            \n",
    "    \n",
    "    print(\"unzipping complete\")"
   ]
  },
  {
   "cell_type": "code",
   "execution_count": 8,
   "metadata": {},
   "outputs": [],
   "source": [
    "reactomeFile = os.path.join(data_dir,\"ReactomePathways.gmt\")\n",
    "\n",
    "if not os.path.exists(reactomeFile):\n",
    "    download_and_unzip(\"https://reactome.org/download/current/ReactomePathways.gmt.zip\", \".\", os.path.join(data_dir,\"ReactomePathways.gmt.zip\"), data_dir)"
   ]
  },
  {
   "cell_type": "code",
   "execution_count": 12,
   "metadata": {},
   "outputs": [],
   "source": [
    "kg = nx.DiGraph()\n",
    "\n",
    "with open(reactomeFile) as fin:\n",
    "    \n",
    "    for line in fin:\n",
    "        line = line.strip().split(\"\\t\")\n",
    "        \n",
    "        reactomeLabel = line[0]\n",
    "        reactomeID = line[1]\n",
    "        \n",
    "        reactomeGenes = [x for x in line[2:] if x[0].isupper()]\n",
    "               \n",
    "        if not reactomeID in kg.nodes:\n",
    "            kg.add_node(reactomeID, id=reactomeID, name=reactomeLabel, score=0)\n",
    "        \n",
    "        \n",
    "        for gene in reactomeGenes:\n",
    "            if not gene in kg.nodes:\n",
    "                kg.add_node(gene, type=\"gene\", score=0)\n",
    "                \n",
    "            kg.add_edge(gene, reactomeID, type=\"part_of\", score=0)\n"
   ]
  },
  {
   "cell_type": "code",
   "execution_count": 13,
   "metadata": {},
   "outputs": [
    {
     "name": "stdout",
     "output_type": "stream",
     "text": [
      "DiGraph with 13937 nodes and 125897 edges\n"
     ]
    }
   ],
   "source": [
    "print(kg)"
   ]
  }
 ],
 "metadata": {
  "kernelspec": {
   "display_name": "Python 3",
   "language": "python",
   "name": "python3"
  },
  "language_info": {
   "codemirror_mode": {
    "name": "ipython",
    "version": 3
   },
   "file_extension": ".py",
   "mimetype": "text/x-python",
   "name": "python",
   "nbconvert_exporter": "python",
   "pygments_lexer": "ipython3",
   "version": "3.8.10"
  },
  "orig_nbformat": 4
 },
 "nbformat": 4,
 "nbformat_minor": 2
}
