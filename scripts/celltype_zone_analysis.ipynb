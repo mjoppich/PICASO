{
 "cells": [
  {
   "cell_type": "code",
   "execution_count": 1,
   "metadata": {},
   "outputs": [],
   "source": [
    "%load_ext autoreload\n",
    "\n",
    "import os, sys\n",
    "import networkx as nx\n",
    "\n",
    "sys.path.insert(0, \"../\")\n",
    "\n",
    "%autoreload 2\n",
    "from mikg.kgraph import *\n",
    "import pandas as pd\n",
    "import numpy as np\n",
    "\n",
    "import matplotlib\n",
    "import matplotlib.pyplot as plt\n",
    "\n",
    "from collections import defaultdict, Counter\n",
    "\n",
    "import random\n",
    "random.seed(42)\n",
    "\n",
    "import pickle"
   ]
  },
  {
   "cell_type": "code",
   "execution_count": null,
   "metadata": {},
   "outputs": [],
   "source": [
    "kg = KGraph()\n",
    "kg.load_kgraph(\"../data/initial_base_graph.out\")"
   ]
  },
  {
   "cell_type": "code",
   "execution_count": null,
   "metadata": {},
   "outputs": [],
   "source": [
    "kg.get_edge_between_type()"
   ]
  },
  {
   "cell_type": "code",
   "execution_count": null,
   "metadata": {},
   "outputs": [],
   "source": [
    "exprDF = pd.read_csv(\"../seq_data/expression_ctzone_mean_df.tsv\", sep=\"\\t\")"
   ]
  },
  {
   "cell_type": "code",
   "execution_count": null,
   "metadata": {},
   "outputs": [],
   "source": [
    "exprDFs = {}\n",
    "\n",
    "for group in exprDF.group.unique():\n",
    "    exprDFs[group] = exprDF[exprDF.group == group].copy()\n",
    "\n",
    "print([x for x in exprDFs])"
   ]
  },
  {
   "cell_type": "code",
   "execution_count": null,
   "metadata": {},
   "outputs": [],
   "source": [
    "exprKGs = {}\n",
    "\n",
    "for group in exprDFs:\n",
    "    \n",
    "    print(group)\n",
    "    \n",
    "    gKG = KGraph()\n",
    "    \n",
    "    gKG.load_kgraph(\"../data/initial_base_graph.out\")\n",
    "\n",
    "    gKG.add_gene_expression(exprDFs[group])\n",
    "\n",
    "    mNS = MeanNetworkScorer()\n",
    "    mNS.score(gKG)\n",
    "        \n",
    "    exprKGs[group] = gKG"
   ]
  },
  {
   "cell_type": "code",
   "execution_count": null,
   "metadata": {},
   "outputs": [],
   "source": [
    "import pickle\n",
    "\n",
    "print(len(exprKGs))\n",
    "\n",
    "with open(\"zone_exprkgs.pickle\", 'wb') as f:\n",
    "    pickle.dump(exprKGs, f)"
   ]
  },
  {
   "cell_type": "code",
   "execution_count": null,
   "metadata": {},
   "outputs": [],
   "source": [
    "print(len(exprKGs))\n"
   ]
  },
  {
   "cell_type": "code",
   "execution_count": null,
   "metadata": {},
   "outputs": [],
   "source": [
    "##\n",
    "##\n",
    "##\n",
    "#  START HERE\n",
    "##\n",
    "##\n",
    "##"
   ]
  },
  {
   "cell_type": "code",
   "execution_count": null,
   "metadata": {},
   "outputs": [],
   "source": [
    "exprKGs = pickle.load(open(\"zone_exprkgs.pickle\", \"rb\"))"
   ]
  },
  {
   "cell_type": "code",
   "execution_count": null,
   "metadata": {},
   "outputs": [],
   "source": [
    "tissue2zone2kg = defaultdict(lambda : dict())\n",
    "for x in exprKGs:\n",
    "    tissue, zone = x.split(\"_\")\n",
    "    \n",
    "    tissue2zone2kg[tissue][\"{}_{}\".format(tissue, zone)] = exprKGs[x]"
   ]
  },
  {
   "cell_type": "code",
   "execution_count": null,
   "metadata": {},
   "outputs": [],
   "source": [
    "for x in tissue2zone2kg:\n",
    "    print(x, len(tissue2zone2kg[x]), [x for x in tissue2zone2kg[x]])"
   ]
  },
  {
   "cell_type": "code",
   "execution_count": null,
   "metadata": {},
   "outputs": [],
   "source": [
    "gsa = GenesetAnnotator()\n",
    "for t in tissue2zone2kg:\n",
    "    for z in tissue2zone2kg[t]:\n",
    "\n",
    "        print(t,z)\n",
    "        gsa.annotate_genesets(tissue2zone2kg[t][z], settype=\"disease\", targettype=\"gene\") # how specific is gene for disease?\n",
    "        gsa.annotate_genesets(tissue2zone2kg[t][z], settype=\"disease\", targettype=\"drug\") # how specific is drug for disease?"
   ]
  },
  {
   "cell_type": "code",
   "execution_count": null,
   "metadata": {},
   "outputs": [],
   "source": [
    "tissues = [x for x in tissue2zone2kg]\n",
    "zones = [x for x in tissue2zone2kg[tissues[0]]]\n",
    "\n",
    "print(tissues)\n",
    "print(zones)"
   ]
  },
  {
   "cell_type": "code",
   "execution_count": null,
   "metadata": {},
   "outputs": [],
   "source": [
    "fKG = tissue2zone2kg[tissues[0]][zones[0]]\n",
    "\n",
    "fKG.get_edge_between_type()"
   ]
  },
  {
   "cell_type": "code",
   "execution_count": null,
   "metadata": {},
   "outputs": [],
   "source": [
    "fKG.get_edge_edge_types()"
   ]
  },
  {
   "cell_type": "code",
   "execution_count": null,
   "metadata": {},
   "outputs": [],
   "source": [
    "fKG = tissue2zone2kg[tissues[0]][zones[0]]\n",
    "\n",
    "fKG.plot_node_attribute_histogram(lambda x: x.get(\"disease_spec_zscore\", 0), node_type=\"gene\")"
   ]
  },
  {
   "cell_type": "code",
   "execution_count": null,
   "metadata": {},
   "outputs": [],
   "source": [
    "fKG = tissue2zone2kg[tissues[0]][zones[0]]\n",
    "\n",
    "fKG.plot_node_attribute_histogram(lambda x: x.get(\"disease_spec_zscore\", 0), node_type=\"drug\")"
   ]
  },
  {
   "cell_type": "code",
   "execution_count": null,
   "metadata": {},
   "outputs": [],
   "source": [
    "fKG.plot_score_histogram(edge_types=[(\"gene\", \"gene\")],score_accessor=lambda x: x.get(\"score\", 0))"
   ]
  },
  {
   "cell_type": "code",
   "execution_count": null,
   "metadata": {},
   "outputs": [],
   "source": [
    "fKG.plot_score_histogram(edge_types=[(\"gene\", \"gene\")],score_accessor=lambda x: x.get(\"score_zscore\", 0))"
   ]
  },
  {
   "cell_type": "code",
   "execution_count": null,
   "metadata": {},
   "outputs": [],
   "source": [
    "fKG.plot_score_histogram(edge_types=[(\"drug\", \"disease\")],score_accessor=lambda x: x.get(\"score_zscore\", 0))"
   ]
  },
  {
   "cell_type": "code",
   "execution_count": null,
   "metadata": {},
   "outputs": [],
   "source": [
    "! pwd"
   ]
  },
  {
   "cell_type": "code",
   "execution_count": null,
   "metadata": {},
   "outputs": [],
   "source": [
    "mNS = MeanNetworkScorer()"
   ]
  },
  {
   "cell_type": "code",
   "execution_count": null,
   "metadata": {},
   "outputs": [],
   "source": [
    "basedir = \"/home/ubuntu/git/mikg/MI_output\"\n",
    "\n",
    "for x in glob.glob(\"{}/*/*\".format(basedir)):\n",
    "    #print(\"Removing\", x)\n",
    "    os.remove(x)\n",
    "\n",
    "sigKGraphs = {}\n",
    "\n",
    "for tissue in tissue2zone2kg:\n",
    "    print(tissue)\n",
    "    \n",
    "    zoneSort = {\n",
    "        \"CTRL\": 0,\n",
    "        \"RZ\": 1,\n",
    "        \"BZ\": 2,\n",
    "        \"IZ\": 3,\n",
    "        \"FZ\": 4\n",
    "    }\n",
    "    \n",
    "    tissueKGs = tissue2zone2kg[tissue]\n",
    "    \n",
    "    sTZ = sorted([x for x in tissueKGs], key=lambda x: zoneSort.get(x.split(\"_\")[1], -1))\n",
    "    \n",
    "    sTissueKGs = {x: tissueKGs[x] for x in sTZ}\n",
    "    \n",
    "    dmi = DifferentialModuleIdentifier()\n",
    "    \n",
    "    all_comms = {}\n",
    "    for zone in sTissueKGs:\n",
    "        print(tissue, zone)\n",
    "        gene_kg = sTissueKGs[zone].to_gene_kgraph()\n",
    "        \n",
    "        zone_comms = gene_kg.get_communities(minEdgeScore = 1, resolution=4, prefix=\"{}_mod\".format(zone), score_field=\"score_zscore\")\n",
    "        sigcomm = dmi.identify_differential_communities(zone_comms, zone, sTissueKGs, verbose=False, min_enriched=0.9, minLogFC=-1, score_field=\"score_zscore\")   \n",
    "        \n",
    "        for x in sigcomm:\n",
    "            all_comms[x] = zone_comms[x]\n",
    "        \n",
    "    print(len(all_comms))\n",
    "\n",
    "    for comm in all_comms:\n",
    "        print(comm, len(all_comms[comm]))\n",
    "        \n",
    "                \n",
    "        \n",
    "        nwe = NetworkExtender()\n",
    "        eKG = nwe.extend_network(all_comms[comm], sTissueKGs[zone], verbose=False, min_children_gs=3, score_field=\"score_zscore\")\n",
    "        \n",
    "        nwe.extend_network_force(eKG, sTissueKGs[zone], \"drug\",\n",
    "                                 acceptor=lambda n, k: k.kg.nodes[n].get(\"disease_spec_zscore\", 0) >= 0.5, # only disease-specific drugs\n",
    "                                 edge_acceptor=lambda e, k: k.kg.edges[e].get(\"score_zscore\", 0) > 0.1 and not (k.kg.edges[e].get(\"evidence_status\", \"\") in [\"Withdrawn\"]) # no withdrawn drugs\n",
    "                                 )\n",
    "        \n",
    "        #eKG.plot_graph()\n",
    "        \n",
    "        outdir = os.path.join(basedir, tissue)\n",
    "        os.makedirs(outdir, exist_ok=True)\n",
    "        outdir = os.path.join(outdir, comm)\n",
    "        dmi.plot_communities(sTissueKGs, [eKG.kg.nodes], zone, main_net=[all_comms[comm]], font_size=6, titles=[comm], num_columns=5, outfile=outdir, score_accessor=lambda x: x.get(\"score_zscore\", 0))\n",
    "        \n",
    "        sigKGraphs[comm] = eKG\n",
    "\n",
    "            "
   ]
  },
  {
   "cell_type": "code",
   "execution_count": null,
   "metadata": {},
   "outputs": [],
   "source": []
  },
  {
   "cell_type": "code",
   "execution_count": null,
   "metadata": {},
   "outputs": [],
   "source": []
  },
  {
   "cell_type": "code",
   "execution_count": null,
   "metadata": {},
   "outputs": [],
   "source": [
    "[x for x in sigKGraphs]"
   ]
  },
  {
   "cell_type": "code",
   "execution_count": null,
   "metadata": {},
   "outputs": [],
   "source": [
    "import pickle\n",
    "\n",
    "with open(\"zone_sigkgs.pickle\", 'wb') as f:\n",
    "    \n",
    "    for x in sigKGraphs:\n",
    "        sigKGraphs[x].kg = sigKGraphs[x].kg.copy()\n",
    "    \n",
    "    pickle.dump(sigKGraphs, f)"
   ]
  },
  {
   "cell_type": "code",
   "execution_count": null,
   "metadata": {},
   "outputs": [],
   "source": [
    "##\n",
    "##\n",
    "##\n",
    "#  AND MAYBE HERE\n",
    "##\n",
    "##\n",
    "##"
   ]
  },
  {
   "cell_type": "code",
   "execution_count": null,
   "metadata": {},
   "outputs": [],
   "source": [
    "sigKGraphs = pickle.load(open(\"zone_sigkgs.pickle\", \"rb\"))"
   ]
  },
  {
   "cell_type": "code",
   "execution_count": null,
   "metadata": {},
   "outputs": [],
   "source": [
    "[x for x in sigKGraphs]"
   ]
  },
  {
   "cell_type": "code",
   "execution_count": null,
   "metadata": {},
   "outputs": [],
   "source": [
    "fKG.get_node_edges(\"Orphanet:59135\")"
   ]
  },
  {
   "cell_type": "code",
   "execution_count": null,
   "metadata": {},
   "outputs": [],
   "source": [
    "fKG.kg.nodes[\"Orphanet:59135\"]"
   ]
  },
  {
   "cell_type": "code",
   "execution_count": null,
   "metadata": {},
   "outputs": [],
   "source": [
    "fKG.kg.nodes[\"MYH7\"]"
   ]
  },
  {
   "cell_type": "code",
   "execution_count": null,
   "metadata": {},
   "outputs": [],
   "source": []
  },
  {
   "cell_type": "code",
   "execution_count": null,
   "metadata": {},
   "outputs": [],
   "source": [
    "node=\"Orphanet:59135\"\n",
    "target_ntype=\"gene\"\n",
    "child_score_accessor=lambda x: x.get(\"expression\", {}).get(\"score\", 0)\n",
    "\n",
    "#get all children of node of type target_ntype\n",
    "geneChildren = fKG._get_predecessors(node, target_ntype)\n",
    "\n",
    "#get all scores for children\n",
    "childrenScores = []\n",
    "for child in geneChildren:\n",
    "    childrenScores.append( child_score_accessor(fKG.kg.nodes[child]) )\n",
    "\n",
    "    \n",
    "if len(childrenScores) == 0:\n",
    "    nodeMedian = 0\n",
    "    nodeScore = 0    \n",
    "else:\n",
    "    nodeScore = np.mean(childrenScores)\n",
    "    nodeSD = np.std(childrenScores)\n",
    "    nodeMedian = np.median(childrenScores)\n",
    "    \n",
    "print(nodeMedian)"
   ]
  },
  {
   "cell_type": "code",
   "execution_count": null,
   "metadata": {},
   "outputs": [],
   "source": []
  },
  {
   "cell_type": "code",
   "execution_count": null,
   "metadata": {},
   "outputs": [],
   "source": [
    "diseaseDegrees = fKG.get_node_degrees(\"disease\")"
   ]
  },
  {
   "cell_type": "code",
   "execution_count": null,
   "metadata": {},
   "outputs": [],
   "source": [
    "plt.hist(diseaseDegrees, bins=100)"
   ]
  },
  {
   "cell_type": "code",
   "execution_count": null,
   "metadata": {},
   "outputs": [],
   "source": []
  },
  {
   "cell_type": "code",
   "execution_count": null,
   "metadata": {},
   "outputs": [],
   "source": [
    "skg = sigKGraphs[\"Adipocyte_CTRL_mod_22\"]"
   ]
  },
  {
   "cell_type": "code",
   "execution_count": null,
   "metadata": {},
   "outputs": [],
   "source": []
  },
  {
   "cell_type": "code",
   "execution_count": null,
   "metadata": {},
   "outputs": [],
   "source": []
  },
  {
   "cell_type": "code",
   "execution_count": null,
   "metadata": {},
   "outputs": [],
   "source": [
    "def get_edges_of_node(kg, node):\n",
    "    \n",
    "    allEdges = []\n",
    "    for inEdge in kg.in_edges(node):\n",
    "        oNode = inEdge[0]\n",
    "        allEdges.append(oNode)\n",
    "            \n",
    "    for outEdge in kg.out_edges(node):\n",
    "        oNode = outEdge[1]\n",
    "        allEdges.append(oNode)\n",
    "                    \n",
    "    return allEdges"
   ]
  },
  {
   "cell_type": "code",
   "execution_count": null,
   "metadata": {},
   "outputs": [],
   "source": [
    "get_edges_of_node(skg, \"Orphanet:725\")"
   ]
  },
  {
   "cell_type": "code",
   "execution_count": null,
   "metadata": {},
   "outputs": [],
   "source": []
  }
 ],
 "metadata": {
  "kernelspec": {
   "display_name": "Python 3 (ipykernel)",
   "language": "python",
   "name": "python3"
  },
  "language_info": {
   "codemirror_mode": {
    "name": "ipython",
    "version": 3
   },
   "file_extension": ".py",
   "mimetype": "text/x-python",
   "name": "python",
   "nbconvert_exporter": "python",
   "pygments_lexer": "ipython3",
   "version": "3.10.12"
  }
 },
 "nbformat": 4,
 "nbformat_minor": 4
}
