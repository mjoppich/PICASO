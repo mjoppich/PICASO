{
 "cells": [
  {
   "cell_type": "code",
   "execution_count": 1,
   "metadata": {},
   "outputs": [],
   "source": [
    "%load_ext autoreload\n",
    "\n",
    "import os, sys\n",
    "import networkx as nx\n",
    "\n",
    "sys.path.insert(0, \"../\")\n",
    "\n",
    "%autoreload 2\n",
    "from mikg.kgraph import *\n",
    "import pandas as pd\n",
    "import numpy as np\n",
    "\n",
    "import matplotlib\n",
    "import matplotlib.pyplot as plt\n",
    "\n",
    "from collections import defaultdict, Counter\n",
    "\n",
    "import random\n",
    "random.seed(42)\n",
    "\n",
    "import pickle"
   ]
  },
  {
   "cell_type": "code",
   "execution_count": 2,
   "metadata": {},
   "outputs": [],
   "source": [
    "kg = KGraph()\n",
    "kg.load_kgraph(\"../data/initial_base_graph.out\")"
   ]
  },
  {
   "cell_type": "code",
   "execution_count": 3,
   "metadata": {},
   "outputs": [
    {
     "data": {
      "text/plain": [
       "Counter({('ncRNA', 'gene'): 844276,\n",
       "         ('gene', 'gene'): 559541,\n",
       "         ('gene', 'geneset'): 412907,\n",
       "         ('geneset', 'geneset'): 74934,\n",
       "         ('gene', 'disease'): 48403,\n",
       "         ('drug', 'disease'): 35825,\n",
       "         ('drug', 'gene'): 8267,\n",
       "         ('gene', 'ncRNA'): 6429,\n",
       "         ('ncRNA', 'ncRNA'): 3463,\n",
       "         ('drug', 'geneset'): 36})"
      ]
     },
     "execution_count": 3,
     "metadata": {},
     "output_type": "execute_result"
    }
   ],
   "source": [
    "kg.get_edge_between_type()"
   ]
  },
  {
   "cell_type": "code",
   "execution_count": 4,
   "metadata": {},
   "outputs": [],
   "source": [
    "exprDF = pd.read_csv(\"../seq_data/expression_ctzone_mean_df.tsv\", sep=\"\\t\")"
   ]
  },
  {
   "cell_type": "code",
   "execution_count": 5,
   "metadata": {},
   "outputs": [
    {
     "name": "stdout",
     "output_type": "stream",
     "text": [
      "['Adipocyte_BZ', 'Adipocyte_CTRL', 'Adipocyte_FZ', 'Adipocyte_IZ', 'Adipocyte_RZ', 'Cardiomyocyte_BZ', 'Cardiomyocyte_CTRL', 'Cardiomyocyte_FZ', 'Cardiomyocyte_IZ', 'Cardiomyocyte_RZ', 'Cycling cells_BZ', 'Cycling cells_CTRL', 'Cycling cells_FZ', 'Cycling cells_IZ', 'Cycling cells_RZ', 'Endothelial_BZ', 'Endothelial_CTRL', 'Endothelial_FZ', 'Endothelial_IZ', 'Endothelial_RZ', 'Fibroblast_BZ', 'Fibroblast_CTRL', 'Fibroblast_FZ', 'Fibroblast_IZ', 'Fibroblast_RZ', 'Lymphoid_BZ', 'Lymphoid_CTRL', 'Lymphoid_FZ', 'Lymphoid_IZ', 'Lymphoid_RZ', 'Mast_BZ', 'Mast_CTRL', 'Mast_FZ', 'Mast_IZ', 'Mast_RZ', 'Myeloid_BZ', 'Myeloid_CTRL', 'Myeloid_FZ', 'Myeloid_IZ', 'Myeloid_RZ', 'Neuronal_BZ', 'Neuronal_CTRL', 'Neuronal_FZ', 'Neuronal_IZ', 'Neuronal_RZ', 'Pericyte_BZ', 'Pericyte_CTRL', 'Pericyte_FZ', 'Pericyte_IZ', 'Pericyte_RZ', 'vSMCs_BZ', 'vSMCs_CTRL', 'vSMCs_FZ', 'vSMCs_IZ', 'vSMCs_RZ']\n"
     ]
    }
   ],
   "source": [
    "exprDFs = {}\n",
    "\n",
    "for group in exprDF.group.unique():\n",
    "    exprDFs[group] = exprDF[exprDF.group == group].copy()\n",
    "\n",
    "print([x for x in exprDFs])"
   ]
  },
  {
   "cell_type": "code",
   "execution_count": 6,
   "metadata": {},
   "outputs": [
    {
     "name": "stdout",
     "output_type": "stream",
     "text": [
      "Adipocyte_BZ\n",
      "11776\n",
      "Found Genes 11638\n"
     ]
    },
    {
     "name": "stderr",
     "output_type": "stream",
     "text": [
      "/home/ubuntu/.local/lib/python3.10/site-packages/numpy/core/fromnumeric.py:3464: RuntimeWarning: Mean of empty slice.\n",
      "  return _methods._mean(a, axis=axis, dtype=dtype,\n",
      "/home/ubuntu/.local/lib/python3.10/site-packages/numpy/core/_methods.py:192: RuntimeWarning: invalid value encountered in scalar divide\n",
      "  ret = ret.dtype.type(ret / rcount)\n"
     ]
    },
    {
     "name": "stdout",
     "output_type": "stream",
     "text": [
      "Identified the following edge types: ('gene', 'gene', 'interacts') ('ncRNA', 'gene', 'interacts') ('drug', 'disease', 'affects') ('gene', 'gene', 'activates') ('gene', 'geneset', 'relevant_in') ('geneset', 'geneset', 'part_of') ('gene', 'geneset', 'part_of') ('gene', 'ncRNA', 'interacts') ('gene', 'disease', 'interacts') ('gene', 'geneset', 'activates') ('drug', 'gene', 'targeted_by') ('gene', 'gene', 'represses') ('ncRNA', 'ncRNA', 'interacts') ('gene', 'geneset', 'interacts') ('drug', 'geneset', 'affects')\n",
      "Adipocyte_CTRL\n",
      "11534\n",
      "Found Genes 11401\n",
      "Identified the following edge types: ('gene', 'gene', 'interacts') ('ncRNA', 'gene', 'interacts') ('drug', 'disease', 'affects') ('gene', 'gene', 'activates') ('gene', 'geneset', 'relevant_in') ('geneset', 'geneset', 'part_of') ('gene', 'geneset', 'part_of') ('gene', 'ncRNA', 'interacts') ('gene', 'disease', 'interacts') ('gene', 'geneset', 'activates') ('drug', 'gene', 'targeted_by') ('gene', 'gene', 'represses') ('ncRNA', 'ncRNA', 'interacts') ('gene', 'geneset', 'interacts') ('drug', 'geneset', 'affects')\n",
      "Adipocyte_FZ\n",
      "19844\n",
      "Found Genes 19263\n",
      "Identified the following edge types: ('gene', 'gene', 'interacts') ('ncRNA', 'gene', 'interacts') ('drug', 'disease', 'affects') ('gene', 'gene', 'activates') ('gene', 'geneset', 'relevant_in') ('geneset', 'geneset', 'part_of') ('gene', 'geneset', 'part_of') ('gene', 'ncRNA', 'interacts') ('gene', 'disease', 'interacts') ('gene', 'geneset', 'activates') ('drug', 'gene', 'targeted_by') ('gene', 'gene', 'represses') ('ncRNA', 'ncRNA', 'interacts') ('gene', 'geneset', 'interacts') ('drug', 'geneset', 'affects')\n",
      "Adipocyte_IZ\n",
      "13891\n",
      "Found Genes 13767\n",
      "Identified the following edge types: ('gene', 'gene', 'interacts') ('ncRNA', 'gene', 'interacts') ('drug', 'disease', 'affects') ('gene', 'gene', 'activates') ('gene', 'geneset', 'relevant_in') ('geneset', 'geneset', 'part_of') ('gene', 'geneset', 'part_of') ('gene', 'ncRNA', 'interacts') ('gene', 'disease', 'interacts') ('gene', 'geneset', 'activates') ('drug', 'gene', 'targeted_by') ('gene', 'gene', 'represses') ('ncRNA', 'ncRNA', 'interacts') ('gene', 'geneset', 'interacts') ('drug', 'geneset', 'affects')\n",
      "Adipocyte_RZ\n",
      "19899\n",
      "Found Genes 19302\n",
      "Identified the following edge types: ('gene', 'gene', 'interacts') ('ncRNA', 'gene', 'interacts') ('drug', 'disease', 'affects') ('gene', 'gene', 'activates') ('gene', 'geneset', 'relevant_in') ('geneset', 'geneset', 'part_of') ('gene', 'geneset', 'part_of') ('gene', 'ncRNA', 'interacts') ('gene', 'disease', 'interacts') ('gene', 'geneset', 'activates') ('drug', 'gene', 'targeted_by') ('gene', 'gene', 'represses') ('ncRNA', 'ncRNA', 'interacts') ('gene', 'geneset', 'interacts') ('drug', 'geneset', 'affects')\n",
      "Cardiomyocyte_BZ\n",
      "25788\n",
      "Found Genes 24408\n",
      "Identified the following edge types: ('gene', 'gene', 'interacts') ('ncRNA', 'gene', 'interacts') ('drug', 'disease', 'affects') ('gene', 'gene', 'activates') ('gene', 'geneset', 'relevant_in') ('geneset', 'geneset', 'part_of') ('gene', 'geneset', 'part_of') ('gene', 'ncRNA', 'interacts') ('gene', 'disease', 'interacts') ('gene', 'geneset', 'activates') ('drug', 'gene', 'targeted_by') ('gene', 'gene', 'represses') ('ncRNA', 'ncRNA', 'interacts') ('gene', 'geneset', 'interacts') ('drug', 'geneset', 'affects')\n",
      "Cardiomyocyte_CTRL\n",
      "26606\n",
      "Found Genes 25051\n",
      "Identified the following edge types: ('gene', 'gene', 'interacts') ('ncRNA', 'gene', 'interacts') ('drug', 'disease', 'affects') ('gene', 'gene', 'activates') ('gene', 'geneset', 'relevant_in') ('geneset', 'geneset', 'part_of') ('gene', 'geneset', 'part_of') ('gene', 'ncRNA', 'interacts') ('gene', 'disease', 'interacts') ('gene', 'geneset', 'activates') ('drug', 'gene', 'targeted_by') ('gene', 'gene', 'represses') ('ncRNA', 'ncRNA', 'interacts') ('gene', 'geneset', 'interacts') ('drug', 'geneset', 'affects')\n",
      "Cardiomyocyte_FZ\n",
      "24982\n",
      "Found Genes 23734\n",
      "Identified the following edge types: ('gene', 'gene', 'interacts') ('ncRNA', 'gene', 'interacts') ('drug', 'disease', 'affects') ('gene', 'gene', 'activates') ('gene', 'geneset', 'relevant_in') ('geneset', 'geneset', 'part_of') ('gene', 'geneset', 'part_of') ('gene', 'ncRNA', 'interacts') ('gene', 'disease', 'interacts') ('gene', 'geneset', 'activates') ('drug', 'gene', 'targeted_by') ('gene', 'gene', 'represses') ('ncRNA', 'ncRNA', 'interacts') ('gene', 'geneset', 'interacts') ('drug', 'geneset', 'affects')\n",
      "Cardiomyocyte_IZ\n",
      "21309\n",
      "Found Genes 20781\n",
      "Identified the following edge types: ('gene', 'gene', 'interacts') ('ncRNA', 'gene', 'interacts') ('drug', 'disease', 'affects') ('gene', 'gene', 'activates') ('gene', 'geneset', 'relevant_in') ('geneset', 'geneset', 'part_of') ('gene', 'geneset', 'part_of') ('gene', 'ncRNA', 'interacts') ('gene', 'disease', 'interacts') ('gene', 'geneset', 'activates') ('drug', 'gene', 'targeted_by') ('gene', 'gene', 'represses') ('ncRNA', 'ncRNA', 'interacts') ('gene', 'geneset', 'interacts') ('drug', 'geneset', 'affects')\n",
      "Cardiomyocyte_RZ\n",
      "27152\n",
      "Found Genes 25483\n",
      "Identified the following edge types: ('gene', 'gene', 'interacts') ('ncRNA', 'gene', 'interacts') ('drug', 'disease', 'affects') ('gene', 'gene', 'activates') ('gene', 'geneset', 'relevant_in') ('geneset', 'geneset', 'part_of') ('gene', 'geneset', 'part_of') ('gene', 'ncRNA', 'interacts') ('gene', 'disease', 'interacts') ('gene', 'geneset', 'activates') ('drug', 'gene', 'targeted_by') ('gene', 'gene', 'represses') ('ncRNA', 'ncRNA', 'interacts') ('gene', 'geneset', 'interacts') ('drug', 'geneset', 'affects')\n",
      "Cycling cells_BZ\n",
      "15949\n",
      "Found Genes 15690\n",
      "Identified the following edge types: ('gene', 'gene', 'interacts') ('ncRNA', 'gene', 'interacts') ('drug', 'disease', 'affects') ('gene', 'gene', 'activates') ('gene', 'geneset', 'relevant_in') ('geneset', 'geneset', 'part_of') ('gene', 'geneset', 'part_of') ('gene', 'ncRNA', 'interacts') ('gene', 'disease', 'interacts') ('gene', 'geneset', 'activates') ('drug', 'gene', 'targeted_by') ('gene', 'gene', 'represses') ('ncRNA', 'ncRNA', 'interacts') ('gene', 'geneset', 'interacts') ('drug', 'geneset', 'affects')\n",
      "Cycling cells_CTRL\n",
      "19220\n",
      "Found Genes 18719\n",
      "Identified the following edge types: ('gene', 'gene', 'interacts') ('ncRNA', 'gene', 'interacts') ('drug', 'disease', 'affects') ('gene', 'gene', 'activates') ('gene', 'geneset', 'relevant_in') ('geneset', 'geneset', 'part_of') ('gene', 'geneset', 'part_of') ('gene', 'ncRNA', 'interacts') ('gene', 'disease', 'interacts') ('gene', 'geneset', 'activates') ('drug', 'gene', 'targeted_by') ('gene', 'gene', 'represses') ('ncRNA', 'ncRNA', 'interacts') ('gene', 'geneset', 'interacts') ('drug', 'geneset', 'affects')\n",
      "Cycling cells_FZ\n",
      "18166\n",
      "Found Genes 17823\n",
      "Identified the following edge types: ('gene', 'gene', 'interacts') ('ncRNA', 'gene', 'interacts') ('drug', 'disease', 'affects') ('gene', 'gene', 'activates') ('gene', 'geneset', 'relevant_in') ('geneset', 'geneset', 'part_of') ('gene', 'geneset', 'part_of') ('gene', 'ncRNA', 'interacts') ('gene', 'disease', 'interacts') ('gene', 'geneset', 'activates') ('drug', 'gene', 'targeted_by') ('gene', 'gene', 'represses') ('ncRNA', 'ncRNA', 'interacts') ('gene', 'geneset', 'interacts') ('drug', 'geneset', 'affects')\n",
      "Cycling cells_IZ\n",
      "21130\n",
      "Found Genes 20701\n",
      "Identified the following edge types: ('gene', 'gene', 'interacts') ('ncRNA', 'gene', 'interacts') ('drug', 'disease', 'affects') ('gene', 'gene', 'activates') ('gene', 'geneset', 'relevant_in') ('geneset', 'geneset', 'part_of') ('gene', 'geneset', 'part_of') ('gene', 'ncRNA', 'interacts') ('gene', 'disease', 'interacts') ('gene', 'geneset', 'activates') ('drug', 'gene', 'targeted_by') ('gene', 'gene', 'represses') ('ncRNA', 'ncRNA', 'interacts') ('gene', 'geneset', 'interacts') ('drug', 'geneset', 'affects')\n",
      "Cycling cells_RZ\n",
      "18566\n",
      "Found Genes 18137\n",
      "Identified the following edge types: ('gene', 'gene', 'interacts') ('ncRNA', 'gene', 'interacts') ('drug', 'disease', 'affects') ('gene', 'gene', 'activates') ('gene', 'geneset', 'relevant_in') ('geneset', 'geneset', 'part_of') ('gene', 'geneset', 'part_of') ('gene', 'ncRNA', 'interacts') ('gene', 'disease', 'interacts') ('gene', 'geneset', 'activates') ('drug', 'gene', 'targeted_by') ('gene', 'gene', 'represses') ('ncRNA', 'ncRNA', 'interacts') ('gene', 'geneset', 'interacts') ('drug', 'geneset', 'affects')\n",
      "Endothelial_BZ\n",
      "23459\n",
      "Found Genes 22438\n",
      "Identified the following edge types: ('gene', 'gene', 'interacts') ('ncRNA', 'gene', 'interacts') ('drug', 'disease', 'affects') ('gene', 'gene', 'activates') ('gene', 'geneset', 'relevant_in') ('geneset', 'geneset', 'part_of') ('gene', 'geneset', 'part_of') ('gene', 'ncRNA', 'interacts') ('gene', 'disease', 'interacts') ('gene', 'geneset', 'activates') ('drug', 'gene', 'targeted_by') ('gene', 'gene', 'represses') ('ncRNA', 'ncRNA', 'interacts') ('gene', 'geneset', 'interacts') ('drug', 'geneset', 'affects')\n",
      "Endothelial_CTRL\n",
      "25312\n",
      "Found Genes 24010\n",
      "Identified the following edge types: ('gene', 'gene', 'interacts') ('ncRNA', 'gene', 'interacts') ('drug', 'disease', 'affects') ('gene', 'gene', 'activates') ('gene', 'geneset', 'relevant_in') ('geneset', 'geneset', 'part_of') ('gene', 'geneset', 'part_of') ('gene', 'ncRNA', 'interacts') ('gene', 'disease', 'interacts') ('gene', 'geneset', 'activates') ('drug', 'gene', 'targeted_by') ('gene', 'gene', 'represses') ('ncRNA', 'ncRNA', 'interacts') ('gene', 'geneset', 'interacts') ('drug', 'geneset', 'affects')\n",
      "Endothelial_FZ\n",
      "24541\n",
      "Found Genes 23458\n",
      "Identified the following edge types: ('gene', 'gene', 'interacts') ('ncRNA', 'gene', 'interacts') ('drug', 'disease', 'affects') ('gene', 'gene', 'activates') ('gene', 'geneset', 'relevant_in') ('geneset', 'geneset', 'part_of') ('gene', 'geneset', 'part_of') ('gene', 'ncRNA', 'interacts') ('gene', 'disease', 'interacts') ('gene', 'geneset', 'activates') ('drug', 'gene', 'targeted_by') ('gene', 'gene', 'represses') ('ncRNA', 'ncRNA', 'interacts') ('gene', 'geneset', 'interacts') ('drug', 'geneset', 'affects')\n",
      "Endothelial_IZ\n",
      "23010\n",
      "Found Genes 22426\n",
      "Identified the following edge types: ('gene', 'gene', 'interacts') ('ncRNA', 'gene', 'interacts') ('drug', 'disease', 'affects') ('gene', 'gene', 'activates') ('gene', 'geneset', 'relevant_in') ('geneset', 'geneset', 'part_of') ('gene', 'geneset', 'part_of') ('gene', 'ncRNA', 'interacts') ('gene', 'disease', 'interacts') ('gene', 'geneset', 'activates') ('drug', 'gene', 'targeted_by') ('gene', 'gene', 'represses') ('ncRNA', 'ncRNA', 'interacts') ('gene', 'geneset', 'interacts') ('drug', 'geneset', 'affects')\n",
      "Endothelial_RZ\n",
      "25695\n",
      "Found Genes 24319\n",
      "Identified the following edge types: ('gene', 'gene', 'interacts') ('ncRNA', 'gene', 'interacts') ('drug', 'disease', 'affects') ('gene', 'gene', 'activates') ('gene', 'geneset', 'relevant_in') ('geneset', 'geneset', 'part_of') ('gene', 'geneset', 'part_of') ('gene', 'ncRNA', 'interacts') ('gene', 'disease', 'interacts') ('gene', 'geneset', 'activates') ('drug', 'gene', 'targeted_by') ('gene', 'gene', 'represses') ('ncRNA', 'ncRNA', 'interacts') ('gene', 'geneset', 'interacts') ('drug', 'geneset', 'affects')\n",
      "Fibroblast_BZ\n",
      "24844\n",
      "Found Genes 23629\n",
      "Identified the following edge types: ('gene', 'gene', 'interacts') ('ncRNA', 'gene', 'interacts') ('drug', 'disease', 'affects') ('gene', 'gene', 'activates') ('gene', 'geneset', 'relevant_in') ('geneset', 'geneset', 'part_of') ('gene', 'geneset', 'part_of') ('gene', 'ncRNA', 'interacts') ('gene', 'disease', 'interacts') ('gene', 'geneset', 'activates') ('drug', 'gene', 'targeted_by') ('gene', 'gene', 'represses') ('ncRNA', 'ncRNA', 'interacts') ('gene', 'geneset', 'interacts') ('drug', 'geneset', 'affects')\n",
      "Fibroblast_CTRL\n",
      "26102\n",
      "Found Genes 24639\n",
      "Identified the following edge types: ('gene', 'gene', 'interacts') ('ncRNA', 'gene', 'interacts') ('drug', 'disease', 'affects') ('gene', 'gene', 'activates') ('gene', 'geneset', 'relevant_in') ('geneset', 'geneset', 'part_of') ('gene', 'geneset', 'part_of') ('gene', 'ncRNA', 'interacts') ('gene', 'disease', 'interacts') ('gene', 'geneset', 'activates') ('drug', 'gene', 'targeted_by') ('gene', 'gene', 'represses') ('ncRNA', 'ncRNA', 'interacts') ('gene', 'geneset', 'interacts') ('drug', 'geneset', 'affects')\n",
      "Fibroblast_FZ\n",
      "24978\n",
      "Found Genes 23792\n",
      "Identified the following edge types: ('gene', 'gene', 'interacts') ('ncRNA', 'gene', 'interacts') ('drug', 'disease', 'affects') ('gene', 'gene', 'activates') ('gene', 'geneset', 'relevant_in') ('geneset', 'geneset', 'part_of') ('gene', 'geneset', 'part_of') ('gene', 'ncRNA', 'interacts') ('gene', 'disease', 'interacts') ('gene', 'geneset', 'activates') ('drug', 'gene', 'targeted_by') ('gene', 'gene', 'represses') ('ncRNA', 'ncRNA', 'interacts') ('gene', 'geneset', 'interacts') ('drug', 'geneset', 'affects')\n",
      "Fibroblast_IZ\n",
      "22752\n",
      "Found Genes 22143\n",
      "Identified the following edge types: ('gene', 'gene', 'interacts') ('ncRNA', 'gene', 'interacts') ('drug', 'disease', 'affects') ('gene', 'gene', 'activates') ('gene', 'geneset', 'relevant_in') ('geneset', 'geneset', 'part_of') ('gene', 'geneset', 'part_of') ('gene', 'ncRNA', 'interacts') ('gene', 'disease', 'interacts') ('gene', 'geneset', 'activates') ('drug', 'gene', 'targeted_by') ('gene', 'gene', 'represses') ('ncRNA', 'ncRNA', 'interacts') ('gene', 'geneset', 'interacts') ('drug', 'geneset', 'affects')\n",
      "Fibroblast_RZ\n",
      "26333\n",
      "Found Genes 24843\n",
      "Identified the following edge types: ('gene', 'gene', 'interacts') ('ncRNA', 'gene', 'interacts') ('drug', 'disease', 'affects') ('gene', 'gene', 'activates') ('gene', 'geneset', 'relevant_in') ('geneset', 'geneset', 'part_of') ('gene', 'geneset', 'part_of') ('gene', 'ncRNA', 'interacts') ('gene', 'disease', 'interacts') ('gene', 'geneset', 'activates') ('drug', 'gene', 'targeted_by') ('gene', 'gene', 'represses') ('ncRNA', 'ncRNA', 'interacts') ('gene', 'geneset', 'interacts') ('drug', 'geneset', 'affects')\n",
      "Lymphoid_BZ\n",
      "19292\n",
      "Found Genes 18787\n",
      "Identified the following edge types: ('gene', 'gene', 'interacts') ('ncRNA', 'gene', 'interacts') ('drug', 'disease', 'affects') ('gene', 'gene', 'activates') ('gene', 'geneset', 'relevant_in') ('geneset', 'geneset', 'part_of') ('gene', 'geneset', 'part_of') ('gene', 'ncRNA', 'interacts') ('gene', 'disease', 'interacts') ('gene', 'geneset', 'activates') ('drug', 'gene', 'targeted_by') ('gene', 'gene', 'represses') ('ncRNA', 'ncRNA', 'interacts') ('gene', 'geneset', 'interacts') ('drug', 'geneset', 'affects')\n",
      "Lymphoid_CTRL\n",
      "19694\n",
      "Found Genes 19136\n",
      "Identified the following edge types: ('gene', 'gene', 'interacts') ('ncRNA', 'gene', 'interacts') ('drug', 'disease', 'affects') ('gene', 'gene', 'activates') ('gene', 'geneset', 'relevant_in') ('geneset', 'geneset', 'part_of') ('gene', 'geneset', 'part_of') ('gene', 'ncRNA', 'interacts') ('gene', 'disease', 'interacts') ('gene', 'geneset', 'activates') ('drug', 'gene', 'targeted_by') ('gene', 'gene', 'represses') ('ncRNA', 'ncRNA', 'interacts') ('gene', 'geneset', 'interacts') ('drug', 'geneset', 'affects')\n",
      "Lymphoid_FZ\n",
      "20739\n",
      "Found Genes 20158\n",
      "Identified the following edge types: ('gene', 'gene', 'interacts') ('ncRNA', 'gene', 'interacts') ('drug', 'disease', 'affects') ('gene', 'gene', 'activates') ('gene', 'geneset', 'relevant_in') ('geneset', 'geneset', 'part_of') ('gene', 'geneset', 'part_of') ('gene', 'ncRNA', 'interacts') ('gene', 'disease', 'interacts') ('gene', 'geneset', 'activates') ('drug', 'gene', 'targeted_by') ('gene', 'gene', 'represses') ('ncRNA', 'ncRNA', 'interacts') ('gene', 'geneset', 'interacts') ('drug', 'geneset', 'affects')\n",
      "Lymphoid_IZ\n",
      "21833\n",
      "Found Genes 21411\n",
      "Identified the following edge types: ('gene', 'gene', 'interacts') ('ncRNA', 'gene', 'interacts') ('drug', 'disease', 'affects') ('gene', 'gene', 'activates') ('gene', 'geneset', 'relevant_in') ('geneset', 'geneset', 'part_of') ('gene', 'geneset', 'part_of') ('gene', 'ncRNA', 'interacts') ('gene', 'disease', 'interacts') ('gene', 'geneset', 'activates') ('drug', 'gene', 'targeted_by') ('gene', 'gene', 'represses') ('ncRNA', 'ncRNA', 'interacts') ('gene', 'geneset', 'interacts') ('drug', 'geneset', 'affects')\n",
      "Lymphoid_RZ\n",
      "21126\n",
      "Found Genes 20437\n",
      "Identified the following edge types: ('gene', 'gene', 'interacts') ('ncRNA', 'gene', 'interacts') ('drug', 'disease', 'affects') ('gene', 'gene', 'activates') ('gene', 'geneset', 'relevant_in') ('geneset', 'geneset', 'part_of') ('gene', 'geneset', 'part_of') ('gene', 'ncRNA', 'interacts') ('gene', 'disease', 'interacts') ('gene', 'geneset', 'activates') ('drug', 'gene', 'targeted_by') ('gene', 'gene', 'represses') ('ncRNA', 'ncRNA', 'interacts') ('gene', 'geneset', 'interacts') ('drug', 'geneset', 'affects')\n",
      "Mast_BZ\n",
      "13828\n",
      "Found Genes 13664\n",
      "Identified the following edge types: ('gene', 'gene', 'interacts') ('ncRNA', 'gene', 'interacts') ('drug', 'disease', 'affects') ('gene', 'gene', 'activates') ('gene', 'geneset', 'relevant_in') ('geneset', 'geneset', 'part_of') ('gene', 'geneset', 'part_of') ('gene', 'ncRNA', 'interacts') ('gene', 'disease', 'interacts') ('gene', 'geneset', 'activates') ('drug', 'gene', 'targeted_by') ('gene', 'gene', 'represses') ('ncRNA', 'ncRNA', 'interacts') ('gene', 'geneset', 'interacts') ('drug', 'geneset', 'affects')\n",
      "Mast_CTRL\n",
      "16894\n",
      "Found Genes 16577\n",
      "Identified the following edge types: ('gene', 'gene', 'interacts') ('ncRNA', 'gene', 'interacts') ('drug', 'disease', 'affects') ('gene', 'gene', 'activates') ('gene', 'geneset', 'relevant_in') ('geneset', 'geneset', 'part_of') ('gene', 'geneset', 'part_of') ('gene', 'ncRNA', 'interacts') ('gene', 'disease', 'interacts') ('gene', 'geneset', 'activates') ('drug', 'gene', 'targeted_by') ('gene', 'gene', 'represses') ('ncRNA', 'ncRNA', 'interacts') ('gene', 'geneset', 'interacts') ('drug', 'geneset', 'affects')\n",
      "Mast_FZ\n",
      "17508\n",
      "Found Genes 17172\n",
      "Identified the following edge types: ('gene', 'gene', 'interacts') ('ncRNA', 'gene', 'interacts') ('drug', 'disease', 'affects') ('gene', 'gene', 'activates') ('gene', 'geneset', 'relevant_in') ('geneset', 'geneset', 'part_of') ('gene', 'geneset', 'part_of') ('gene', 'ncRNA', 'interacts') ('gene', 'disease', 'interacts') ('gene', 'geneset', 'activates') ('drug', 'gene', 'targeted_by') ('gene', 'gene', 'represses') ('ncRNA', 'ncRNA', 'interacts') ('gene', 'geneset', 'interacts') ('drug', 'geneset', 'affects')\n",
      "Mast_IZ\n",
      "13384\n",
      "Found Genes 13271\n",
      "Identified the following edge types: ('gene', 'gene', 'interacts') ('ncRNA', 'gene', 'interacts') ('drug', 'disease', 'affects') ('gene', 'gene', 'activates') ('gene', 'geneset', 'relevant_in') ('geneset', 'geneset', 'part_of') ('gene', 'geneset', 'part_of') ('gene', 'ncRNA', 'interacts') ('gene', 'disease', 'interacts') ('gene', 'geneset', 'activates') ('drug', 'gene', 'targeted_by') ('gene', 'gene', 'represses') ('ncRNA', 'ncRNA', 'interacts') ('gene', 'geneset', 'interacts') ('drug', 'geneset', 'affects')\n",
      "Mast_RZ\n",
      "16422\n",
      "Found Genes 16152\n",
      "Identified the following edge types: ('gene', 'gene', 'interacts') ('ncRNA', 'gene', 'interacts') ('drug', 'disease', 'affects') ('gene', 'gene', 'activates') ('gene', 'geneset', 'relevant_in') ('geneset', 'geneset', 'part_of') ('gene', 'geneset', 'part_of') ('gene', 'ncRNA', 'interacts') ('gene', 'disease', 'interacts') ('gene', 'geneset', 'activates') ('drug', 'gene', 'targeted_by') ('gene', 'gene', 'represses') ('ncRNA', 'ncRNA', 'interacts') ('gene', 'geneset', 'interacts') ('drug', 'geneset', 'affects')\n",
      "Myeloid_BZ\n",
      "22185\n",
      "Found Genes 21363\n",
      "Identified the following edge types: ('gene', 'gene', 'interacts') ('ncRNA', 'gene', 'interacts') ('drug', 'disease', 'affects') ('gene', 'gene', 'activates') ('gene', 'geneset', 'relevant_in') ('geneset', 'geneset', 'part_of') ('gene', 'geneset', 'part_of') ('gene', 'ncRNA', 'interacts') ('gene', 'disease', 'interacts') ('gene', 'geneset', 'activates') ('drug', 'gene', 'targeted_by') ('gene', 'gene', 'represses') ('ncRNA', 'ncRNA', 'interacts') ('gene', 'geneset', 'interacts') ('drug', 'geneset', 'affects')\n",
      "Myeloid_CTRL\n",
      "24222\n",
      "Found Genes 23104\n",
      "Identified the following edge types: ('gene', 'gene', 'interacts') ('ncRNA', 'gene', 'interacts') ('drug', 'disease', 'affects') ('gene', 'gene', 'activates') ('gene', 'geneset', 'relevant_in') ('geneset', 'geneset', 'part_of') ('gene', 'geneset', 'part_of') ('gene', 'ncRNA', 'interacts') ('gene', 'disease', 'interacts') ('gene', 'geneset', 'activates') ('drug', 'gene', 'targeted_by') ('gene', 'gene', 'represses') ('ncRNA', 'ncRNA', 'interacts') ('gene', 'geneset', 'interacts') ('drug', 'geneset', 'affects')\n",
      "Myeloid_FZ\n",
      "23058\n",
      "Found Genes 22161\n",
      "Identified the following edge types: ('gene', 'gene', 'interacts') ('ncRNA', 'gene', 'interacts') ('drug', 'disease', 'affects') ('gene', 'gene', 'activates') ('gene', 'geneset', 'relevant_in') ('geneset', 'geneset', 'part_of') ('gene', 'geneset', 'part_of') ('gene', 'ncRNA', 'interacts') ('gene', 'disease', 'interacts') ('gene', 'geneset', 'activates') ('drug', 'gene', 'targeted_by') ('gene', 'gene', 'represses') ('ncRNA', 'ncRNA', 'interacts') ('gene', 'geneset', 'interacts') ('drug', 'geneset', 'affects')\n",
      "Myeloid_IZ\n",
      "23010\n",
      "Found Genes 22444\n",
      "Identified the following edge types: ('gene', 'gene', 'interacts') ('ncRNA', 'gene', 'interacts') ('drug', 'disease', 'affects') ('gene', 'gene', 'activates') ('gene', 'geneset', 'relevant_in') ('geneset', 'geneset', 'part_of') ('gene', 'geneset', 'part_of') ('gene', 'ncRNA', 'interacts') ('gene', 'disease', 'interacts') ('gene', 'geneset', 'activates') ('drug', 'gene', 'targeted_by') ('gene', 'gene', 'represses') ('ncRNA', 'ncRNA', 'interacts') ('gene', 'geneset', 'interacts') ('drug', 'geneset', 'affects')\n",
      "Myeloid_RZ\n",
      "24116\n",
      "Found Genes 22996\n",
      "Identified the following edge types: ('gene', 'gene', 'interacts') ('ncRNA', 'gene', 'interacts') ('drug', 'disease', 'affects') ('gene', 'gene', 'activates') ('gene', 'geneset', 'relevant_in') ('geneset', 'geneset', 'part_of') ('gene', 'geneset', 'part_of') ('gene', 'ncRNA', 'interacts') ('gene', 'disease', 'interacts') ('gene', 'geneset', 'activates') ('drug', 'gene', 'targeted_by') ('gene', 'gene', 'represses') ('ncRNA', 'ncRNA', 'interacts') ('gene', 'geneset', 'interacts') ('drug', 'geneset', 'affects')\n",
      "Neuronal_BZ\n",
      "18333\n",
      "Found Genes 17924\n",
      "Identified the following edge types: ('gene', 'gene', 'interacts') ('ncRNA', 'gene', 'interacts') ('drug', 'disease', 'affects') ('gene', 'gene', 'activates') ('gene', 'geneset', 'relevant_in') ('geneset', 'geneset', 'part_of') ('gene', 'geneset', 'part_of') ('gene', 'ncRNA', 'interacts') ('gene', 'disease', 'interacts') ('gene', 'geneset', 'activates') ('drug', 'gene', 'targeted_by') ('gene', 'gene', 'represses') ('ncRNA', 'ncRNA', 'interacts') ('gene', 'geneset', 'interacts') ('drug', 'geneset', 'affects')\n",
      "Neuronal_CTRL\n",
      "20556\n",
      "Found Genes 19899\n",
      "Identified the following edge types: ('gene', 'gene', 'interacts') ('ncRNA', 'gene', 'interacts') ('drug', 'disease', 'affects') ('gene', 'gene', 'activates') ('gene', 'geneset', 'relevant_in') ('geneset', 'geneset', 'part_of') ('gene', 'geneset', 'part_of') ('gene', 'ncRNA', 'interacts') ('gene', 'disease', 'interacts') ('gene', 'geneset', 'activates') ('drug', 'gene', 'targeted_by') ('gene', 'gene', 'represses') ('ncRNA', 'ncRNA', 'interacts') ('gene', 'geneset', 'interacts') ('drug', 'geneset', 'affects')\n",
      "Neuronal_FZ\n",
      "18679\n",
      "Found Genes 18257\n",
      "Identified the following edge types: ('gene', 'gene', 'interacts') ('ncRNA', 'gene', 'interacts') ('drug', 'disease', 'affects') ('gene', 'gene', 'activates') ('gene', 'geneset', 'relevant_in') ('geneset', 'geneset', 'part_of') ('gene', 'geneset', 'part_of') ('gene', 'ncRNA', 'interacts') ('gene', 'disease', 'interacts') ('gene', 'geneset', 'activates') ('drug', 'gene', 'targeted_by') ('gene', 'gene', 'represses') ('ncRNA', 'ncRNA', 'interacts') ('gene', 'geneset', 'interacts') ('drug', 'geneset', 'affects')\n",
      "Neuronal_IZ\n",
      "17997\n",
      "Found Genes 17777\n",
      "Identified the following edge types: ('gene', 'gene', 'interacts') ('ncRNA', 'gene', 'interacts') ('drug', 'disease', 'affects') ('gene', 'gene', 'activates') ('gene', 'geneset', 'relevant_in') ('geneset', 'geneset', 'part_of') ('gene', 'geneset', 'part_of') ('gene', 'ncRNA', 'interacts') ('gene', 'disease', 'interacts') ('gene', 'geneset', 'activates') ('drug', 'gene', 'targeted_by') ('gene', 'gene', 'represses') ('ncRNA', 'ncRNA', 'interacts') ('gene', 'geneset', 'interacts') ('drug', 'geneset', 'affects')\n",
      "Neuronal_RZ\n",
      "21631\n",
      "Found Genes 20860\n",
      "Identified the following edge types: ('gene', 'gene', 'interacts') ('ncRNA', 'gene', 'interacts') ('drug', 'disease', 'affects') ('gene', 'gene', 'activates') ('gene', 'geneset', 'relevant_in') ('geneset', 'geneset', 'part_of') ('gene', 'geneset', 'part_of') ('gene', 'ncRNA', 'interacts') ('gene', 'disease', 'interacts') ('gene', 'geneset', 'activates') ('drug', 'gene', 'targeted_by') ('gene', 'gene', 'represses') ('ncRNA', 'ncRNA', 'interacts') ('gene', 'geneset', 'interacts') ('drug', 'geneset', 'affects')\n",
      "Pericyte_BZ\n",
      "21908\n",
      "Found Genes 21089\n",
      "Identified the following edge types: ('gene', 'gene', 'interacts') ('ncRNA', 'gene', 'interacts') ('drug', 'disease', 'affects') ('gene', 'gene', 'activates') ('gene', 'geneset', 'relevant_in') ('geneset', 'geneset', 'part_of') ('gene', 'geneset', 'part_of') ('gene', 'ncRNA', 'interacts') ('gene', 'disease', 'interacts') ('gene', 'geneset', 'activates') ('drug', 'gene', 'targeted_by') ('gene', 'gene', 'represses') ('ncRNA', 'ncRNA', 'interacts') ('gene', 'geneset', 'interacts') ('drug', 'geneset', 'affects')\n",
      "Pericyte_CTRL\n",
      "23559\n",
      "Found Genes 22487\n",
      "Identified the following edge types: ('gene', 'gene', 'interacts') ('ncRNA', 'gene', 'interacts') ('drug', 'disease', 'affects') ('gene', 'gene', 'activates') ('gene', 'geneset', 'relevant_in') ('geneset', 'geneset', 'part_of') ('gene', 'geneset', 'part_of') ('gene', 'ncRNA', 'interacts') ('gene', 'disease', 'interacts') ('gene', 'geneset', 'activates') ('drug', 'gene', 'targeted_by') ('gene', 'gene', 'represses') ('ncRNA', 'ncRNA', 'interacts') ('gene', 'geneset', 'interacts') ('drug', 'geneset', 'affects')\n",
      "Pericyte_FZ\n",
      "22280\n",
      "Found Genes 21491\n",
      "Identified the following edge types: ('gene', 'gene', 'interacts') ('ncRNA', 'gene', 'interacts') ('drug', 'disease', 'affects') ('gene', 'gene', 'activates') ('gene', 'geneset', 'relevant_in') ('geneset', 'geneset', 'part_of') ('gene', 'geneset', 'part_of') ('gene', 'ncRNA', 'interacts') ('gene', 'disease', 'interacts') ('gene', 'geneset', 'activates') ('drug', 'gene', 'targeted_by') ('gene', 'gene', 'represses') ('ncRNA', 'ncRNA', 'interacts') ('gene', 'geneset', 'interacts') ('drug', 'geneset', 'affects')\n",
      "Pericyte_IZ\n",
      "20078\n",
      "Found Genes 19672\n",
      "Identified the following edge types: ('gene', 'gene', 'interacts') ('ncRNA', 'gene', 'interacts') ('drug', 'disease', 'affects') ('gene', 'gene', 'activates') ('gene', 'geneset', 'relevant_in') ('geneset', 'geneset', 'part_of') ('gene', 'geneset', 'part_of') ('gene', 'ncRNA', 'interacts') ('gene', 'disease', 'interacts') ('gene', 'geneset', 'activates') ('drug', 'gene', 'targeted_by') ('gene', 'gene', 'represses') ('ncRNA', 'ncRNA', 'interacts') ('gene', 'geneset', 'interacts') ('drug', 'geneset', 'affects')\n",
      "Pericyte_RZ\n",
      "24390\n",
      "Found Genes 23217\n",
      "Identified the following edge types: ('gene', 'gene', 'interacts') ('ncRNA', 'gene', 'interacts') ('drug', 'disease', 'affects') ('gene', 'gene', 'activates') ('gene', 'geneset', 'relevant_in') ('geneset', 'geneset', 'part_of') ('gene', 'geneset', 'part_of') ('gene', 'ncRNA', 'interacts') ('gene', 'disease', 'interacts') ('gene', 'geneset', 'activates') ('drug', 'gene', 'targeted_by') ('gene', 'gene', 'represses') ('ncRNA', 'ncRNA', 'interacts') ('gene', 'geneset', 'interacts') ('drug', 'geneset', 'affects')\n",
      "vSMCs_BZ\n",
      "18195\n",
      "Found Genes 17772\n",
      "Identified the following edge types: ('gene', 'gene', 'interacts') ('ncRNA', 'gene', 'interacts') ('drug', 'disease', 'affects') ('gene', 'gene', 'activates') ('gene', 'geneset', 'relevant_in') ('geneset', 'geneset', 'part_of') ('gene', 'geneset', 'part_of') ('gene', 'ncRNA', 'interacts') ('gene', 'disease', 'interacts') ('gene', 'geneset', 'activates') ('drug', 'gene', 'targeted_by') ('gene', 'gene', 'represses') ('ncRNA', 'ncRNA', 'interacts') ('gene', 'geneset', 'interacts') ('drug', 'geneset', 'affects')\n",
      "vSMCs_CTRL\n",
      "19690\n",
      "Found Genes 19103\n",
      "Identified the following edge types: ('gene', 'gene', 'interacts') ('ncRNA', 'gene', 'interacts') ('drug', 'disease', 'affects') ('gene', 'gene', 'activates') ('gene', 'geneset', 'relevant_in') ('geneset', 'geneset', 'part_of') ('gene', 'geneset', 'part_of') ('gene', 'ncRNA', 'interacts') ('gene', 'disease', 'interacts') ('gene', 'geneset', 'activates') ('drug', 'gene', 'targeted_by') ('gene', 'gene', 'represses') ('ncRNA', 'ncRNA', 'interacts') ('gene', 'geneset', 'interacts') ('drug', 'geneset', 'affects')\n",
      "vSMCs_FZ\n",
      "21592\n",
      "Found Genes 20897\n",
      "Identified the following edge types: ('gene', 'gene', 'interacts') ('ncRNA', 'gene', 'interacts') ('drug', 'disease', 'affects') ('gene', 'gene', 'activates') ('gene', 'geneset', 'relevant_in') ('geneset', 'geneset', 'part_of') ('gene', 'geneset', 'part_of') ('gene', 'ncRNA', 'interacts') ('gene', 'disease', 'interacts') ('gene', 'geneset', 'activates') ('drug', 'gene', 'targeted_by') ('gene', 'gene', 'represses') ('ncRNA', 'ncRNA', 'interacts') ('gene', 'geneset', 'interacts') ('drug', 'geneset', 'affects')\n",
      "vSMCs_IZ\n",
      "17767\n",
      "Found Genes 17509\n",
      "Identified the following edge types: ('gene', 'gene', 'interacts') ('ncRNA', 'gene', 'interacts') ('drug', 'disease', 'affects') ('gene', 'gene', 'activates') ('gene', 'geneset', 'relevant_in') ('geneset', 'geneset', 'part_of') ('gene', 'geneset', 'part_of') ('gene', 'ncRNA', 'interacts') ('gene', 'disease', 'interacts') ('gene', 'geneset', 'activates') ('drug', 'gene', 'targeted_by') ('gene', 'gene', 'represses') ('ncRNA', 'ncRNA', 'interacts') ('gene', 'geneset', 'interacts') ('drug', 'geneset', 'affects')\n",
      "vSMCs_RZ\n",
      "20514\n",
      "Found Genes 19849\n",
      "Identified the following edge types: ('gene', 'gene', 'interacts') ('ncRNA', 'gene', 'interacts') ('drug', 'disease', 'affects') ('gene', 'gene', 'activates') ('gene', 'geneset', 'relevant_in') ('geneset', 'geneset', 'part_of') ('gene', 'geneset', 'part_of') ('gene', 'ncRNA', 'interacts') ('gene', 'disease', 'interacts') ('gene', 'geneset', 'activates') ('drug', 'gene', 'targeted_by') ('gene', 'gene', 'represses') ('ncRNA', 'ncRNA', 'interacts') ('gene', 'geneset', 'interacts') ('drug', 'geneset', 'affects')\n"
     ]
    }
   ],
   "source": [
    "exprKGs = {}\n",
    "\n",
    "for group in exprDFs:\n",
    "    \n",
    "    print(group)\n",
    "    \n",
    "    gKG = KGraph()\n",
    "    \n",
    "    gKG.load_kgraph(\"../data/initial_base_graph.out\")\n",
    "\n",
    "    gKG.add_gene_expression(exprDFs[group])\n",
    "\n",
    "    mNS = MeanNetworkScorer()\n",
    "    mNS.score(gKG)\n",
    "        \n",
    "    exprKGs[group] = gKG"
   ]
  },
  {
   "cell_type": "code",
   "execution_count": null,
   "metadata": {},
   "outputs": [
    {
     "name": "stdout",
     "output_type": "stream",
     "text": [
      "55\n"
     ]
    }
   ],
   "source": [
    "import pickle\n",
    "\n",
    "print(len(exprKGs))\n",
    "\n",
    "with open(\"zone_exprkgs.pickle\", 'wb') as f:\n",
    "    pickle.dump(exprKGs, f)"
   ]
  },
  {
   "cell_type": "code",
   "execution_count": null,
   "metadata": {},
   "outputs": [],
   "source": [
    "print(len(exprKGs))\n"
   ]
  },
  {
   "cell_type": "code",
   "execution_count": null,
   "metadata": {},
   "outputs": [],
   "source": [
    "##\n",
    "##\n",
    "##\n",
    "#  START HERE\n",
    "##\n",
    "##\n",
    "##"
   ]
  },
  {
   "cell_type": "code",
   "execution_count": null,
   "metadata": {},
   "outputs": [],
   "source": [
    "exprKGs = None\n",
    "exprKGs = pickle.load(open(\"zone_exprkgs.pickle\", \"rb\"))"
   ]
  },
  {
   "cell_type": "code",
   "execution_count": null,
   "metadata": {},
   "outputs": [],
   "source": [
    "tissue2zone2kg = defaultdict(lambda : dict())\n",
    "for x in exprKGs:\n",
    "    tissue, zone = x.split(\"_\")\n",
    "    \n",
    "    tissue2zone2kg[tissue][\"{}_{}\".format(tissue, zone)] = exprKGs[x]"
   ]
  },
  {
   "cell_type": "code",
   "execution_count": null,
   "metadata": {},
   "outputs": [],
   "source": [
    "for x in tissue2zone2kg:\n",
    "    print(x, len(tissue2zone2kg[x]), [x for x in tissue2zone2kg[x]])"
   ]
  },
  {
   "cell_type": "code",
   "execution_count": null,
   "metadata": {},
   "outputs": [],
   "source": [
    "gsa = GenesetAnnotator()\n",
    "for t in tissue2zone2kg:\n",
    "    for z in tissue2zone2kg[t]:\n",
    "\n",
    "        print(t,z)\n",
    "        gsa.annotate_genesets(tissue2zone2kg[t][z], settype=\"disease\", targettype=\"gene\") # how specific is gene for disease?\n",
    "        gsa.annotate_genesets(tissue2zone2kg[t][z], settype=\"disease\", targettype=\"drug\") # how specific is drug for disease?"
   ]
  },
  {
   "cell_type": "code",
   "execution_count": null,
   "metadata": {},
   "outputs": [],
   "source": [
    "tissues = [x for x in tissue2zone2kg]\n",
    "zones = [x for x in tissue2zone2kg[tissues[0]]]\n",
    "\n",
    "print(tissues)\n",
    "print(zones)"
   ]
  },
  {
   "cell_type": "code",
   "execution_count": null,
   "metadata": {},
   "outputs": [],
   "source": [
    "fKG = tissue2zone2kg[tissues[0]][zones[0]]\n",
    "\n",
    "fKG.get_edge_between_type()"
   ]
  },
  {
   "cell_type": "code",
   "execution_count": null,
   "metadata": {},
   "outputs": [],
   "source": [
    "fKG.get_edge_edge_types()"
   ]
  },
  {
   "cell_type": "code",
   "execution_count": null,
   "metadata": {},
   "outputs": [],
   "source": [
    "fKG = tissue2zone2kg[tissues[0]][zones[0]]\n",
    "\n",
    "fKG.plot_node_attribute_histogram(lambda x: x.get(\"disease_spec_zscore\", 0), node_type=\"gene\")"
   ]
  },
  {
   "cell_type": "code",
   "execution_count": null,
   "metadata": {},
   "outputs": [],
   "source": [
    "fKG = tissue2zone2kg[tissues[0]][zones[0]]\n",
    "\n",
    "fKG.plot_node_attribute_histogram(lambda x: x.get(\"disease_spec_zscore\", 0), node_type=\"drug\")"
   ]
  },
  {
   "cell_type": "code",
   "execution_count": null,
   "metadata": {},
   "outputs": [],
   "source": [
    "fKG.plot_score_histogram(edge_types=[(\"gene\", \"gene\")],score_accessor=lambda x: x.get(\"score\", 0))"
   ]
  },
  {
   "cell_type": "code",
   "execution_count": null,
   "metadata": {},
   "outputs": [],
   "source": [
    "fKG.plot_score_histogram(edge_types=[(\"gene\", \"gene\")],score_accessor=lambda x: x.get(\"score_zscore\", 0))"
   ]
  },
  {
   "cell_type": "code",
   "execution_count": null,
   "metadata": {},
   "outputs": [],
   "source": [
    "fKG.plot_score_histogram(edge_types=[(\"drug\", \"disease\")],score_accessor=lambda x: x.get(\"score_zscore\", 0))"
   ]
  },
  {
   "cell_type": "code",
   "execution_count": null,
   "metadata": {},
   "outputs": [],
   "source": [
    "! pwd"
   ]
  },
  {
   "cell_type": "code",
   "execution_count": null,
   "metadata": {},
   "outputs": [],
   "source": [
    "mNS = MeanNetworkScorer()"
   ]
  },
  {
   "cell_type": "code",
   "execution_count": null,
   "metadata": {},
   "outputs": [],
   "source": [
    "basedir = \"/home/ubuntu/git/mikg/MI_output\"\n",
    "\n",
    "for x in glob.glob(\"{}/*/*\".format(basedir)):\n",
    "    #print(\"Removing\", x)\n",
    "    os.remove(x)\n",
    "\n",
    "sigKGraphs = {}\n",
    "\n",
    "for tissue in tissue2zone2kg:\n",
    "    print(tissue)\n",
    "    \n",
    "    zoneSort = {\n",
    "        \"CTRL\": 0,\n",
    "        \"RZ\": 1,\n",
    "        \"BZ\": 2,\n",
    "        \"IZ\": 3,\n",
    "        \"FZ\": 4\n",
    "    }\n",
    "    \n",
    "    tissueKGs = tissue2zone2kg[tissue]\n",
    "    \n",
    "    sTZ = sorted([x for x in tissueKGs], key=lambda x: zoneSort.get(x.split(\"_\")[1], -1))\n",
    "    \n",
    "    sTissueKGs = {x: tissueKGs[x] for x in sTZ}\n",
    "    \n",
    "    dmi = DifferentialModuleIdentifier()\n",
    "    \n",
    "    all_comms = {}\n",
    "    for zone in sTissueKGs:\n",
    "        print(tissue, zone)\n",
    "        gene_kg = sTissueKGs[zone].to_gene_kgraph()\n",
    "        \n",
    "        zone_comms = gene_kg.get_communities(minEdgeScore = 1, resolution=4, prefix=\"{}_mod\".format(zone), score_field=\"score_zscore\")\n",
    "        sigcomm = dmi.identify_differential_communities(zone_comms, zone, sTissueKGs, verbose=False, min_enriched=0.9, minLogFC=-1, score_field=\"score_zscore\")   \n",
    "        \n",
    "        for x in sigcomm:\n",
    "            all_comms[x] = zone_comms[x]\n",
    "        \n",
    "    print(len(all_comms))\n",
    "\n",
    "    for comm in all_comms:\n",
    "        print(comm, len(all_comms[comm]))\n",
    "        \n",
    "                \n",
    "        \n",
    "        nwe = NetworkExtender()\n",
    "        eKG = nwe.extend_network(all_comms[comm], sTissueKGs[zone], verbose=False, min_children_gs=3, score_field=\"score_zscore\")\n",
    "        \n",
    "        nwe.extend_network_force(eKG, sTissueKGs[zone], \"drug\",\n",
    "                                 acceptor=lambda n, k: k.kg.nodes[n].get(\"disease_spec_zscore\", 0) >= 0.5, # only disease-specific drugs\n",
    "                                 edge_acceptor=lambda e, k: k.kg.edges[e].get(\"score_zscore\", 0) > 0.1 and not (k.kg.edges[e].get(\"evidence_status\", \"\") in [\"Withdrawn\"]) # no withdrawn drugs\n",
    "                                 )\n",
    "        \n",
    "        #eKG.plot_graph()\n",
    "        \n",
    "        outdir = os.path.join(basedir, tissue)\n",
    "        os.makedirs(outdir, exist_ok=True)\n",
    "        outdir = os.path.join(outdir, comm)\n",
    "        dmi.plot_communities(sTissueKGs, [eKG.kg.nodes], zone, main_net=[all_comms[comm]], font_size=6, titles=[comm], num_columns=5, outfile=outdir, score_accessor=lambda x: x.get(\"score_zscore\", 0))\n",
    "        \n",
    "        sigKGraphs[comm] = eKG\n",
    "\n",
    "            "
   ]
  },
  {
   "cell_type": "code",
   "execution_count": null,
   "metadata": {},
   "outputs": [],
   "source": []
  },
  {
   "cell_type": "code",
   "execution_count": null,
   "metadata": {},
   "outputs": [],
   "source": []
  },
  {
   "cell_type": "code",
   "execution_count": null,
   "metadata": {},
   "outputs": [],
   "source": [
    "[x for x in sigKGraphs]"
   ]
  },
  {
   "cell_type": "code",
   "execution_count": null,
   "metadata": {},
   "outputs": [],
   "source": [
    "import pickle\n",
    "\n",
    "with open(\"zone_sigkgs.pickle\", 'wb') as f:\n",
    "    \n",
    "    for x in sigKGraphs:\n",
    "        sigKGraphs[x].kg = sigKGraphs[x].kg.copy()\n",
    "    \n",
    "    pickle.dump(sigKGraphs, f)"
   ]
  },
  {
   "cell_type": "code",
   "execution_count": null,
   "metadata": {},
   "outputs": [],
   "source": [
    "##\n",
    "##\n",
    "##\n",
    "#  AND MAYBE HERE\n",
    "##\n",
    "##\n",
    "##"
   ]
  },
  {
   "cell_type": "code",
   "execution_count": null,
   "metadata": {},
   "outputs": [],
   "source": [
    "sigKGraphs = pickle.load(open(\"zone_sigkgs.pickle\", \"rb\"))"
   ]
  },
  {
   "cell_type": "code",
   "execution_count": null,
   "metadata": {},
   "outputs": [],
   "source": [
    "[x for x in sigKGraphs]"
   ]
  },
  {
   "cell_type": "code",
   "execution_count": null,
   "metadata": {},
   "outputs": [],
   "source": [
    "fKG.get_node_edges(\"Orphanet:59135\")"
   ]
  },
  {
   "cell_type": "code",
   "execution_count": null,
   "metadata": {},
   "outputs": [],
   "source": [
    "fKG.kg.nodes[\"Orphanet:59135\"]"
   ]
  },
  {
   "cell_type": "code",
   "execution_count": null,
   "metadata": {},
   "outputs": [],
   "source": [
    "fKG.kg.nodes[\"MYH7\"]"
   ]
  },
  {
   "cell_type": "code",
   "execution_count": null,
   "metadata": {},
   "outputs": [],
   "source": []
  },
  {
   "cell_type": "code",
   "execution_count": null,
   "metadata": {},
   "outputs": [],
   "source": [
    "node=\"Orphanet:59135\"\n",
    "target_ntype=\"gene\"\n",
    "child_score_accessor=lambda x: x.get(\"expression\", {}).get(\"score\", 0)\n",
    "\n",
    "#get all children of node of type target_ntype\n",
    "geneChildren = fKG._get_predecessors(node, target_ntype)\n",
    "\n",
    "#get all scores for children\n",
    "childrenScores = []\n",
    "for child in geneChildren:\n",
    "    childrenScores.append( child_score_accessor(fKG.kg.nodes[child]) )\n",
    "\n",
    "    \n",
    "if len(childrenScores) == 0:\n",
    "    nodeMedian = 0\n",
    "    nodeScore = 0    \n",
    "else:\n",
    "    nodeScore = np.mean(childrenScores)\n",
    "    nodeSD = np.std(childrenScores)\n",
    "    nodeMedian = np.median(childrenScores)\n",
    "    \n",
    "print(nodeMedian)"
   ]
  },
  {
   "cell_type": "code",
   "execution_count": null,
   "metadata": {},
   "outputs": [],
   "source": []
  },
  {
   "cell_type": "code",
   "execution_count": null,
   "metadata": {},
   "outputs": [],
   "source": [
    "diseaseDegrees = fKG.get_node_degrees(\"disease\")"
   ]
  },
  {
   "cell_type": "code",
   "execution_count": null,
   "metadata": {},
   "outputs": [],
   "source": [
    "plt.hist(diseaseDegrees, bins=100)"
   ]
  },
  {
   "cell_type": "code",
   "execution_count": null,
   "metadata": {},
   "outputs": [],
   "source": []
  },
  {
   "cell_type": "code",
   "execution_count": null,
   "metadata": {},
   "outputs": [],
   "source": [
    "skg = sigKGraphs[\"Adipocyte_CTRL_mod_22\"]"
   ]
  },
  {
   "cell_type": "code",
   "execution_count": null,
   "metadata": {},
   "outputs": [],
   "source": []
  },
  {
   "cell_type": "code",
   "execution_count": null,
   "metadata": {},
   "outputs": [],
   "source": []
  },
  {
   "cell_type": "code",
   "execution_count": null,
   "metadata": {},
   "outputs": [],
   "source": [
    "def get_edges_of_node(kg, node):\n",
    "    \n",
    "    allEdges = []\n",
    "    for inEdge in kg.in_edges(node):\n",
    "        oNode = inEdge[0]\n",
    "        allEdges.append(oNode)\n",
    "            \n",
    "    for outEdge in kg.out_edges(node):\n",
    "        oNode = outEdge[1]\n",
    "        allEdges.append(oNode)\n",
    "                    \n",
    "    return allEdges"
   ]
  },
  {
   "cell_type": "code",
   "execution_count": null,
   "metadata": {},
   "outputs": [],
   "source": [
    "get_edges_of_node(skg, \"Orphanet:725\")"
   ]
  },
  {
   "cell_type": "code",
   "execution_count": null,
   "metadata": {},
   "outputs": [],
   "source": []
  }
 ],
 "metadata": {
  "kernelspec": {
   "display_name": "Python 3 (ipykernel)",
   "language": "python",
   "name": "python3"
  },
  "language_info": {
   "codemirror_mode": {
    "name": "ipython",
    "version": 3
   },
   "file_extension": ".py",
   "mimetype": "text/x-python",
   "name": "python",
   "nbconvert_exporter": "python",
   "pygments_lexer": "ipython3",
   "version": "3.10.12"
  }
 },
 "nbformat": 4,
 "nbformat_minor": 4
}
