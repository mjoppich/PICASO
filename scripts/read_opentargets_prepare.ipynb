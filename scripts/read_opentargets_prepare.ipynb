{
 "cells": [
  {
   "cell_type": "code",
   "execution_count": null,
   "metadata": {},
   "outputs": [],
   "source": [
    "! pwd"
   ]
  },
  {
   "cell_type": "code",
   "execution_count": 1,
   "metadata": {},
   "outputs": [
    {
     "name": "stderr",
     "output_type": "stream",
     "text": [
      "Setting default log level to \"WARN\".\n",
      "To adjust logging level use sc.setLogLevel(newLevel). For SparkR, use setLogLevel(newLevel).\n",
      "23/11/28 16:26:14 WARN NativeCodeLoader: Unable to load native-hadoop library for your platform... using builtin-java classes where applicable\n"
     ]
    }
   ],
   "source": [
    "import pyspark\n",
    "from pyspark.sql import SparkSession\n",
    "from pyspark.sql.functions import col, explode\n",
    "\n",
    "## Set up Spark\n",
    "sc = pyspark.SparkContext()\n",
    "spark = SparkSession.builder \\\n",
    "           .getOrCreate()\n",
    "\n",
    "## Data paths\n",
    "ot_platform = \"/mnt/raidbio/extproj/projekte/regulatory_networks/opentargets/\"\n"
   ]
  },
  {
   "cell_type": "code",
   "execution_count": 2,
   "metadata": {},
   "outputs": [
    {
     "name": "stderr",
     "output_type": "stream",
     "text": [
      "                                                                                \r"
     ]
    }
   ],
   "source": [
    "## Read Open Targets platform data \n",
    "diseases = (spark.read.parquet(ot_platform+\"diseases/\", header=True)\n",
    "            .withColumnRenamed(\"id\",\"diseaseId\")\n",
    "            .withColumnRenamed(\"name\",\"diseaseName\")\n",
    "            )\n",
    "targets = (spark.read.parquet(ot_platform+\"targets/\")\n",
    "           .withColumnRenamed(\"id\",\"targetId\")\n",
    "           .withColumnRenamed(\"approvedSymbol\", \"targetSymbol\")\n",
    "           .withColumnRenamed(\"approvedName\",\"targetName\")\n",
    "           )\n",
    "evidence = spark.read.parquet(ot_platform+\"evidence\")\n",
    "#knowndrugs = (spark.read.parquet(ot_platform+\"knownDrugsAggregated\").withColumnRenamed(\"approvedSymbol\", \"targetGeneSymbol\").withColumnRenamed(\"approvedName\",\"targetGeneName\").withColumnRenamed(\"label\",\"diseaseName\"))\n",
    "overall_associations = spark.read.parquet(ot_platform+\"associationByOverallIndirect\")"
   ]
  },
  {
   "cell_type": "code",
   "execution_count": 3,
   "metadata": {},
   "outputs": [],
   "source": [
    "knowndrugs = (spark.read.parquet(ot_platform+\"knownDrugsAggregated\").withColumnRenamed(\"approvedSymbol\", \"targetGeneSymbol\").withColumnRenamed(\"approvedName\",\"targetGeneName\").withColumnRenamed(\"label\",\"diseaseName\"))"
   ]
  },
  {
   "cell_type": "code",
   "execution_count": 4,
   "metadata": {},
   "outputs": [
    {
     "name": "stdout",
     "output_type": "stream",
     "text": [
      "root\n",
      " |-- drugId: string (nullable = true)\n",
      " |-- targetId: string (nullable = true)\n",
      " |-- diseaseId: string (nullable = true)\n",
      " |-- phase: long (nullable = true)\n",
      " |-- status: string (nullable = true)\n",
      " |-- urls: array (nullable = true)\n",
      " |    |-- element: struct (containsNull = true)\n",
      " |    |    |-- niceName: string (nullable = true)\n",
      " |    |    |-- url: string (nullable = true)\n",
      " |-- ancestors: array (nullable = true)\n",
      " |    |-- element: string (containsNull = true)\n",
      " |-- diseaseName: string (nullable = true)\n",
      " |-- targetGeneSymbol: string (nullable = true)\n",
      " |-- targetGeneName: string (nullable = true)\n",
      " |-- targetClass: array (nullable = true)\n",
      " |    |-- element: string (containsNull = true)\n",
      " |-- prefName: string (nullable = true)\n",
      " |-- tradeNames: array (nullable = true)\n",
      " |    |-- element: string (containsNull = true)\n",
      " |-- synonyms: array (nullable = true)\n",
      " |    |-- element: string (containsNull = true)\n",
      " |-- drugType: string (nullable = true)\n",
      " |-- mechanismOfAction: string (nullable = true)\n",
      " |-- references: array (nullable = true)\n",
      " |    |-- element: struct (containsNull = true)\n",
      " |    |    |-- source: string (nullable = true)\n",
      " |    |    |-- ids: array (nullable = true)\n",
      " |    |    |    |-- element: string (containsNull = true)\n",
      " |    |    |-- urls: array (nullable = true)\n",
      " |    |    |    |-- element: string (containsNull = true)\n",
      " |-- targetName: string (nullable = true)\n",
      "\n"
     ]
    },
    {
     "name": "stderr",
     "output_type": "stream",
     "text": [
      "23/11/28 16:26:27 WARN GarbageCollectionMetrics: To enable non-built-in garbage collector(s) List(G1 Concurrent GC), users should configure it(them) to spark.eventLog.gcMetrics.youngGenerationGarbageCollectors or spark.eventLog.gcMetrics.oldGenerationGarbageCollectors\n"
     ]
    }
   ],
   "source": [
    "knowndrugs.printSchema()"
   ]
  },
  {
   "cell_type": "code",
   "execution_count": null,
   "metadata": {},
   "outputs": [],
   "source": [
    "overall_associations.printSchema()"
   ]
  },
  {
   "cell_type": "code",
   "execution_count": null,
   "metadata": {},
   "outputs": [],
   "source": [
    "associations = spark.read.parquet(ot_platform+\"associationByDatatypeDirect/\")\n",
    "associations.printSchema()"
   ]
  },
  {
   "cell_type": "code",
   "execution_count": null,
   "metadata": {},
   "outputs": [],
   "source": [
    "associations.show(5)"
   ]
  },
  {
   "cell_type": "code",
   "execution_count": null,
   "metadata": {},
   "outputs": [],
   "source": [
    "knowndrugs.show(5)"
   ]
  },
  {
   "cell_type": "code",
   "execution_count": null,
   "metadata": {},
   "outputs": [],
   "source": [
    "knowndrugs.select(col(\"drugId\"),col(\"targetId\"),col(\"diseaseId\"),col(\"status\"),col(\"diseaseName\"),col(\"targetGeneSymbol\"),col(\"targetGeneName\"), col(\"prefName\"), col(\"drugType\")).show(5)"
   ]
  },
  {
   "cell_type": "code",
   "execution_count": null,
   "metadata": {},
   "outputs": [],
   "source": [
    "! rm -rf ../data/opentargets_disease_associations\n",
    "! rm -rf ../data/opentargets_knowndrugs"
   ]
  },
  {
   "cell_type": "code",
   "execution_count": null,
   "metadata": {},
   "outputs": [],
   "source": [
    "\n",
    "associations.write.option(\"header\", \"true\").option(\"delimiter\", \"\\t\").csv(\"../data/opentargets_disease_associations\")\n",
    "knowndrugs.select(col(\"drugId\"),col(\"targetId\"),col(\"diseaseId\"),col(\"status\"),col(\"diseaseName\"),col(\"targetGeneSymbol\"),col(\"targetGeneName\"), col(\"prefName\"), col(\"drugType\")).write.option(\"header\", \"true\").option(\"delimiter\", \"\\t\").csv(\"../data/opentargets_knowndrugs\")"
   ]
  },
  {
   "cell_type": "code",
   "execution_count": null,
   "metadata": {
    "vscode": {
     "languageId": "shellscript"
    }
   },
   "outputs": [],
   "source": [
    "%%sh\n",
    "# Get a list of all tab-separated files in the current directory\n",
    "files=$(ls ../data/opentargets_disease_associations/*.csv)\n",
    "\n",
    "# Loop through each file\n",
    "for file in $files; do\n",
    "    # If it's the first file, just print it without omitting the header\n",
    "    if [ -z \"$first_file_processed\" ]; then\n",
    "        cat \"$file\" > ../data/opentargets_disease_associations.tsv\n",
    "        first_file_processed=true\n",
    "    else\n",
    "        # For subsequent files, print all lines except the first one (header)\n",
    "        tail -n +2 \"$file\" >> ../data/opentargets_disease_associations.tsv\n",
    "    fi\n",
    "done"
   ]
  },
  {
   "cell_type": "code",
   "execution_count": null,
   "metadata": {
    "vscode": {
     "languageId": "shellscript"
    }
   },
   "outputs": [],
   "source": [
    "%%sh\n",
    "# Get a list of all tab-separated files in the current directory\n",
    "files=$(ls ../data/opentargets_knowndrugs/*.csv)\n",
    "\n",
    "# Loop through each file\n",
    "for file in $files; do\n",
    "    # If it's the first file, just print it without omitting the header\n",
    "    if [ -z \"$first_file_processed\" ]; then\n",
    "        cat \"$file\" > ../data/opentargets_knowndrugs.tsv\n",
    "        first_file_processed=true\n",
    "    else\n",
    "        # For subsequent files, print all lines except the first one (header)\n",
    "        tail -n +2 \"$file\" >> ../data/opentargets_knowndrugs.tsv\n",
    "    fi\n",
    "done"
   ]
  }
 ],
 "metadata": {
  "kernelspec": {
   "display_name": "Python 3.11",
   "language": "python",
   "name": "python3"
  },
  "language_info": {
   "codemirror_mode": {
    "name": "ipython",
    "version": 3
   },
   "file_extension": ".py",
   "mimetype": "text/x-python",
   "name": "python",
   "nbconvert_exporter": "python",
   "pygments_lexer": "ipython3",
   "version": "3.11.5"
  },
  "vscode": {
   "interpreter": {
    "hash": "31f2aee4e71d21fbe5cf8b01ff0e069b9275f58929596ceb00d14d90e3e16cd6"
   }
  }
 },
 "nbformat": 4,
 "nbformat_minor": 4
}
