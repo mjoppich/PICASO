{
 "cells": [
  {
   "cell_type": "code",
   "execution_count": 1,
   "metadata": {},
   "outputs": [
    {
     "name": "stderr",
     "output_type": "stream",
     "text": [
      "Setting default log level to \"WARN\".\n",
      "To adjust logging level use sc.setLogLevel(newLevel). For SparkR, use setLogLevel(newLevel).\n"
     ]
    },
    {
     "name": "stdout",
     "output_type": "stream",
     "text": [
      "23/09/05 09:34:31 WARN NativeCodeLoader: Unable to load native-hadoop library for your platform... using builtin-java classes where applicable\n"
     ]
    }
   ],
   "source": [
    "import pyspark\n",
    "from pyspark.sql import SparkSession\n",
    "from pyspark.sql.functions import col, explode\n",
    "\n",
    "## Set up Spark\n",
    "sc = pyspark.SparkContext()\n",
    "spark = SparkSession.builder \\\n",
    "           .getOrCreate()\n",
    "\n",
    "## Data paths\n",
    "ot_platform = \"/usr/local/hdd3/mikg/opentargets/\"\n"
   ]
  },
  {
   "cell_type": "code",
   "execution_count": 2,
   "metadata": {},
   "outputs": [],
   "source": [
    "## Read Open Targets platform data \n",
    "diseases = (spark.read.parquet(ot_platform+\"diseases/\", header=True)\n",
    "            .withColumnRenamed(\"id\",\"diseaseId\")\n",
    "            .withColumnRenamed(\"name\",\"diseaseName\")\n",
    "            )\n",
    "targets = (spark.read.parquet(ot_platform+\"targets/\")\n",
    "           .withColumnRenamed(\"id\",\"targetId\")\n",
    "           .withColumnRenamed(\"approvedSymbol\", \"targetSymbol\")\n",
    "           .withColumnRenamed(\"approvedName\",\"targetName\")\n",
    "           )\n",
    "evidence = spark.read.parquet(ot_platform+\"evidence\")\n",
    "knowndrugs = (spark.read.parquet(ot_platform+\"knownDrugsAggregated\").withColumnRenamed(\"approvedSymbol\", \"targetGeneSymbol\").withColumnRenamed(\"approvedName\",\"targetGeneName\").withColumnRenamed(\"label\",\"diseaseName\"))\n",
    "overall_associations = spark.read.parquet(ot_platform+\"associationByOverallIndirect\")"
   ]
  },
  {
   "cell_type": "code",
   "execution_count": 3,
   "metadata": {},
   "outputs": [
    {
     "name": "stdout",
     "output_type": "stream",
     "text": [
      "root\n",
      " |-- targetId: string (nullable = true)\n",
      " |-- diseaseId: string (nullable = true)\n",
      " |-- datatypeId: string (nullable = true)\n",
      " |-- datatypeHarmonicScore: double (nullable = true)\n",
      " |-- datatypeEvidenceCount: long (nullable = true)\n",
      " |-- diseaseLabel: string (nullable = true)\n",
      " |-- targetName: string (nullable = true)\n",
      " |-- targetSymbol: string (nullable = true)\n",
      "\n"
     ]
    }
   ],
   "source": [
    "associations = spark.read.parquet(ot_platform+\"associationByDatatypeDirect/\")\n",
    "associations.printSchema()"
   ]
  },
  {
   "cell_type": "code",
   "execution_count": 4,
   "metadata": {},
   "outputs": [
    {
     "name": "stdout",
     "output_type": "stream",
     "text": [
      "+---------------+-----------+--------------+---------------------+---------------------+----------------+--------------------+------------+\n",
      "|       targetId|  diseaseId|    datatypeId|datatypeHarmonicScore|datatypeEvidenceCount|    diseaseLabel|          targetName|targetSymbol|\n",
      "+---------------+-----------+--------------+---------------------+---------------------+----------------+--------------------+------------+\n",
      "|ENSG00000000003|EFO_0000305|rna_expression| 0.017416968888271284|                    1|breast carcinoma|       tetraspanin 6|      TSPAN6|\n",
      "|ENSG00000000003|EFO_0000311|    literature| 0.020000000000000004|                    1|          cancer|       tetraspanin 6|      TSPAN6|\n",
      "|ENSG00000000005|EFO_0000305|rna_expression| 0.025026262158649122|                    2|breast carcinoma|         tenomodulin|        TNMD|\n",
      "|ENSG00000000005|EFO_0000311|    literature|                0.004|                    1|          cancer|         tenomodulin|        TNMD|\n",
      "|ENSG00000000419|EFO_0000311|    literature|               0.0196|                    2|          cancer|dolichyl-phosphat...|        DPM1|\n",
      "+---------------+-----------+--------------+---------------------+---------------------+----------------+--------------------+------------+\n",
      "only showing top 5 rows\n",
      "\n"
     ]
    }
   ],
   "source": [
    "associations.show(5)"
   ]
  },
  {
   "cell_type": "code",
   "execution_count": 5,
   "metadata": {},
   "outputs": [
    {
     "name": "stdout",
     "output_type": "stream",
     "text": [
      "+-------------+---------------+-----------+-----+--------------------+--------------------+--------------------+--------------------+----------------+--------------------+-----------+--------------------+--------------------+--------------------+--------------+--------------------+--------------------+--------------------+\n",
      "|       drugId|       targetId|  diseaseId|phase|              status|                urls|           ancestors|         diseaseName|targetGeneSymbol|      targetGeneName|targetClass|            prefName|          tradeNames|            synonyms|      drugType|   mechanismOfAction|          references|          targetName|\n",
      "+-------------+---------------+-----------+-----+--------------------+--------------------+--------------------+--------------------+----------------+--------------------+-----------+--------------------+--------------------+--------------------+--------------+--------------------+--------------------+--------------------+\n",
      "|    CHEMBL628|ENSG00000113231| DOID_13406|    2|           Completed|[{ClinicalTrials,...|[OTAR_0000006, MO...|pulmonary sarcoid...|           PDE8B|phosphodiesterase 8B|   [Enzyme]|      PENTOXIFYLLINE|[Neotren mr, Pent...|[BL 191, BL-191, ...|Small molecule|3',5'-cyclic phos...|[{PubMed, [199970...|3',5'-cyclic phos...|\n",
      "|CHEMBL1096882|ENSG00000175482|EFO_0000095|    1|Active, not recru...|[{ClinicalTrials,...|[EFO_0007352, OTA...|chronic lymphocyt...|           POLD4|DNA polymerase de...|       null|FLUDARABINE PHOSP...|[Fludara, Fludara...|[Fludarabine, Flu...|Small molecule|DNA polymerase (a...|[{FDA, [label/201...|DNA polymerase (a...|\n",
      "|CHEMBL1096882|ENSG00000177084|EFO_0000095|    1|           Completed|[{ClinicalTrials,...|[EFO_0007352, OTA...|chronic lymphocyt...|            POLE|DNA polymerase ep...|       null|FLUDARABINE PHOSP...|[Fludara, Fludara...|[Fludarabine, Flu...|Small molecule|DNA polymerase (a...|[{FDA, [label/201...|DNA polymerase (a...|\n",
      "|CHEMBL1096882|ENSG00000100479|EFO_0000095|    1|          Recruiting|[{ClinicalTrials,...|[EFO_0007352, OTA...|chronic lymphocyt...|           POLE2|DNA polymerase ep...|       null|FLUDARABINE PHOSP...|[Fludara, Fludara...|[Fludarabine, Flu...|Small molecule|DNA polymerase (a...|[{FDA, [label/201...|DNA polymerase (a...|\n",
      "|CHEMBL1096882|ENSG00000101868|EFO_0000095|    2|      Unknown status|[{ClinicalTrials,...|[EFO_0007352, OTA...|chronic lymphocyt...|           POLA1|DNA polymerase al...|   [Enzyme]|FLUDARABINE PHOSP...|[Fludara, Fludara...|[Fludarabine, Flu...|Small molecule|DNA polymerase (a...|[{FDA, [label/201...|DNA polymerase (a...|\n",
      "+-------------+---------------+-----------+-----+--------------------+--------------------+--------------------+--------------------+----------------+--------------------+-----------+--------------------+--------------------+--------------------+--------------+--------------------+--------------------+--------------------+\n",
      "only showing top 5 rows\n",
      "\n"
     ]
    }
   ],
   "source": [
    "knowndrugs.show(5)"
   ]
  },
  {
   "cell_type": "code",
   "execution_count": 6,
   "metadata": {},
   "outputs": [
    {
     "name": "stdout",
     "output_type": "stream",
     "text": [
      "+-------------+---------------+-----------+--------------------+--------------------+----------------+--------------------+--------------------+--------------+\n",
      "|       drugId|       targetId|  diseaseId|              status|         diseaseName|targetGeneSymbol|      targetGeneName|            prefName|      drugType|\n",
      "+-------------+---------------+-----------+--------------------+--------------------+----------------+--------------------+--------------------+--------------+\n",
      "|    CHEMBL628|ENSG00000113231| DOID_13406|           Completed|pulmonary sarcoid...|           PDE8B|phosphodiesterase 8B|      PENTOXIFYLLINE|Small molecule|\n",
      "|CHEMBL1096882|ENSG00000175482|EFO_0000095|Active, not recru...|chronic lymphocyt...|           POLD4|DNA polymerase de...|FLUDARABINE PHOSP...|Small molecule|\n",
      "|CHEMBL1096882|ENSG00000177084|EFO_0000095|           Completed|chronic lymphocyt...|            POLE|DNA polymerase ep...|FLUDARABINE PHOSP...|Small molecule|\n",
      "|CHEMBL1096882|ENSG00000100479|EFO_0000095|          Recruiting|chronic lymphocyt...|           POLE2|DNA polymerase ep...|FLUDARABINE PHOSP...|Small molecule|\n",
      "|CHEMBL1096882|ENSG00000101868|EFO_0000095|      Unknown status|chronic lymphocyt...|           POLA1|DNA polymerase al...|FLUDARABINE PHOSP...|Small molecule|\n",
      "+-------------+---------------+-----------+--------------------+--------------------+----------------+--------------------+--------------------+--------------+\n",
      "only showing top 5 rows\n",
      "\n"
     ]
    }
   ],
   "source": [
    "knowndrugs.select(col(\"drugId\"),col(\"targetId\"),col(\"diseaseId\"),col(\"status\"),col(\"diseaseName\"),col(\"targetGeneSymbol\"),col(\"targetGeneName\"), col(\"prefName\"), col(\"drugType\")).show(5)"
   ]
  },
  {
   "cell_type": "code",
   "execution_count": 10,
   "metadata": {},
   "outputs": [],
   "source": [
    "! rm -rf ../data/opentargets_disease_associations\n",
    "! rm -rf ../data/opentargets_knowndrugs"
   ]
  },
  {
   "cell_type": "code",
   "execution_count": 11,
   "metadata": {},
   "outputs": [
    {
     "name": "stderr",
     "output_type": "stream",
     "text": [
      "                                                                                \r"
     ]
    }
   ],
   "source": [
    "\n",
    "associations.write.option(\"header\", \"true\").option(\"delimiter\", \"\\t\").csv(\"../data/opentargets_disease_associations\")\n",
    "knowndrugs.select(col(\"drugId\"),col(\"targetId\"),col(\"diseaseId\"),col(\"status\"),col(\"diseaseName\"),col(\"targetGeneSymbol\"),col(\"targetGeneName\"), col(\"prefName\"), col(\"drugType\")).write.option(\"header\", \"true\").option(\"delimiter\", \"\\t\").csv(\"../data/opentargets_knowndrugs\")"
   ]
  },
  {
   "cell_type": "code",
   "execution_count": 12,
   "metadata": {
    "vscode": {
     "languageId": "shellscript"
    }
   },
   "outputs": [],
   "source": [
    "%%sh\n",
    "# Get a list of all tab-separated files in the current directory\n",
    "files=$(ls ../data/opentargets_disease_associations/*.csv)\n",
    "\n",
    "# Loop through each file\n",
    "for file in $files; do\n",
    "    # If it's the first file, just print it without omitting the header\n",
    "    if [ -z \"$first_file_processed\" ]; then\n",
    "        cat \"$file\" > ../data/opentargets_disease_associations.tsv\n",
    "        first_file_processed=true\n",
    "    else\n",
    "        # For subsequent files, print all lines except the first one (header)\n",
    "        tail -n +2 \"$file\" >> ../data/opentargets_disease_associations.tsv\n",
    "    fi\n",
    "done"
   ]
  },
  {
   "cell_type": "code",
   "execution_count": 13,
   "metadata": {
    "vscode": {
     "languageId": "shellscript"
    }
   },
   "outputs": [],
   "source": [
    "%%sh\n",
    "# Get a list of all tab-separated files in the current directory\n",
    "files=$(ls ../data/opentargets_knowndrugs/*.csv)\n",
    "\n",
    "# Loop through each file\n",
    "for file in $files; do\n",
    "    # If it's the first file, just print it without omitting the header\n",
    "    if [ -z \"$first_file_processed\" ]; then\n",
    "        cat \"$file\" > ../data/opentargets_knowndrugs.tsv\n",
    "        first_file_processed=true\n",
    "    else\n",
    "        # For subsequent files, print all lines except the first one (header)\n",
    "        tail -n +2 \"$file\" >> ../data/opentargets_knowndrugs.tsv\n",
    "    fi\n",
    "done"
   ]
  }
 ],
 "metadata": {
  "kernelspec": {
   "display_name": "Python 3",
   "language": "python",
   "name": "python3"
  },
  "language_info": {
   "codemirror_mode": {
    "name": "ipython",
    "version": 3
   },
   "file_extension": ".py",
   "mimetype": "text/x-python",
   "name": "python",
   "nbconvert_exporter": "python",
   "pygments_lexer": "ipython3",
   "version": "3.8.10"
  },
  "orig_nbformat": 4,
  "vscode": {
   "interpreter": {
    "hash": "31f2aee4e71d21fbe5cf8b01ff0e069b9275f58929596ceb00d14d90e3e16cd6"
   }
  }
 },
 "nbformat": 4,
 "nbformat_minor": 2
}
