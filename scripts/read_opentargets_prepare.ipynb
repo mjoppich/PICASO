{
 "cells": [
  {
   "cell_type": "code",
   "execution_count": 1,
   "metadata": {},
   "outputs": [
    {
     "name": "stdout",
     "output_type": "stream",
     "text": [
      "/mnt/data/git/mikg/scripts\n"
     ]
    }
   ],
   "source": [
    "! pwd"
   ]
  },
  {
   "cell_type": "code",
   "execution_count": 3,
   "metadata": {},
   "outputs": [
    {
     "name": "stderr",
     "output_type": "stream",
     "text": [
      "Setting default log level to \"WARN\".\n",
      "To adjust logging level use sc.setLogLevel(newLevel). For SparkR, use setLogLevel(newLevel).\n",
      "23/09/25 08:33:46 WARN NativeCodeLoader: Unable to load native-hadoop library for your platform... using builtin-java classes where applicable\n"
     ]
    }
   ],
   "source": [
    "import pyspark\n",
    "from pyspark.sql import SparkSession\n",
    "from pyspark.sql.functions import col, explode\n",
    "\n",
    "## Set up Spark\n",
    "sc = pyspark.SparkContext()\n",
    "spark = SparkSession.builder \\\n",
    "           .getOrCreate()\n",
    "\n",
    "## Data paths\n",
    "ot_platform = \"/mnt/data/git/mikg/opentargets/\"\n"
   ]
  },
  {
   "cell_type": "code",
   "execution_count": 4,
   "metadata": {},
   "outputs": [
    {
     "name": "stderr",
     "output_type": "stream",
     "text": [
      "                                                                                \r"
     ]
    }
   ],
   "source": [
    "## Read Open Targets platform data \n",
    "diseases = (spark.read.parquet(ot_platform+\"diseases/\", header=True)\n",
    "            .withColumnRenamed(\"id\",\"diseaseId\")\n",
    "            .withColumnRenamed(\"name\",\"diseaseName\")\n",
    "            )\n",
    "targets = (spark.read.parquet(ot_platform+\"targets/\")\n",
    "           .withColumnRenamed(\"id\",\"targetId\")\n",
    "           .withColumnRenamed(\"approvedSymbol\", \"targetSymbol\")\n",
    "           .withColumnRenamed(\"approvedName\",\"targetName\")\n",
    "           )\n",
    "evidence = spark.read.parquet(ot_platform+\"evidence\")\n",
    "knowndrugs = (spark.read.parquet(ot_platform+\"knownDrugsAggregated\").withColumnRenamed(\"approvedSymbol\", \"targetGeneSymbol\").withColumnRenamed(\"approvedName\",\"targetGeneName\").withColumnRenamed(\"label\",\"diseaseName\"))\n",
    "overall_associations = spark.read.parquet(ot_platform+\"associationByOverallIndirect\")"
   ]
  },
  {
   "cell_type": "code",
   "execution_count": 7,
   "metadata": {},
   "outputs": [
    {
     "name": "stdout",
     "output_type": "stream",
     "text": [
      "root\n",
      " |-- diseaseId: string (nullable = true)\n",
      " |-- targetId: string (nullable = true)\n",
      " |-- diseaseLabel: string (nullable = true)\n",
      " |-- targetName: string (nullable = true)\n",
      " |-- targetSymbol: string (nullable = true)\n",
      " |-- overallDatasourceHarmonicScore: double (nullable = true)\n",
      " |-- overallDatatypeHarmonicScore: double (nullable = true)\n",
      " |-- overallDatasourceHarmonicVector: array (nullable = true)\n",
      " |    |-- element: struct (containsNull = true)\n",
      " |    |    |-- datasourceId: string (nullable = true)\n",
      " |    |    |-- datasourceHarmonicScore: double (nullable = true)\n",
      " |    |    |-- datasourceEvidenceCount: long (nullable = true)\n",
      " |    |    |-- weight: double (nullable = true)\n",
      " |-- overallDatatypeHarmonicVector: array (nullable = true)\n",
      " |    |-- element: struct (containsNull = true)\n",
      " |    |    |-- datatypeId: string (nullable = true)\n",
      " |    |    |-- datatypeHarmonicScore: double (nullable = true)\n",
      " |    |    |-- datatypeEvidenceCount: long (nullable = true)\n",
      " |    |    |-- weight: double (nullable = true)\n",
      " |-- overallDatasourceEvidenceCount: double (nullable = true)\n",
      " |-- overallDatatypeEvidenceCount: double (nullable = true)\n",
      "\n"
     ]
    }
   ],
   "source": [
    "overall_associations.printSchema()"
   ]
  },
  {
   "cell_type": "code",
   "execution_count": 5,
   "metadata": {},
   "outputs": [
    {
     "name": "stdout",
     "output_type": "stream",
     "text": [
      "root\n",
      " |-- targetId: string (nullable = true)\n",
      " |-- diseaseId: string (nullable = true)\n",
      " |-- datatypeId: string (nullable = true)\n",
      " |-- datatypeHarmonicScore: double (nullable = true)\n",
      " |-- datatypeEvidenceCount: long (nullable = true)\n",
      " |-- diseaseLabel: string (nullable = true)\n",
      " |-- targetName: string (nullable = true)\n",
      " |-- targetSymbol: string (nullable = true)\n",
      "\n"
     ]
    }
   ],
   "source": [
    "associations = spark.read.parquet(ot_platform+\"associationByDatatypeDirect/\")\n",
    "associations.printSchema()"
   ]
  },
  {
   "cell_type": "code",
   "execution_count": null,
   "metadata": {},
   "outputs": [],
   "source": [
    "associations.show(5)"
   ]
  },
  {
   "cell_type": "code",
   "execution_count": null,
   "metadata": {},
   "outputs": [],
   "source": [
    "knowndrugs.show(5)"
   ]
  },
  {
   "cell_type": "code",
   "execution_count": null,
   "metadata": {},
   "outputs": [],
   "source": [
    "knowndrugs.select(col(\"drugId\"),col(\"targetId\"),col(\"diseaseId\"),col(\"status\"),col(\"diseaseName\"),col(\"targetGeneSymbol\"),col(\"targetGeneName\"), col(\"prefName\"), col(\"drugType\")).show(5)"
   ]
  },
  {
   "cell_type": "code",
   "execution_count": null,
   "metadata": {},
   "outputs": [],
   "source": [
    "! rm -rf ../data/opentargets_disease_associations\n",
    "! rm -rf ../data/opentargets_knowndrugs"
   ]
  },
  {
   "cell_type": "code",
   "execution_count": null,
   "metadata": {},
   "outputs": [],
   "source": [
    "\n",
    "associations.write.option(\"header\", \"true\").option(\"delimiter\", \"\\t\").csv(\"../data/opentargets_disease_associations\")\n",
    "knowndrugs.select(col(\"drugId\"),col(\"targetId\"),col(\"diseaseId\"),col(\"status\"),col(\"diseaseName\"),col(\"targetGeneSymbol\"),col(\"targetGeneName\"), col(\"prefName\"), col(\"drugType\")).write.option(\"header\", \"true\").option(\"delimiter\", \"\\t\").csv(\"../data/opentargets_knowndrugs\")"
   ]
  },
  {
   "cell_type": "code",
   "execution_count": null,
   "metadata": {
    "vscode": {
     "languageId": "shellscript"
    }
   },
   "outputs": [],
   "source": [
    "%%sh\n",
    "# Get a list of all tab-separated files in the current directory\n",
    "files=$(ls ../data/opentargets_disease_associations/*.csv)\n",
    "\n",
    "# Loop through each file\n",
    "for file in $files; do\n",
    "    # If it's the first file, just print it without omitting the header\n",
    "    if [ -z \"$first_file_processed\" ]; then\n",
    "        cat \"$file\" > ../data/opentargets_disease_associations.tsv\n",
    "        first_file_processed=true\n",
    "    else\n",
    "        # For subsequent files, print all lines except the first one (header)\n",
    "        tail -n +2 \"$file\" >> ../data/opentargets_disease_associations.tsv\n",
    "    fi\n",
    "done"
   ]
  },
  {
   "cell_type": "code",
   "execution_count": null,
   "metadata": {
    "vscode": {
     "languageId": "shellscript"
    }
   },
   "outputs": [],
   "source": [
    "%%sh\n",
    "# Get a list of all tab-separated files in the current directory\n",
    "files=$(ls ../data/opentargets_knowndrugs/*.csv)\n",
    "\n",
    "# Loop through each file\n",
    "for file in $files; do\n",
    "    # If it's the first file, just print it without omitting the header\n",
    "    if [ -z \"$first_file_processed\" ]; then\n",
    "        cat \"$file\" > ../data/opentargets_knowndrugs.tsv\n",
    "        first_file_processed=true\n",
    "    else\n",
    "        # For subsequent files, print all lines except the first one (header)\n",
    "        tail -n +2 \"$file\" >> ../data/opentargets_knowndrugs.tsv\n",
    "    fi\n",
    "done"
   ]
  }
 ],
 "metadata": {
  "kernelspec": {
   "display_name": "Python 3 (ipykernel)",
   "language": "python",
   "name": "python3"
  },
  "language_info": {
   "codemirror_mode": {
    "name": "ipython",
    "version": 3
   },
   "file_extension": ".py",
   "mimetype": "text/x-python",
   "name": "python",
   "nbconvert_exporter": "python",
   "pygments_lexer": "ipython3",
   "version": "3.10.12"
  },
  "vscode": {
   "interpreter": {
    "hash": "31f2aee4e71d21fbe5cf8b01ff0e069b9275f58929596ceb00d14d90e3e16cd6"
   }
  }
 },
 "nbformat": 4,
 "nbformat_minor": 4
}
