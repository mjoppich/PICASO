{
 "cells": [
  {
   "cell_type": "code",
   "execution_count": null,
   "id": "9b7bf2b2-e129-4b21-a917-2127ef1c9d23",
   "metadata": {},
   "outputs": [],
   "source": [
    "%load_ext autoreload\n",
    "\n",
    "import os, sys\n",
    "import networkx as nx\n",
    "\n",
    "sys.path.insert(0, \"../\")\n",
    "sys.path.insert(0, \"/home/j/joppich/.local/lib/python3.11/site-packages/\")\n",
    "#otherwise leidenalg is used in an outdated version ...\n",
    "\n",
    "import leidenalg as la\n",
    "print(\"la\", la.version)\n",
    "\n",
    "%autoreload 2\n",
    "from mikg.kgraph import *\n",
    "import pandas as pd\n",
    "import numpy as np\n",
    "\n",
    "import matplotlib\n",
    "import matplotlib.pyplot as plt\n",
    "\n",
    "from collections import defaultdict, Counter\n",
    "\n",
    "import random\n",
    "random.seed(42)\n",
    "\n",
    "import pickle"
   ]
  },
  {
   "cell_type": "code",
   "execution_count": null,
   "id": "b4ea6ef0-2071-4502-b4bb-d089c39b7c85",
   "metadata": {},
   "outputs": [],
   "source": [
    "kg = KGraph()\n",
    "kg.load_kgraph(\"../data/initial_base_graph.out\")"
   ]
  },
  {
   "cell_type": "code",
   "execution_count": null,
   "id": "cc015629-703e-4d1f-9ea4-ba7f050e5e74",
   "metadata": {},
   "outputs": [],
   "source": [
    "kg.get_edge_between_type()"
   ]
  },
  {
   "cell_type": "code",
   "execution_count": null,
   "id": "1df6c953-8639-49e4-8a04-54a7d059ed3f",
   "metadata": {},
   "outputs": [],
   "source": [
    "exprDF = pd.read_csv(\"../seq_data/expression_ctzone_mean_df.tsv\", sep=\"\\t\")"
   ]
  },
  {
   "cell_type": "code",
   "execution_count": null,
   "id": "3ba1483b-0d29-4e92-9a82-c890429ae8f0",
   "metadata": {},
   "outputs": [],
   "source": [
    "exprDFs = {}\n",
    "\n",
    "for group in exprDF.group.unique():\n",
    "    exprDFs[group] = exprDF[exprDF.group == group].copy()\n",
    "\n",
    "print([x for x in exprDFs])"
   ]
  },
  {
   "cell_type": "code",
   "execution_count": null,
   "id": "95dc58f6-dbdb-4192-b6b5-f22d53ca9bfa",
   "metadata": {},
   "outputs": [],
   "source": [
    "exprKGs = {}\n",
    "\n",
    "gsa = GenesetAnnotator()\n",
    "mNS = MeanNetworkScorer()\n",
    "\n",
    "for group in exprDFs:\n",
    "    \n",
    "    print(group)\n",
    "    \n",
    "    gKG = KGraph()\n",
    "    \n",
    "    gKG.load_kgraph(\"../data/initial_base_graph.out\")\n",
    "\n",
    "    gKG.add_gene_expression(exprDFs[group])\n",
    "    mNS.score_nodes_from_properties(gKG)\n",
    "\n",
    "    mNS.score(gKG)\n",
    "\n",
    "    gsa.annotate_genesets(gKG, settype=\"disease\", targettype=\"gene\")\n",
    "    gsa.annotate_genesets(gKG, settype=\"geneset\", targettype=\"gene\")\n",
    "    gsa.annotate_genesets(gKG, settype=\"ncRNA\", targettype=\"gene\")\n",
    "    gsa.annotate_genesets(gKG, settype=\"drug\", targettype=[\"gene\", \"disease\"])\n",
    "            \n",
    "    exprKGs[group] = gKG"
   ]
  },
  {
   "cell_type": "code",
   "execution_count": null,
   "id": "866f7829-b815-4a27-872b-d04233dc9cf6",
   "metadata": {},
   "outputs": [],
   "source": [
    "print(len(exprKGs))\n",
    "import pickle\n",
    "\n",
    "with open(\"zone_exprkgs.pickle\", 'wb') as f:\n",
    "    pickle.dump(exprKGs, f)"
   ]
  },
  {
   "cell_type": "code",
   "execution_count": null,
   "id": "b86a5711-a7c1-4b19-a8dc-038520c03999",
   "metadata": {},
   "outputs": [],
   "source": []
  },
  {
   "cell_type": "code",
   "execution_count": null,
   "id": "2761425e-fe1d-4e78-b834-a11595851278",
   "metadata": {},
   "outputs": [],
   "source": []
  },
  {
   "cell_type": "code",
   "execution_count": null,
   "id": "2d64011e-8f92-4d47-9e34-4fc6b71fc5f8",
   "metadata": {},
   "outputs": [],
   "source": []
  },
  {
   "cell_type": "code",
   "execution_count": null,
   "id": "b261918f-3651-4e39-a1b5-d58e48f7fd12",
   "metadata": {},
   "outputs": [],
   "source": []
  },
  {
   "cell_type": "code",
   "execution_count": null,
   "id": "09311030-ea10-4a0e-ae7d-241f3a1969af",
   "metadata": {},
   "outputs": [],
   "source": []
  },
  {
   "cell_type": "code",
   "execution_count": null,
   "id": "69d633a1-8304-44e2-b238-d4bed3378397",
   "metadata": {},
   "outputs": [],
   "source": []
  },
  {
   "cell_type": "code",
   "execution_count": null,
   "id": "6ca84bb7-8340-474b-b14e-8a74d70ff24f",
   "metadata": {},
   "outputs": [],
   "source": []
  }
 ],
 "metadata": {
  "kernelspec": {
   "display_name": "Python 3.11",
   "language": "python",
   "name": "python3"
  },
  "language_info": {
   "codemirror_mode": {
    "name": "ipython",
    "version": 3
   },
   "file_extension": ".py",
   "mimetype": "text/x-python",
   "name": "python",
   "nbconvert_exporter": "python",
   "pygments_lexer": "ipython3",
   "version": "3.11.5"
  }
 },
 "nbformat": 4,
 "nbformat_minor": 5
}
