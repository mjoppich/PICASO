{
 "cells": [
  {
   "cell_type": "code",
   "execution_count": 1,
   "metadata": {},
   "outputs": [],
   "source": [
    "%load_ext autoreload\n",
    "\n",
    "import os, sys\n",
    "import networkx as nx\n",
    "\n",
    "sys.path.insert(0, \"../\")\n",
    "\n",
    "%autoreload 2\n",
    "from mikg.kgraph import KGraph\n",
    "import pandas as pd\n",
    "import numpy as np\n",
    "\n",
    "import matplotlib\n",
    "import matplotlib.pyplot as plt\n",
    "\n",
    "from collections import defaultdict, Counter\n",
    "\n",
    "import random\n",
    "random.seed(42)\n",
    "\n",
    "import pickle"
   ]
  },
  {
   "cell_type": "code",
   "execution_count": 2,
   "metadata": {},
   "outputs": [],
   "source": [
    "kg = KGraph()\n",
    "kg.load_kgraph(\"../data/initial_base_graph.out\")"
   ]
  },
  {
   "cell_type": "code",
   "execution_count": 3,
   "metadata": {},
   "outputs": [
    {
     "data": {
      "text/plain": [
       "Counter({'gene': 51578, 'geneset': 49332, 'disease': 12701, 'drug': 3212})"
      ]
     },
     "execution_count": 3,
     "metadata": {},
     "output_type": "execute_result"
    }
   ],
   "source": [
    "kg.get_node_types()"
   ]
  },
  {
   "cell_type": "code",
   "execution_count": 6,
   "metadata": {},
   "outputs": [],
   "source": [
    "upstreamMap = {}\n",
    "downstreamMap = {}\n",
    "\n",
    "for node in kg.kg.nodes:\n",
    "    \n",
    "    if kg.kg.nodes[node][\"type\"] != \"gene\":\n",
    "        continue  \n",
    "    \n",
    "    preds = [pred for pred in kg.kg.predecessors(node) if kg.kg.nodes[pred][\"type\"] == \"gene\"]\n",
    "    \n",
    "    if len(preds) > 0:\n",
    "        upstreamMap[node] = preds\n",
    "        \n",
    "        \n",
    "    succs = [succ for succ in kg.kg.successors(node) if kg.kg.nodes[succ][\"type\"] == \"gene\"]\n",
    "    \n",
    "    if len(succs) > 0:\n",
    "        downstreamMap[node] = succs"
   ]
  },
  {
   "cell_type": "code",
   "execution_count": 7,
   "metadata": {},
   "outputs": [],
   "source": [
    "def write_gmt_file(ind, prefix, outfile):\n",
    "    \n",
    "    \n",
    "    with open(outfile, \"w\") as outhandle:\n",
    "        for x in ind:\n",
    "            print(\"{prefix}_{name}\\t{prefix}_{name}\\t{genes}\".format(prefix=prefix, name=x, genes=\"\\t\".join(ind[x])), file=outhandle)\n",
    "                \n",
    "    "
   ]
  },
  {
   "cell_type": "code",
   "execution_count": null,
   "metadata": {},
   "outputs": [],
   "source": [
    "write_gmt_file(downstreamMap, \"DOWNTARGETS\", \"gene_downstream_targets.gmt\")\n",
    "write_gmt_file(upstreamMap, \"UPTARGETS\", \"gene_upstream_targets.gmt\")"
   ]
  }
 ],
 "metadata": {
  "kernelspec": {
   "display_name": "Python 3",
   "language": "python",
   "name": "python3"
  },
  "language_info": {
   "codemirror_mode": {
    "name": "ipython",
    "version": 3
   },
   "file_extension": ".py",
   "mimetype": "text/x-python",
   "name": "python",
   "nbconvert_exporter": "python",
   "pygments_lexer": "ipython3",
   "version": "3.8.10"
  },
  "orig_nbformat": 4
 },
 "nbformat": 4,
 "nbformat_minor": 2
}
