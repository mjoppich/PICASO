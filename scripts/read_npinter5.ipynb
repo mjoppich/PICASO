{
 "cells": [
  {
   "cell_type": "code",
   "execution_count": 1,
   "id": "9306ad8a-f474-41fe-b8dd-cb5a5c830236",
   "metadata": {},
   "outputs": [],
   "source": [
    "import os, sys\n",
    "import urllib\n",
    "import zipfile\n",
    "import gzip\n",
    "import pandas as pd\n",
    "\n",
    "from collections import defaultdict, Counter\n",
    "from goatools.anno.gaf_reader import GafReader\n",
    "from goatools.obo_parser import GODag\n",
    "\n",
    "import networkx as nx\n",
    "\n",
    "data_dir = \"../data/\""
   ]
  },
  {
   "cell_type": "code",
   "execution_count": 2,
   "id": "c8ad83af-4443-4af0-aeac-46924a2b321a",
   "metadata": {},
   "outputs": [
    {
     "name": "stdout",
     "output_type": "stream",
     "text": [
      "/usr/local/hdd3/mikg/scripts\n"
     ]
    }
   ],
   "source": [
    "! pwd"
   ]
  },
  {
   "cell_type": "code",
   "execution_count": 3,
   "id": "b1e7378e-4840-4aed-b4d4-a98398210653",
   "metadata": {},
   "outputs": [],
   "source": [
    "def download_and_unzip(download_url_link, dir_path, zipped_filename,destination_dir_name, unzip=True, force_zip=False, force_gz=False):\n",
    "    #https://www.tutorialsbuddy.com/download-and-unzip-a-zipped-file-in-python\n",
    "    print(\"Download starting\")\n",
    "\n",
    "    urllib.request.urlretrieve(\n",
    "        download_url_link, os.path.join(dir_path, zipped_filename)\n",
    "    )\n",
    "    print(\"Download complete\")\n",
    "\n",
    "    if unzip:\n",
    "        print(\"unzipping file starting\")\n",
    "    \n",
    "        if (zipped_filename.endswith(\".zip\") and not force_gz) or force_zip:\n",
    "            with zipfile.ZipFile(os.path.join(dir_path, zipped_filename), \"r\") as zip_file:\n",
    "                zip_file.extractall(os.path.join(dir_path, destination_dir_name))\n",
    "        elif (zipped_filename.endswith(\".gz\") and not force_zip) or force_gz:\n",
    "            print(\"gzfile\")\n",
    "            with gzip.GzipFile(os.path.join(dir_path, zipped_filename), \"rb\") as zip_file:\n",
    "                destname = os.path.join(dir_path, destination_dir_name, os.path.basename(zipped_filename).replace(\".gz\", \"\"))\n",
    "                print(destname)\n",
    "                with open(destname, \"wb\") as fout:\n",
    "                    fout.write(zip_file.read())\n",
    "        else:\n",
    "            raise NotImplementedError(\"NO CASE\")\n",
    "            \n",
    "    \n",
    "    print(\"unzipping complete\")"
   ]
  },
  {
   "cell_type": "code",
   "execution_count": 4,
   "id": "4308706a-6f81-4e13-be13-af4ae5656c3a",
   "metadata": {},
   "outputs": [
    {
     "name": "stdout",
     "output_type": "stream",
     "text": [
      "Download starting\n",
      "Download complete\n",
      "unzipping file starting\n",
      "unzipping complete\n"
     ]
    }
   ],
   "source": [
    "npinterFile = os.path.join(data_dir,\"interaction_NPInterv5.txt\")\n",
    "\n",
    "if not os.path.exists(npinterFile):\n",
    "    download_and_unzip(\"http://bigdata.ibp.ac.cn/npinter5/download/file/interaction_NPInterv5.txt.gz\", \".\", os.path.join(data_dir,\"interaction_NPInterv5.txt.gz\"), data_dir, force_zip=True)"
   ]
  },
  {
   "cell_type": "code",
   "execution_count": 5,
   "id": "3880a181-4ba2-4f05-8ad6-694b2e626efc",
   "metadata": {},
   "outputs": [
    {
     "name": "stdout",
     "output_type": "stream",
     "text": [
      "interID\tncName\tncID\tncType\ttarName\ttarID\ttarType\tinterDescription\texperiment\treference\torganism\ttissueOrCell\ttag\tclass\tlevel\tdatasource\n",
      "ncRI-40000001\t4.5S\tNONOTHNOBEDT000074\tlncRNA\trpoD\tP0A6M8\tprotein\tFollowing translocation, 4.5S RNA replaces 23S rRNA as a binding site for EF-G. This replacement promotes the dissociation of EF-G from the ribosome. GDP has positive effects on the RNA binding.The conserved decanucleotide sequence (5-GAAGCAGCCA-3) of 4.5S RNA, competed with the 23S rRNA region defining the EF-G-binding site.\tImmunoprecipitation experiments;EMSA;SDS-polyacrylamide gel electrophoresis\t8662727;8107852;1281314\tEscherichia coli\t-\tncRNA-protein binding\tbinding\tRNA-Protein\tLiterature mining\n",
      "ncRI-40000002\t6S\tNONOTHNOBEDT000078\tlncRNA\trpoB\tM1FYN7\tprotein\tUV crosslinking experiments revealed that 6S RNA contacts the sigma70 and beta/beta' subunits.\tcross-linking\t10892648\tEscherichia coli\t-\tncRNA-protein binding\tbinding\tRNA-Protein\tLiterature mining\n",
      "ncRI-40000003\t6S\tNONOTHNOBEDT000078\tlncRNA\trpoD\tP00579\tprotein\tThe stable association of sigma70 with core enzyme in extracts is only observed in the presence of high levels of 6S RNA. During stationary phase, 6S RNA represses expression from a subset of sigma70-dependent promoters containing an extended -10 promoter element.\tcross-linking\t10892648\tEscherichia coli\t-\tncRNA-protein binding\tbinding\tRNA-Protein\tLiterature mining\n",
      "ncRI-40000004\t7SK\tNONHSAG040596\tlncRNA\tMYC\tNM_002467\tprotein\tElectrophoretic mobility shift experiment indicates that 7SK RNP participates in transformation-dependent deregulation of the c-myc gene by activation of two c-myc minor promoters.\tEMSA\t9018369\tHomo sapiens\t-\tregulatory;promoter as action site\tregulatory\tRNA-RNA\tLiterature mining\n",
      "ncRI-40000005\t7SK\tNONHSAG040596\tlncRNA\tABO\tNM_020469\tprotein\tPromoters pU6 and p7SK proved to express high levels of siRNA activity and can be used in the experiment of silencing alpha-1,3galactosyltransferase gene.\t-\t22522162\tHomo sapiens\t-\tregulatory\tregulatory\tRNA-RNA\tLiterature mining\n",
      "ncRI-40000006\t7SK\tNONHSAG040596\tlncRNA\tHEXIM1\tO94992\tprotein\tBinding of the 7SK snRNA turns the HEXIM1 protein into a P-TEFb (CDK9/cyclin T) inhibitor.\tYeast two-hybrid analysis;Immunofluorescence;Mass spectrometry\t15201869;15994294;17671421;20675720;20926576;19239885;20808803;19244621;22609015;18407829;12832472\tHomo sapiens\t-\tncRNA-protein binding\tbinding\tRNA-Protein\tLiterature mining\n",
      "ncRI-40000007\t7SK\tNONHSAG040596\tlncRNA\tOct1\tP20263\tprotein\tPTF and Oct-1 enhance transcription from the 7SK promoter in an interdependent manner.\t-\t1535687\tHomo sapiens\t-\tncRNA is regulated\tregulatory\tDNA-TF\tLiterature mining\n",
      "ncRI-40000008\t7SK\tNONHSAG040596\tlncRNA\tTat\tP17735\tprotein\tTat efficiently replaces HEXIM1 on the 7SK snRNA in vivo and therefore, it promotes the disassembly of the 7SK/HEXIM/P-TEFb negative transcriptional regulatory snRNP to augment the nuclear level of active P-TEFb.\t-\t20976203;20471949\tHomo sapiens\t-\tncRNA-protein binding\tbinding\tRNA-Protein\tLiterature mining\n",
      "ncRI-40000009\t7SK\tNONHSAG040596\tlncRNA\tCDK9\tP50750\tprotein\tNorthern hybridization was performed to confirm that the CDK9-associated 110K RNA was 7SK. 7SK inhibits general and HIV-1 Tat specific transcriptional activities of P-TEFb in vivo and in vitro by inhibiting the kinase activity of CDK9 and preventing recruitment of P-TEFb to the HIV-1 promoter.\tNorthern Blot\t21098020;11713532\tHomo sapiens\t-\tncRNA-protein binding\tbinding\tRNA-Protein\tLiterature mining\n"
     ]
    }
   ],
   "source": [
    "! head \"../data/interaction_NPInterv5.txt\""
   ]
  },
  {
   "cell_type": "code",
   "execution_count": 6,
   "id": "4db32b02-9243-44ea-afcb-a06badabea60",
   "metadata": {},
   "outputs": [
    {
     "name": "stderr",
     "output_type": "stream",
     "text": [
      "/tmp/ipykernel_1804836/2846811814.py:1: DtypeWarning: Columns (9) have mixed types. Specify dtype option on import or set low_memory=False.\n",
      "  df = pd.read_csv(\"../data/interaction_NPInterv5.txt\", sep=\"\\t\")\n"
     ]
    }
   ],
   "source": [
    "df = pd.read_csv(\"../data/interaction_NPInterv5.txt\", sep=\"\\t\")\n",
    "df = df[df.organism == \"Homo sapiens\"].copy()"
   ]
  },
  {
   "cell_type": "code",
   "execution_count": 7,
   "id": "e5281a2e-230c-488e-b8db-18cf4ce46538",
   "metadata": {},
   "outputs": [
    {
     "data": {
      "text/plain": [
       "(1423235, 16)"
      ]
     },
     "execution_count": 7,
     "metadata": {},
     "output_type": "execute_result"
    }
   ],
   "source": [
    "df.shape"
   ]
  },
  {
   "cell_type": "code",
   "execution_count": 8,
   "id": "5d1e51fb-ebca-438c-8fc9-b0f7e40458d8",
   "metadata": {},
   "outputs": [
    {
     "data": {
      "text/html": [
       "<div>\n",
       "<style scoped>\n",
       "    .dataframe tbody tr th:only-of-type {\n",
       "        vertical-align: middle;\n",
       "    }\n",
       "\n",
       "    .dataframe tbody tr th {\n",
       "        vertical-align: top;\n",
       "    }\n",
       "\n",
       "    .dataframe thead th {\n",
       "        text-align: right;\n",
       "    }\n",
       "</style>\n",
       "<table border=\"1\" class=\"dataframe\">\n",
       "  <thead>\n",
       "    <tr style=\"text-align: right;\">\n",
       "      <th></th>\n",
       "      <th>interID</th>\n",
       "      <th>ncName</th>\n",
       "      <th>ncID</th>\n",
       "      <th>ncType</th>\n",
       "      <th>tarName</th>\n",
       "      <th>tarID</th>\n",
       "      <th>tarType</th>\n",
       "      <th>interDescription</th>\n",
       "      <th>experiment</th>\n",
       "      <th>reference</th>\n",
       "      <th>organism</th>\n",
       "      <th>tissueOrCell</th>\n",
       "      <th>tag</th>\n",
       "      <th>class</th>\n",
       "      <th>level</th>\n",
       "      <th>datasource</th>\n",
       "    </tr>\n",
       "  </thead>\n",
       "  <tbody>\n",
       "    <tr>\n",
       "      <th>3</th>\n",
       "      <td>ncRI-40000004</td>\n",
       "      <td>7SK</td>\n",
       "      <td>NONHSAG040596</td>\n",
       "      <td>lncRNA</td>\n",
       "      <td>MYC</td>\n",
       "      <td>NM_002467</td>\n",
       "      <td>protein</td>\n",
       "      <td>Electrophoretic mobility shift experiment indi...</td>\n",
       "      <td>EMSA</td>\n",
       "      <td>9018369</td>\n",
       "      <td>Homo sapiens</td>\n",
       "      <td>-</td>\n",
       "      <td>regulatory;promoter as action site</td>\n",
       "      <td>regulatory</td>\n",
       "      <td>RNA-RNA</td>\n",
       "      <td>Literature mining</td>\n",
       "    </tr>\n",
       "    <tr>\n",
       "      <th>4</th>\n",
       "      <td>ncRI-40000005</td>\n",
       "      <td>7SK</td>\n",
       "      <td>NONHSAG040596</td>\n",
       "      <td>lncRNA</td>\n",
       "      <td>ABO</td>\n",
       "      <td>NM_020469</td>\n",
       "      <td>protein</td>\n",
       "      <td>Promoters pU6 and p7SK proved to express high ...</td>\n",
       "      <td>-</td>\n",
       "      <td>22522162</td>\n",
       "      <td>Homo sapiens</td>\n",
       "      <td>-</td>\n",
       "      <td>regulatory</td>\n",
       "      <td>regulatory</td>\n",
       "      <td>RNA-RNA</td>\n",
       "      <td>Literature mining</td>\n",
       "    </tr>\n",
       "    <tr>\n",
       "      <th>5</th>\n",
       "      <td>ncRI-40000006</td>\n",
       "      <td>7SK</td>\n",
       "      <td>NONHSAG040596</td>\n",
       "      <td>lncRNA</td>\n",
       "      <td>HEXIM1</td>\n",
       "      <td>O94992</td>\n",
       "      <td>protein</td>\n",
       "      <td>Binding of the 7SK snRNA turns the HEXIM1 prot...</td>\n",
       "      <td>Yeast two-hybrid analysis;Immunofluorescence;M...</td>\n",
       "      <td>15201869;15994294;17671421;20675720;20926576;1...</td>\n",
       "      <td>Homo sapiens</td>\n",
       "      <td>-</td>\n",
       "      <td>ncRNA-protein binding</td>\n",
       "      <td>binding</td>\n",
       "      <td>RNA-Protein</td>\n",
       "      <td>Literature mining</td>\n",
       "    </tr>\n",
       "    <tr>\n",
       "      <th>6</th>\n",
       "      <td>ncRI-40000007</td>\n",
       "      <td>7SK</td>\n",
       "      <td>NONHSAG040596</td>\n",
       "      <td>lncRNA</td>\n",
       "      <td>Oct1</td>\n",
       "      <td>P20263</td>\n",
       "      <td>protein</td>\n",
       "      <td>PTF and Oct-1 enhance transcription from the 7...</td>\n",
       "      <td>-</td>\n",
       "      <td>1535687</td>\n",
       "      <td>Homo sapiens</td>\n",
       "      <td>-</td>\n",
       "      <td>ncRNA is regulated</td>\n",
       "      <td>regulatory</td>\n",
       "      <td>DNA-TF</td>\n",
       "      <td>Literature mining</td>\n",
       "    </tr>\n",
       "    <tr>\n",
       "      <th>7</th>\n",
       "      <td>ncRI-40000008</td>\n",
       "      <td>7SK</td>\n",
       "      <td>NONHSAG040596</td>\n",
       "      <td>lncRNA</td>\n",
       "      <td>Tat</td>\n",
       "      <td>P17735</td>\n",
       "      <td>protein</td>\n",
       "      <td>Tat efficiently replaces HEXIM1 on the 7SK snR...</td>\n",
       "      <td>-</td>\n",
       "      <td>20976203;20471949</td>\n",
       "      <td>Homo sapiens</td>\n",
       "      <td>-</td>\n",
       "      <td>ncRNA-protein binding</td>\n",
       "      <td>binding</td>\n",
       "      <td>RNA-Protein</td>\n",
       "      <td>Literature mining</td>\n",
       "    </tr>\n",
       "  </tbody>\n",
       "</table>\n",
       "</div>"
      ],
      "text/plain": [
       "         interID ncName           ncID  ncType tarName      tarID  tarType   \n",
       "3  ncRI-40000004    7SK  NONHSAG040596  lncRNA     MYC  NM_002467  protein  \\\n",
       "4  ncRI-40000005    7SK  NONHSAG040596  lncRNA     ABO  NM_020469  protein   \n",
       "5  ncRI-40000006    7SK  NONHSAG040596  lncRNA  HEXIM1     O94992  protein   \n",
       "6  ncRI-40000007    7SK  NONHSAG040596  lncRNA    Oct1     P20263  protein   \n",
       "7  ncRI-40000008    7SK  NONHSAG040596  lncRNA     Tat     P17735  protein   \n",
       "\n",
       "                                    interDescription   \n",
       "3  Electrophoretic mobility shift experiment indi...  \\\n",
       "4  Promoters pU6 and p7SK proved to express high ...   \n",
       "5  Binding of the 7SK snRNA turns the HEXIM1 prot...   \n",
       "6  PTF and Oct-1 enhance transcription from the 7...   \n",
       "7  Tat efficiently replaces HEXIM1 on the 7SK snR...   \n",
       "\n",
       "                                          experiment   \n",
       "3                                               EMSA  \\\n",
       "4                                                  -   \n",
       "5  Yeast two-hybrid analysis;Immunofluorescence;M...   \n",
       "6                                                  -   \n",
       "7                                                  -   \n",
       "\n",
       "                                           reference      organism   \n",
       "3                                            9018369  Homo sapiens  \\\n",
       "4                                           22522162  Homo sapiens   \n",
       "5  15201869;15994294;17671421;20675720;20926576;1...  Homo sapiens   \n",
       "6                                            1535687  Homo sapiens   \n",
       "7                                  20976203;20471949  Homo sapiens   \n",
       "\n",
       "  tissueOrCell                                 tag       class        level   \n",
       "3            -  regulatory;promoter as action site  regulatory      RNA-RNA  \\\n",
       "4            -                          regulatory  regulatory      RNA-RNA   \n",
       "5            -               ncRNA-protein binding     binding  RNA-Protein   \n",
       "6            -                  ncRNA is regulated  regulatory       DNA-TF   \n",
       "7            -               ncRNA-protein binding     binding  RNA-Protein   \n",
       "\n",
       "          datasource  \n",
       "3  Literature mining  \n",
       "4  Literature mining  \n",
       "5  Literature mining  \n",
       "6  Literature mining  \n",
       "7  Literature mining  "
      ]
     },
     "execution_count": 8,
     "metadata": {},
     "output_type": "execute_result"
    }
   ],
   "source": [
    "df.head()"
   ]
  },
  {
   "cell_type": "code",
   "execution_count": 9,
   "id": "e12cbbc7-964e-49f5-b83b-431930f151fd",
   "metadata": {},
   "outputs": [
    {
     "data": {
      "text/plain": [
       "{'binding; regulatory': 'binding;regulatory',\n",
       " 'binding;': 'binding',\n",
       " 'binding': 'binding',\n",
       " 'expression correlation': 'expression correlation',\n",
       " '-': '-',\n",
       " 'binding;regulatory': 'binding;regulatory',\n",
       " 'coexpression': 'coexpression',\n",
       " 'regulatory': 'regulatory'}"
      ]
     },
     "execution_count": 9,
     "metadata": {},
     "output_type": "execute_result"
    }
   ],
   "source": [
    "colMap = {\n",
    "    'binding; regulatory': 'binding;regulatory',\n",
    "    'binding;': \"binding\"\n",
    "}\n",
    "\n",
    "for x in set(df[\"class\"]):\n",
    "    if not x in colMap:\n",
    "        colMap[x]=x\n",
    "colMap"
   ]
  },
  {
   "cell_type": "code",
   "execution_count": 10,
   "id": "de4295e3-ea4c-4713-a517-8d9f8a663885",
   "metadata": {},
   "outputs": [],
   "source": [
    "df[\"class\"]=df[\"class\"].map(colMap)"
   ]
  },
  {
   "cell_type": "code",
   "execution_count": 11,
   "id": "e0e7beea-7c2f-4f0c-99e0-5e6dd7552c40",
   "metadata": {},
   "outputs": [
    {
     "data": {
      "text/plain": [
       "Counter({'regulatory': 5896,\n",
       "         'binding': 1297058,\n",
       "         'coexpression': 60,\n",
       "         'expression correlation': 124,\n",
       "         'binding;regulatory': 120094,\n",
       "         '-': 3})"
      ]
     },
     "execution_count": 11,
     "metadata": {},
     "output_type": "execute_result"
    }
   ],
   "source": [
    "Counter(df[\"class\"])"
   ]
  },
  {
   "cell_type": "code",
   "execution_count": 12,
   "id": "ca5617cf-5309-4dce-8753-6bb7ecf45a70",
   "metadata": {},
   "outputs": [
    {
     "data": {
      "text/plain": [
       "Counter({'protein': 516016,\n",
       "         'miRNA': 123162,\n",
       "         'lncRNA': 8414,\n",
       "         'mRNA': 765436,\n",
       "         'DNA': 3,\n",
       "         'snRNA': 1613,\n",
       "         'Protein': 2,\n",
       "         'circRNA': 283,\n",
       "         'ncRNA': 4678,\n",
       "         'pseudogene': 3455,\n",
       "         'snoRNA': 170,\n",
       "         'Pseudogene': 1,\n",
       "         'TF': 2})"
      ]
     },
     "execution_count": 12,
     "metadata": {},
     "output_type": "execute_result"
    }
   ],
   "source": [
    "Counter(df[\"tarType\"])"
   ]
  },
  {
   "cell_type": "code",
   "execution_count": 13,
   "id": "bd6388bf-66d4-463e-a2a0-ad0489e95549",
   "metadata": {},
   "outputs": [
    {
     "data": {
      "text/plain": [
       "Counter({'lncRNA': 643173,\n",
       "         'miRNA': 756147,\n",
       "         'ncRNA': 6669,\n",
       "         'circRNA': 987,\n",
       "         'vtRNAs': 1,\n",
       "         'snoRNA': 215,\n",
       "         'snRNA': 1229,\n",
       "         'mRNA': 11410,\n",
       "         'protein': 21,\n",
       "         'pseudogene': 3383})"
      ]
     },
     "execution_count": 13,
     "metadata": {},
     "output_type": "execute_result"
    }
   ],
   "source": [
    "Counter(df[\"ncType\"])"
   ]
  },
  {
   "cell_type": "code",
   "execution_count": 14,
   "id": "62af6e06-ffae-4424-b979-6ac0b70d709a",
   "metadata": {},
   "outputs": [],
   "source": [
    "type2kgtype = {'miRNA': \"ncRNA\",\n",
    "         'lncRNA': \"ncRNA\",\n",
    "         'snoRNA': \"ncRNA\",\n",
    "         'mRNA': \"gene\",\n",
    "         'snRNA': \"ncRNA\",\n",
    "         'ncRNA': \"ncRNA\",\n",
    "         'pseudogene': \"gene\",\n",
    "         'Pseudogene': \"gene\",\n",
    "         'circRNA': \"ncRNA\",\n",
    "         'protein': \"gene\",\n",
    "         'Protein': \"gene\",\n",
    "         'sRNA': \"ncRNA\",\n",
    "         'vtRNAs': \"ncRNA\",\n",
    "         'piRNAs': \"ncRNA\",\n",
    "        \"DNA\": None,\n",
    "              \"TF\": \"gene\"}"
   ]
  },
  {
   "cell_type": "code",
   "execution_count": 15,
   "id": "960b877b-9f77-45e6-a536-bb6f81349511",
   "metadata": {},
   "outputs": [
    {
     "data": {
      "text/html": [
       "<div>\n",
       "<style scoped>\n",
       "    .dataframe tbody tr th:only-of-type {\n",
       "        vertical-align: middle;\n",
       "    }\n",
       "\n",
       "    .dataframe tbody tr th {\n",
       "        vertical-align: top;\n",
       "    }\n",
       "\n",
       "    .dataframe thead th {\n",
       "        text-align: right;\n",
       "    }\n",
       "</style>\n",
       "<table border=\"1\" class=\"dataframe\">\n",
       "  <thead>\n",
       "    <tr style=\"text-align: right;\">\n",
       "      <th></th>\n",
       "      <th>interID</th>\n",
       "      <th>ncName</th>\n",
       "      <th>ncID</th>\n",
       "      <th>ncType</th>\n",
       "      <th>tarName</th>\n",
       "      <th>tarID</th>\n",
       "      <th>tarType</th>\n",
       "      <th>interDescription</th>\n",
       "      <th>experiment</th>\n",
       "      <th>reference</th>\n",
       "      <th>organism</th>\n",
       "      <th>tissueOrCell</th>\n",
       "      <th>tag</th>\n",
       "      <th>class</th>\n",
       "      <th>level</th>\n",
       "      <th>datasource</th>\n",
       "    </tr>\n",
       "  </thead>\n",
       "  <tbody>\n",
       "    <tr>\n",
       "      <th>969296</th>\n",
       "      <td>ncRI-40969297</td>\n",
       "      <td>AC026904.1</td>\n",
       "      <td>ENSG00000233858</td>\n",
       "      <td>lncRNA</td>\n",
       "      <td>the promoter region of SLUG</td>\n",
       "      <td>-</td>\n",
       "      <td>DNA</td>\n",
       "      <td>these results supported the notion that AC0269...</td>\n",
       "      <td>Chromatin isolation by RNA purification (ChIRP...</td>\n",
       "      <td>29774079</td>\n",
       "      <td>Homo sapiens</td>\n",
       "      <td>MDA-MB-231</td>\n",
       "      <td>regulatory</td>\n",
       "      <td>binding</td>\n",
       "      <td>RNA-DNA</td>\n",
       "      <td>Literature Mining</td>\n",
       "    </tr>\n",
       "    <tr>\n",
       "      <th>969402</th>\n",
       "      <td>ncRI-40969403</td>\n",
       "      <td>SNHG1</td>\n",
       "      <td>NONHSAG008552</td>\n",
       "      <td>lncRNA</td>\n",
       "      <td>SNHG1 locus</td>\n",
       "      <td>-</td>\n",
       "      <td>DNA</td>\n",
       "      <td>The existence of these regulatory signals indi...</td>\n",
       "      <td>chromatin isolation by RNA purification (ChIRP...</td>\n",
       "      <td>28825722</td>\n",
       "      <td>Homo sapiens</td>\n",
       "      <td>HCT116</td>\n",
       "      <td>regulatory</td>\n",
       "      <td>regulatory</td>\n",
       "      <td>RNA-DNA</td>\n",
       "      <td>Literature Mining</td>\n",
       "    </tr>\n",
       "    <tr>\n",
       "      <th>969724</th>\n",
       "      <td>ncRI-40969725</td>\n",
       "      <td>HOTAIR</td>\n",
       "      <td>NONHSAG011264</td>\n",
       "      <td>lncRNA</td>\n",
       "      <td>promoter of miR-34a</td>\n",
       "      <td>-</td>\n",
       "      <td>DNA</td>\n",
       "      <td>EZH2 coupled with HOTAIR to inhibit miR-34a in...</td>\n",
       "      <td>ChIRP assay</td>\n",
       "      <td>27594424</td>\n",
       "      <td>Homo sapiens</td>\n",
       "      <td>SW1990</td>\n",
       "      <td>promoter as action site;regulatory</td>\n",
       "      <td>binding</td>\n",
       "      <td>RNA-DNA</td>\n",
       "      <td>Literature Mining</td>\n",
       "    </tr>\n",
       "  </tbody>\n",
       "</table>\n",
       "</div>"
      ],
      "text/plain": [
       "              interID      ncName             ncID  ncType   \n",
       "969296  ncRI-40969297  AC026904.1  ENSG00000233858  lncRNA  \\\n",
       "969402  ncRI-40969403       SNHG1    NONHSAG008552  lncRNA   \n",
       "969724  ncRI-40969725      HOTAIR    NONHSAG011264  lncRNA   \n",
       "\n",
       "                            tarName tarID tarType   \n",
       "969296  the promoter region of SLUG     -     DNA  \\\n",
       "969402                  SNHG1 locus     -     DNA   \n",
       "969724          promoter of miR-34a     -     DNA   \n",
       "\n",
       "                                         interDescription   \n",
       "969296  these results supported the notion that AC0269...  \\\n",
       "969402  The existence of these regulatory signals indi...   \n",
       "969724  EZH2 coupled with HOTAIR to inhibit miR-34a in...   \n",
       "\n",
       "                                               experiment reference   \n",
       "969296  Chromatin isolation by RNA purification (ChIRP...  29774079  \\\n",
       "969402  chromatin isolation by RNA purification (ChIRP...  28825722   \n",
       "969724                                        ChIRP assay  27594424   \n",
       "\n",
       "            organism tissueOrCell                                 tag   \n",
       "969296  Homo sapiens   MDA-MB-231                          regulatory  \\\n",
       "969402  Homo sapiens       HCT116                          regulatory   \n",
       "969724  Homo sapiens       SW1990  promoter as action site;regulatory   \n",
       "\n",
       "             class    level         datasource  \n",
       "969296     binding  RNA-DNA  Literature Mining  \n",
       "969402  regulatory  RNA-DNA  Literature Mining  \n",
       "969724     binding  RNA-DNA  Literature Mining  "
      ]
     },
     "execution_count": 15,
     "metadata": {},
     "output_type": "execute_result"
    }
   ],
   "source": [
    "df[df[\"tarType\"] == \"DNA\"]"
   ]
  },
  {
   "cell_type": "code",
   "execution_count": 16,
   "id": "f676ab1d-cd43-4ec3-b3fc-dfd3792c5b79",
   "metadata": {},
   "outputs": [
    {
     "name": "stdout",
     "output_type": "stream",
     "text": [
      "3 7SK NONHSAG040596 lncRNA MYC NM_002467 protein regulatory ncRI-40000004\n",
      "126456 DNAJA1 NONHSAG052013 lncRNA TARBP2 Q15633 protein binding ncRI-40126457\n",
      "423774 RP11-346I3.4 NONHSAG099517 lncRNA CSTF2T Q9H0L4 protein binding ncRI-40423775\n",
      "523774 CTB-152G17.6 NONHSAG097241 lncRNA HLTF Q14527 protein binding ncRI-40523775\n",
      "639532 miR-16-1-3p MI0000070 miRNA OAZ1 ENSG00000104904 mRNA binding ncRI-40639533\n",
      "739750 miR-4323 MI0015853 miRNA OTUD7B ENSG00000163113 mRNA binding ncRI-40739751\n",
      "840540 miR-641 MI0003656 miRNA GORASP2 ENSG00000115806 mRNA binding ncRI-40840541\n",
      "959280 miR-590-3p MI0003602 miRNA TMEM87A ENSG00000103978 mRNA binding ncRI-40959281\n",
      "1177748 AC016168.2 ENSG00000267568 lncRNA IGF2BP1 Q9NZI8 protein binding ncRI-50076504\n",
      "1295934 miR-30b-5p MI0000441 miRNA SMARCA5 ENSG00000153147 mRNA binding ncRI-50193818\n",
      "1395934 miR-449a MI0001648 miRNA EIF5 ENSG00000100664 mRNA binding ncRI-50293818\n",
      "1495934 miR-188-3p MI0000484 miRNA TUSC2 ENSG00000114383 mRNA binding ncRI-50393818\n",
      "1595934 miR-548t-5p MI0014164 miRNA MED17 ENSG00000042429 mRNA binding ncRI-50493818\n",
      "added 1294487 entries\n"
     ]
    }
   ],
   "source": [
    "import numpy as np\n",
    "\n",
    "kg = nx.DiGraph()\n",
    "added = 0\n",
    "\n",
    "for ri, row in df.iterrows():\n",
    "\n",
    "    ncName = row[\"ncName\"]\n",
    "    ncID = row[\"ncID\"]\n",
    "    ncType = row[\"ncType\"]\n",
    "\n",
    "    tarName = row[\"tarName\"]\n",
    "    tarID = row[\"tarID\"]\n",
    "    tarType = row[\"tarType\"]\n",
    "\n",
    "    intClass = row[\"class\"]\n",
    "    intID = row[\"interID\"]\n",
    "    intSource = row[\"datasource\"]\n",
    "\n",
    "    if type(ncID) == float:\n",
    "        if np.isnan(ncID):\n",
    "            ncID = ncName\n",
    "            \n",
    "    if type(tarID) == float:\n",
    "        if np.isnan(tarID):\n",
    "            tarID = tarName\n",
    "\n",
    "\n",
    "    if ncName.startswith(\"hsa-\"):\n",
    "        ncName = ncName[4:]\n",
    "\n",
    "    kgNcType = type2kgtype[ncType]\n",
    "    kgTarType = type2kgtype[tarType]\n",
    "\n",
    "    if not \"gene\" in [kgNcType, kgTarType]:\n",
    "        continue\n",
    "        \n",
    "    if None in [kgNcType, kgTarType]:\n",
    "        continue\n",
    "\n",
    "    if added % 100000 == 0:\n",
    "        print(ri, ncName, ncID, ncType, tarName, tarID, tarType, intClass, intID)\n",
    "\n",
    "    if not ncName in kg.nodes:\n",
    "        kg.add_node(ncName, id=ncID, name=ncName, type=kgNcType, biotype=ncType, score=0)\n",
    "\n",
    "    if not tarName in kg.nodes:\n",
    "        kg.add_node(tarName, id=tarID, name=tarName, type=kgTarType, biotype=tarType, score=0)\n",
    "\n",
    "    kg.add_edge(ncName, tarName, type=\"interacts\", score=0, source=\"npinter5\", source_type=intClass, source_id=intID)\n",
    "\n",
    "    added += 1\n",
    "\n",
    "print(\"added\", added, \"entries\")"
   ]
  },
  {
   "cell_type": "code",
   "execution_count": 17,
   "id": "0add3cd7-73f7-4db6-8332-e1b0970f5fe7",
   "metadata": {},
   "outputs": [
    {
     "data": {
      "text/plain": [
       "Counter({'ncRNA': 56739, 'gene': 12581})"
      ]
     },
     "execution_count": 17,
     "metadata": {},
     "output_type": "execute_result"
    }
   ],
   "source": [
    "Counter([kg.nodes[x][\"type\"] for x in kg.nodes])"
   ]
  },
  {
   "cell_type": "code",
   "execution_count": null,
   "id": "e52887c4-4550-4db9-8925-afe1d56baad2",
   "metadata": {},
   "outputs": [],
   "source": []
  },
  {
   "cell_type": "code",
   "execution_count": null,
   "id": "41c3972e-1159-4e0b-b948-b70b380a6ab6",
   "metadata": {},
   "outputs": [],
   "source": []
  },
  {
   "cell_type": "code",
   "execution_count": null,
   "id": "14ecb5fe-623e-4a4c-86d3-0afb607e11bd",
   "metadata": {},
   "outputs": [],
   "source": []
  },
  {
   "cell_type": "code",
   "execution_count": null,
   "id": "d82aaec9-fd72-4b0c-ba56-2f3e1ca922d5",
   "metadata": {},
   "outputs": [],
   "source": []
  },
  {
   "cell_type": "code",
   "execution_count": null,
   "id": "21df3c29-2b13-4131-852c-e08a28b900db",
   "metadata": {},
   "outputs": [],
   "source": []
  },
  {
   "cell_type": "code",
   "execution_count": null,
   "id": "7fa5de7a-c714-48e7-9924-5d5806903df9",
   "metadata": {},
   "outputs": [],
   "source": []
  },
  {
   "cell_type": "code",
   "execution_count": null,
   "id": "58799957-af27-40f2-a5c7-b20a49900e84",
   "metadata": {},
   "outputs": [],
   "source": []
  },
  {
   "cell_type": "code",
   "execution_count": null,
   "id": "1b3c7fef-6350-4c91-82aa-82aa4ee71463",
   "metadata": {},
   "outputs": [],
   "source": []
  }
 ],
 "metadata": {
  "kernelspec": {
   "display_name": "Python 3 (ipykernel)",
   "language": "python",
   "name": "python3"
  },
  "language_info": {
   "codemirror_mode": {
    "name": "ipython",
    "version": 3
   },
   "file_extension": ".py",
   "mimetype": "text/x-python",
   "name": "python",
   "nbconvert_exporter": "python",
   "pygments_lexer": "ipython3",
   "version": "3.8.10"
  }
 },
 "nbformat": 4,
 "nbformat_minor": 5
}
